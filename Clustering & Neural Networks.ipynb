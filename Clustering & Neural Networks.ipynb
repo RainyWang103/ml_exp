{
 "cells": [
  {
   "cell_type": "markdown",
   "metadata": {
    "slideshow": {
     "slide_type": "slide"
    }
   },
   "source": [
    "# Assignment 6 Clustering & NN (ch11&13)\n",
    "\n",
    "## Wang Yuli 3035028946\n",
    "\n",
    "This assignment has weighting $3.5$.\n",
    "The first question about clustering has 35%, and the second question about tiny image classification has 65%.\n",
    "\n",
    "This is a challenging assignment, so I recommend you start early."
   ]
  },
  {
   "cell_type": "markdown",
   "metadata": {
    "slideshow": {
     "slide_type": "slide"
    }
   },
   "source": [
    "# Clustering for handwritten digits\n",
    "\n",
    "Supervised learning requires labeled data, which can be expensive to acquire.\n",
    "For example, a dataset with $N$ samples for classification will require manual labeling $N$ times.\n",
    "\n",
    "One way to ameliorate this issue is to perform clustering of the raw data samples first, followed by manual inspection and labeling of only a few samples.\n",
    "Recall that clustering is a form of non-supervised learning, so it does not require any class labels.\n",
    "\n",
    "For example, say we are given a set of scanned hand-written digit images.\n",
    "We can cluster them into 10 groups first, manually inspect and label a few images in each cluster, and propagate the label towards the rest of all (unlabeled) samples in each cluster.\n",
    "\n",
    "The accuracy of such semi-automatic labeling depends on the accuracy of the clustering.\n",
    "If each cluster (0 to 9) corresponds exactly to hand-written digits 0-9, we are fine.\n",
    "Otherwise, we have some mis-labeled data.\n",
    "\n",
    "The goal of this question is to exercise clustering of the scikit-learn digits dataset which has labels, so that we can verify our clustering accuracy.\n",
    "The specifics are as follows.\n",
    "\n",
    "You will be judged by the test accuracy of your code, and quality of descriptions of your method.\n",
    "As a reference, a simple code I (Li-Yi) wrote can achieve about 78% accuracy. Try to beat it as much as you can."
   ]
  },
  {
   "cell_type": "markdown",
   "metadata": {
    "slideshow": {
     "slide_type": "subslide"
    }
   },
   "source": [
    "## Training and test data split\n",
    "\n",
    "We will split the original dataset into training and test datasets\n",
    "* training for building our clusters\n",
    "* testing to see if the clusters can predict future data\n",
    "\n",
    "## Accuracy\n",
    "What is your clustering accuracy (comparing cluster labels with the ground truth labels), and what are the properties of mis-clustered samples?\n",
    "\n",
    "## Data preprocessing\n",
    "Would the original features (pixels) work well, or we need further processing like scaling/standardization or dimensionality-reduction, before clustering?\n",
    "\n",
    "## Models and hyper-parameters\n",
    "\n",
    "Let's focus on k-means clustering, as hierarchical and density-based clustering do not provide the predict() method under scikit-learn.\n",
    "\n",
    "What is the best test performance you can achieve with which hyper-parameters (for k-means, standard scalar, and dimensionality reduction)?\n",
    "\n",
    "### Hint\n",
    "We have learned Pipeline and GridSearchCV for cross validation and hyper-parameter tuning."
   ]
  },
  {
   "cell_type": "code",
   "execution_count": 13,
   "metadata": {
    "collapsed": false,
    "slideshow": {
     "slide_type": "skip"
    }
   },
   "outputs": [
    {
     "name": "stdout",
     "output_type": "stream",
     "text": [
      "The watermark extension is already loaded. To reload it, use:\n",
      "  %reload_ext watermark\n",
      "last updated: 2016-12-19 \n",
      "\n",
      "CPython 3.5.2\n",
      "IPython 4.2.0\n",
      "\n",
      "numpy 1.11.1\n",
      "pandas 0.18.1\n",
      "matplotlib 1.5.1\n",
      "scipy 0.17.1\n",
      "sklearn 0.18\n"
     ]
    }
   ],
   "source": [
    "%load_ext watermark\n",
    "%watermark -a '' -u -d -v -p numpy,pandas,matplotlib,scipy,sklearn\n",
    "%matplotlib inline"
   ]
  },
  {
   "cell_type": "code",
   "execution_count": 26,
   "metadata": {
    "collapsed": true,
    "slideshow": {
     "slide_type": "skip"
    }
   },
   "outputs": [],
   "source": [
    "# Added version check for recent scikit-learn 0.18 checks\n",
    "from distutils.version import LooseVersion as Version\n",
    "from sklearn import __version__ as sklearn_version"
   ]
  },
  {
   "cell_type": "markdown",
   "metadata": {
    "slideshow": {
     "slide_type": "fragment"
    }
   },
   "source": [
    "## Load data"
   ]
  },
  {
   "cell_type": "code",
   "execution_count": 51,
   "metadata": {
    "collapsed": false,
    "slideshow": {
     "slide_type": "fragment"
    }
   },
   "outputs": [
    {
     "name": "stdout",
     "output_type": "stream",
     "text": [
      "(1797, 64)\n",
      "(1797,)\n",
      "[0 1 2 3 4 5 6 7 8 9]\n"
     ]
    },
    {
     "data": {
      "text/plain": [
       "array([[  0.,   0.,   5., ...,   0.,   0.,   0.],\n",
       "       [  0.,   0.,   0., ...,  10.,   0.,   0.],\n",
       "       [  0.,   0.,   0., ...,  16.,   9.,   0.],\n",
       "       ..., \n",
       "       [  0.,   0.,   1., ...,   6.,   0.,   0.],\n",
       "       [  0.,   0.,   2., ...,  12.,   0.,   0.],\n",
       "       [  0.,   0.,  10., ...,  12.,   1.,   0.]])"
      ]
     },
     "execution_count": 51,
     "metadata": {},
     "output_type": "execute_result"
    }
   ],
   "source": [
    "import numpy as np\n",
    "\n",
    "from sklearn.datasets import load_digits\n",
    "digits = load_digits()\n",
    "\n",
    "X = digits.data # data in pixels\n",
    "y = digits.target # digit labels\n",
    "\n",
    "print(X.shape)\n",
    "print(y.shape)\n",
    "\n",
    "print(np.unique(y))"
   ]
  },
  {
   "cell_type": "markdown",
   "metadata": {
    "slideshow": {
     "slide_type": "fragment"
    }
   },
   "source": [
    "## Visualize data"
   ]
  },
  {
   "cell_type": "code",
   "execution_count": 28,
   "metadata": {
    "collapsed": false,
    "slideshow": {
     "slide_type": "fragment"
    }
   },
   "outputs": [
    {
     "data": {
      "image/png": "[encoded data removed]",
      "text/plain": [
       "<matplotlib.figure.Figure at 0x11b61d518>"
      ]
     },
     "metadata": {},
     "output_type": "display_data"
    }
   ],
   "source": [
    "import matplotlib.pyplot as plt\n",
    "import pylab as pl\n",
    "\n",
    "num_rows = 4\n",
    "num_cols = 5\n",
    "\n",
    "fig, ax = plt.subplots(nrows=num_rows, ncols=num_cols, sharex=True, sharey=True)\n",
    "ax = ax.flatten()\n",
    "for index in range(num_rows*num_cols):\n",
    "    img = digits.images[index]\n",
    "    label = digits.target[index]\n",
    "    ax[index].imshow(img, cmap='Greys', interpolation='nearest')\n",
    "    ax[index].set_title('digit ' + str(label))\n",
    "\n",
    "ax[0].set_xticks([])\n",
    "ax[0].set_yticks([])\n",
    "plt.tight_layout()\n",
    "plt.show()"
   ]
  },
  {
   "cell_type": "markdown",
   "metadata": {
    "slideshow": {
     "slide_type": "fragment"
    }
   },
   "source": [
    "## Data sets: training versus test"
   ]
  },
  {
   "cell_type": "code",
   "execution_count": 29,
   "metadata": {
    "collapsed": false,
    "slideshow": {
     "slide_type": "fragment"
    }
   },
   "outputs": [
    {
     "name": "stdout",
     "output_type": "stream",
     "text": [
      "training: 1257, test: 540\n"
     ]
    }
   ],
   "source": [
    "if Version(sklearn_version) < '0.18':\n",
    "    from sklearn.cross_validation import train_test_split\n",
    "else:\n",
    "    from sklearn.model_selection import train_test_split\n",
    "    \n",
    "X_train, X_test, y_train, y_test = train_test_split(\n",
    "    X, y, test_size=0.3, random_state=1)\n",
    "\n",
    "num_training = y_train.shape[0]\n",
    "num_test = y_test.shape[0]\n",
    "print('training: ' + str(num_training) + ', test: ' + str(num_test))"
   ]
  },
  {
   "cell_type": "code",
   "execution_count": 30,
   "metadata": {
    "collapsed": false,
    "slideshow": {
     "slide_type": "fragment"
    }
   },
   "outputs": [
    {
     "name": "stdout",
     "output_type": "stream",
     "text": [
      "[119 133 128 119 120 135 130 122 128 123]\n",
      "[59 49 49 64 61 47 51 57 46 57]\n"
     ]
    }
   ],
   "source": [
    "import numpy as np\n",
    "\n",
    "# check to see if the data are well distributed among digits\n",
    "for y in [y_train, y_test]:\n",
    "    print(np.bincount(y))"
   ]
  },
  {
   "cell_type": "markdown",
   "metadata": {
    "slideshow": {
     "slide_type": "subslide"
    }
   },
   "source": [
    "## Answer"
   ]
  },
  {
   "cell_type": "markdown",
   "metadata": {
    "slideshow": {
     "slide_type": "fragment"
    }
   },
   "source": [
    "We first write a scoring function for clustering so that we can use for GridSearchCV.\n",
    "Take a look at use_scorer under scikit learn."
   ]
  },
  {
   "cell_type": "markdown",
   "metadata": {},
   "source": [
    "## <font color='purple'>Explanation for scoring function</font>\n",
    "\n",
    "Since clustering is an unsupurvised learning method, we need to use 2 steps to obtain the accuracy score:\n",
    "1. Map cluster id to class label (digit id)\n",
    "2. Use mapped class label from step 1 (predicted) and ground truth to get accuracy score\n",
    "\n",
    "In order to manually map the clusters to actual class labels, we propose a way to estimate: compare each cluster centroid to references of all 10 classes. The detailed method is as follows:\n",
    "\n",
    "1. use class labels to split training data set to 10 sets\n",
    "2. compute the mean vector of the 10 sets, i.e. the averaged hand written digits\n",
    "3. Use the 10 mean vectors from above as reference.\n",
    "4. When finish clustering, compare each centroid to all 10 references using $L_2$ to obtain the mapping function. e.g. Suppose centroid $\\mu^{(i)}$ is most similar to reference $r^{(j)}$, then cluster id $i$ should be mapped to class $j$\n",
    "\n",
    "Another important thing to notice is: we have to access our k-means model inside the pipeline to achieve above operations, therefore, we can't use the built-in GridSearchCV algorithm. \n",
    "\n",
    "Hence, we will use the <b>pipeline & StratifiedKFold</b> algorithm directly to implement our GridSearchCV\n"
   ]
  },
  {
   "cell_type": "code",
   "execution_count": 123,
   "metadata": {
    "collapsed": false
   },
   "outputs": [
    {
     "name": "stdout",
     "output_type": "stream",
     "text": [
      "class 0 (119, 64) average vector dimension (64,)\n",
      "class 1 (133, 64) average vector dimension (64,)\n",
      "class 2 (128, 64) average vector dimension (64,)\n",
      "class 3 (119, 64) average vector dimension (64,)\n",
      "class 4 (120, 64) average vector dimension (64,)\n",
      "class 5 (135, 64) average vector dimension (64,)\n",
      "class 6 (130, 64) average vector dimension (64,)\n",
      "class 7 (122, 64) average vector dimension (64,)\n",
      "class 8 (128, 64) average vector dimension (64,)\n",
      "class 9 (123, 64) average vector dimension (64,)\n"
     ]
    },
    {
     "name": "stderr",
     "output_type": "stream",
     "text": [
      "/Applications/anaconda/lib/python3.5/site-packages/ipykernel/__main__.py:6: FutureWarning: elementwise comparison failed; returning scalar instead, but in the future will perform elementwise comparison\n"
     ]
    }
   ],
   "source": [
    "# split data according to their label by: X_train & y_train\n",
    "# and obtain 10 references for mapping function\n",
    "X_train_split = {}\n",
    "for i in range(0, X_train.shape[0]) :\n",
    "    label = y_train[i]\n",
    "    if X_train_split.get(label, 'Never') != 'Never':\n",
    "        X_train_split[label] = np.vstack([X_train_split[label],\n",
    "                                          X_train[i]])\n",
    "    else:\n",
    "        X_train_split[label] = [X_train[i]]\n",
    "\n",
    "X_train_ref = X_train_split[0].mean(axis=0)\n",
    "print('class', 0, X_train_split[0].shape, 'average vector dimension', X_train_ref.shape)\n",
    "for i in range(1,len(X_train_split)):\n",
    "    newrow = X_train_split[i].mean(axis=0)\n",
    "    X_train_ref = np.vstack([X_train_ref,newrow])\n",
    "    print('class', i, X_train_split[i].shape, 'average vector dimension', X_train_ref[i].shape)"
   ]
  },
  {
   "cell_type": "code",
   "execution_count": 170,
   "metadata": {
    "collapsed": false
   },
   "outputs": [],
   "source": [
    "# from centroids, get centroid ids & label ids mapping\n",
    "from scipy.spatial import distance\n",
    "def get_cluster_class_mapping(pipe_km, X_train_ref):\n",
    "    X_train_ref_std = pipe_km.named_steps['scl'].transform(X_train_ref)\n",
    "    X_train_ref_reduced = pipe_km.named_steps['pca'].transform(X_train_ref_std)\n",
    "    \n",
    "    reference = X_train_ref_reduced\n",
    "    model = pipe_km.named_steps['km']\n",
    "\n",
    "    centroids = model.cluster_centers_\n",
    "    cluster_ids = model.predict(centroids) # should follow 0, 1,..\n",
    "    class_ids = []\n",
    "    for i in range(0, cluster_ids.shape[0]):\n",
    "        min_class_id = 0\n",
    "        min_dist = distance.euclidean(centroids[i],reference[0])\n",
    "        for j in range(1, len(reference)):\n",
    "            new_dist = distance.euclidean(centroids[i],reference[j])\n",
    "            if(new_dist<min_dist):\n",
    "                min_dist = new_dist\n",
    "                min_class_id = j\n",
    "        class_ids.append(min_class_id)\n",
    "    return class_ids\n",
    "\n",
    "# map cluster id to class id\n",
    "def map_cluster_to_class(y_cluster, ref_class_ids):\n",
    "    return ref_class_ids[y_cluster]\n"
   ]
  },
  {
   "cell_type": "code",
   "execution_count": 171,
   "metadata": {
    "collapsed": true,
    "slideshow": {
     "slide_type": "fragment"
    }
   },
   "outputs": [],
   "source": [
    "from sklearn.metrics import accuracy_score, make_scorer\n",
    "\n",
    "def clustering_accuracy_score(y_true, y_pred, ref_class_ids):\n",
    "    # y_true: labels (digit ids): 0,1,2,3,4,5,6,7,8,9\n",
    "    # y_pred: cluster ids: 0, 1,...\n",
    "    y_cm=[]\n",
    "    for cid in y_pred:\n",
    "        y_cm.append(map_cluster_to_class(cid, ref_class_ids))\n",
    "    return accuracy_score(y_true=y_true, y_pred=y_cm)\n",
    "\n",
    "clustering_accuracy = make_scorer(clustering_accuracy_score) "
   ]
  },
  {
   "cell_type": "markdown",
   "metadata": {
    "slideshow": {
     "slide_type": "fragment"
    }
   },
   "source": [
    "Build a pipeline with standard scaler, PCA, and clustering."
   ]
  },
  {
   "cell_type": "code",
   "execution_count": 172,
   "metadata": {
    "collapsed": false,
    "slideshow": {
     "slide_type": "fragment"
    }
   },
   "outputs": [],
   "source": [
    "# your code\n",
    "from sklearn.preprocessing import StandardScaler\n",
    "from sklearn.decomposition import PCA\n",
    "from sklearn.cluster import KMeans\n",
    "from sklearn.pipeline import Pipeline\n",
    "\n",
    "pipe_km = Pipeline([('scl', StandardScaler()),\n",
    "                    ('pca', PCA()),\n",
    "                    ('km', KMeans(init='k-means++', \n",
    "                                  n_init=10,\n",
    "                                  max_iter=500,\n",
    "                                  tol=1e-04,\n",
    "                                  random_state=0,\n",
    "                                 ))\n",
    "                   ])\n"
   ]
  },
  {
   "cell_type": "markdown",
   "metadata": {
    "slideshow": {
     "slide_type": "fragment"
    }
   },
   "source": [
    "Use GridSearchCV to tune hyper-parameters."
   ]
  },
  {
   "cell_type": "markdown",
   "metadata": {},
   "source": [
    "## <font color='purple'>Explanation on experiments & parameters to tune</font>\n",
    "\n",
    "with reference to [KMeans Documentation](http://scikit-learn.org/stable/modules/generated/sklearn.cluster.KMeans.html), we keep the following parameters unchange:\n",
    "* init: k-means++ for optimal performance\n",
    "* n_init: 10, the default # of sets of centroids to try, in order to get the best performance\n",
    "* max. iterations allowed: 500\n",
    "* tolerance: 1e-04\n",
    "* random_state: 0\n",
    "\n",
    "The reason why we keep the above parameters unchange is because those parameters are relatively easy to understand in terms of under-fitting and over-fitting. Since the only formally identified hyper-parameters in this pipeline are PCA's n_components & K-Means' k,\n",
    "\n",
    "We are only intersted in the following parameters in the pipeline:\n",
    "* PCA: number of components, i.e. n_components\n",
    "* K-Means: number of clusters, i.e. k\n",
    "\n",
    "To observe influence of pre-processing, we perform following experiments:\n",
    "1. pipeline with standard scalar, PCA & K-means\n",
    "2. pipeline with standard scalar & K-means\n",
    "3. perform K-means on raw data\n",
    "\n",
    "Note*: we know that without standard scalar, data are with high-bias. Hence the PCA performed on un-standardized data is expected to give us bad accuracy. So we skip that\n"
   ]
  },
  {
   "cell_type": "code",
   "execution_count": 194,
   "metadata": {
    "collapsed": false
   },
   "outputs": [
    {
     "name": "stdout",
     "output_type": "stream",
     "text": [
      "[ 0  1  2  3  4  5  6  7  8  9 10 11 12 13 14 15 16 17 18 19]\n",
      "[6, 9, 0, 4, 2, 7, 7, 3, 2, 2, 2, 5, 7, 1, 6, 4, 3, 6, 1, 8]\n"
     ]
    },
    {
     "data": {
      "text/plain": [
       "0.80185185185185182"
      ]
     },
     "execution_count": 194,
     "metadata": {},
     "output_type": "execute_result"
    }
   ],
   "source": [
    "# this is just a sample code for using the above functions defined\n",
    "pipe_km.set_params(pca__n_components=20,km__n_clusters=20).fit(X_train)\n",
    "\n",
    "ref_class = get_cluster_class_mapping(pipe_km,X_train_ref)\n",
    "y_pred = pipe_km.predict(X_test)\n",
    "\n",
    "print(cluster_ids)\n",
    "print(ref_class)\n",
    "clustering_accuracy_score(y_test, y_pred, ref_class)"
   ]
  },
  {
   "cell_type": "markdown",
   "metadata": {},
   "source": [
    "## Experiment 1: pipeline with Standard Scalar & PCA"
   ]
  },
  {
   "cell_type": "code",
   "execution_count": 196,
   "metadata": {
    "collapsed": false,
    "slideshow": {
     "slide_type": "fragment"
    }
   },
   "outputs": [
    {
     "name": "stdout",
     "output_type": "stream",
     "text": [
      "best accuracy:  0.866448790968 when pca__n_components:  19 , km__n_clusters:  23\n"
     ]
    }
   ],
   "source": [
    "# your code: actual experiment\n",
    "if Version(sklearn_version) < '0.18':\n",
    "    from sklearn.cross_validation import StratifiedKFold\n",
    "else:\n",
    "    from sklearn.model_selection import StratifiedKFold\n",
    "\n",
    "pca_range = range(1, 25)\n",
    "k_range = range(1, 25)\n",
    "\n",
    "best_score = 0\n",
    "best_pca = 0\n",
    "best_k = 0\n",
    "\n",
    "for pca_comp in pca_range:\n",
    "    for num_k in k_range:\n",
    "        if Version(sklearn_version) < '0.18':\n",
    "            kfold = StratifiedKFold(y=y_train, \n",
    "                                    n_folds=10,\n",
    "                                    random_state=1)\n",
    "        else:\n",
    "            kfold = StratifiedKFold(n_splits=10,\n",
    "                                    random_state=1).split(X_train, y_train)\n",
    "        scores = []\n",
    "        pipe_km.set_params(pca__n_components=pca_comp,\n",
    "                           km__n_clusters=num_k)\n",
    "        for k, (train, test) in enumerate(kfold):\n",
    "            pipe_km.fit(X_train[train])\n",
    "\n",
    "            y_pred = pipe_km.predict(X_train[test])\n",
    "            ref_class = get_cluster_class_mapping(pipe_km,X_train_ref)\n",
    "            score = clustering_accuracy_score(y_train[test], y_pred, ref_class)\n",
    "            scores.append(score)\n",
    "        mean_score = np.mean(scores)\n",
    "        if(mean_score > best_score):\n",
    "            best_score = mean_score\n",
    "            best_pca = pca_comp\n",
    "            best_k = num_k\n",
    "        # print('finished testing on pca_',pca_comp, ', k_',num_k)\n",
    "print('best accuracy: ', best_score, \n",
    "      'when pca__n_components: ', best_pca,\n",
    "      ', km__n_clusters: ', best_k)"
   ]
  },
  {
   "cell_type": "code",
   "execution_count": 198,
   "metadata": {
    "collapsed": false,
    "slideshow": {
     "slide_type": "fragment"
    }
   },
   "outputs": [
    {
     "name": "stdout",
     "output_type": "stream",
     "text": [
      "Test accuracy: 0.850\n"
     ]
    }
   ],
   "source": [
    "# my best model: \n",
    "# accuracy: 0.866448790968\n",
    "# pca components: 19\n",
    "# clusters: 23\n",
    "\n",
    "best_model = pipe_km.set_params(pca__n_components=19,km__n_clusters=23)\n",
    "best_model.fit(X_train)\n",
    "ref_class = get_cluster_class_mapping(pipe_km,X_train_ref)\n",
    "y_pred = best_model.predict(X_test)\n",
    "\n",
    "print('Test accuracy: %.3f' % clustering_accuracy_score(y_test, y_pred, ref_class))\n",
    "\n",
    "#print('Test accuracy: %.3f' % best_model.score(X_test, y_test))"
   ]
  },
  {
   "cell_type": "markdown",
   "metadata": {},
   "source": [
    "## Experiment 2: pipeline with only Standard Scaler"
   ]
  },
  {
   "cell_type": "code",
   "execution_count": 209,
   "metadata": {
    "collapsed": false
   },
   "outputs": [
    {
     "name": "stdout",
     "output_type": "stream",
     "text": [
      "best accuracy:  0.855388291817 , km__n_clusters:  23\n"
     ]
    }
   ],
   "source": [
    "pipe_km_s = Pipeline([('scl', StandardScaler()),\n",
    "                    ('km', KMeans(init='k-means++', \n",
    "                                  n_init=10,\n",
    "                                  max_iter=500,\n",
    "                                  tol=1e-04,\n",
    "                                  random_state=0,\n",
    "                                 ))\n",
    "                   ])\n",
    "def get_cluster_class_mapping_s(pipe_km, X_train_ref):\n",
    "    X_train_ref_std = pipe_km.named_steps['scl'].transform(X_train_ref)\n",
    "    \n",
    "    reference = X_train_ref_std\n",
    "    model = pipe_km.named_steps['km']\n",
    "\n",
    "    centroids = model.cluster_centers_\n",
    "    cluster_ids = model.predict(centroids) # should follow 0, 1,..\n",
    "    class_ids = []\n",
    "    for i in range(0, cluster_ids.shape[0]):\n",
    "        min_class_id = 0\n",
    "        min_dist = distance.euclidean(centroids[i],reference[0])\n",
    "        for j in range(1, len(reference)):\n",
    "            new_dist = distance.euclidean(centroids[i],reference[j])\n",
    "            if(new_dist<min_dist):\n",
    "                min_dist = new_dist\n",
    "                min_class_id = j\n",
    "        class_ids.append(min_class_id)\n",
    "    return class_ids\n",
    "\n",
    "k_range = range(1, 25)\n",
    "\n",
    "best_score = 0\n",
    "best_k = 0\n",
    "\n",
    "for num_k in k_range:\n",
    "    if Version(sklearn_version) < '0.18':\n",
    "        kfold = StratifiedKFold(y=y_train, \n",
    "                                n_folds=10,\n",
    "                                random_state=1)\n",
    "    else:\n",
    "        kfold = StratifiedKFold(n_splits=10,\n",
    "                                random_state=1).split(X_train, y_train)\n",
    "    scores = []\n",
    "    pipe_km_s.set_params(km__n_clusters=num_k)\n",
    "    for k, (train, test) in enumerate(kfold):\n",
    "        pipe_km_s.fit(X_train[train])\n",
    "\n",
    "        y_pred = pipe_km_s.predict(X_train[test])\n",
    "        ref_class = get_cluster_class_mapping_s(pipe_km_s,X_train_ref)\n",
    "        score = clustering_accuracy_score(y_train[test], y_pred, ref_class)\n",
    "        scores.append(score)\n",
    "    mean_score = np.mean(scores)\n",
    "    if(mean_score > best_score):\n",
    "        best_score = mean_score\n",
    "        best_k = num_k\n",
    "    # print('finished testing on k_',num_k)\n",
    "print('best accuracy: ', best_score, \n",
    "      ', km__n_clusters: ', best_k)"
   ]
  },
  {
   "cell_type": "code",
   "execution_count": 204,
   "metadata": {
    "collapsed": false
   },
   "outputs": [
    {
     "name": "stdout",
     "output_type": "stream",
     "text": [
      "Test accuracy: 0.874\n"
     ]
    }
   ],
   "source": [
    "# best model:\n",
    "# accuracy: 0.855388291817\n",
    "# clusters: 23\n",
    "\n",
    "best_s = pipe_km_s.set_params(km__n_clusters=23)\n",
    "best_s.fit(X_train)\n",
    "ref_class = get_cluster_class_mapping_s(pipe_km_s,X_train_ref)\n",
    "y_pred = best_s.predict(X_test)\n",
    "\n",
    "print('Test accuracy: %.3f' % clustering_accuracy_score(y_test, y_pred, ref_class))\n"
   ]
  },
  {
   "cell_type": "markdown",
   "metadata": {},
   "source": [
    "## Experiment 3: use K-Means on raw data"
   ]
  },
  {
   "cell_type": "code",
   "execution_count": 210,
   "metadata": {
    "collapsed": false
   },
   "outputs": [
    {
     "name": "stdout",
     "output_type": "stream",
     "text": [
      "best accuracy:  0.907816735134 , km__n_clusters:  19\n"
     ]
    }
   ],
   "source": [
    "pipe_km_k = Pipeline([('km', KMeans(init='k-means++', \n",
    "                                  n_init=10,\n",
    "                                  max_iter=500,\n",
    "                                  tol=1e-04,\n",
    "                                  random_state=0,\n",
    "                                 ))])\n",
    "\n",
    "def get_cluster_class_mapping_k(pipe_km, reference):\n",
    "    model = pipe_km.named_steps['km']\n",
    "    centroids = model.cluster_centers_\n",
    "    cluster_ids = model.predict(centroids) # should follow 0, 1,..\n",
    "    class_ids = []\n",
    "    for i in range(0, cluster_ids.shape[0]):\n",
    "        min_class_id = 0\n",
    "        min_dist = distance.euclidean(centroids[i],reference[0])\n",
    "        for j in range(1, len(reference)):\n",
    "            new_dist = distance.euclidean(centroids[i],reference[j])\n",
    "            if(new_dist<min_dist):\n",
    "                min_dist = new_dist\n",
    "                min_class_id = j\n",
    "        class_ids.append(min_class_id)\n",
    "    return class_ids\n",
    "\n",
    "k_range = range(1, 25)\n",
    "\n",
    "best_score = 0\n",
    "best_k = 0\n",
    "\n",
    "for num_k in k_range:\n",
    "    if Version(sklearn_version) < '0.18':\n",
    "        kfold = StratifiedKFold(y=y_train, \n",
    "                                n_folds=10,\n",
    "                                random_state=1)\n",
    "    else:\n",
    "        kfold = StratifiedKFold(n_splits=10,\n",
    "                                random_state=1).split(X_train, y_train)\n",
    "    scores = []\n",
    "    pipe_km_k.set_params(km__n_clusters=num_k)\n",
    "    for k, (train, test) in enumerate(kfold):\n",
    "        pipe_km_k.fit(X_train[train])\n",
    "\n",
    "        y_pred = pipe_km_k.predict(X_train[test])\n",
    "        ref_class = get_cluster_class_mapping_k(pipe_km_k,X_train_ref)\n",
    "        score = clustering_accuracy_score(y_train[test], y_pred, ref_class)\n",
    "        scores.append(score)\n",
    "    mean_score = np.mean(scores)\n",
    "    if(mean_score > best_score):\n",
    "        best_score = mean_score\n",
    "        best_k = num_k\n",
    "    # print('finished testing on k_',num_k)\n",
    "print('best accuracy: ', best_score, \n",
    "      ', km__n_clusters: ', best_k)"
   ]
  },
  {
   "cell_type": "code",
   "execution_count": 211,
   "metadata": {
    "collapsed": false
   },
   "outputs": [
    {
     "name": "stdout",
     "output_type": "stream",
     "text": [
      "Test accuracy: 0.922\n"
     ]
    }
   ],
   "source": [
    "# best model:\n",
    "# accuracy: 0.907816735134\n",
    "# clusters: 19\n",
    "\n",
    "best_k = pipe_km_k.set_params(km__n_clusters=19)\n",
    "best_k.fit(X_train)\n",
    "ref_class = get_cluster_class_mapping_k(best_k,X_train_ref)\n",
    "y_pred = best_k.predict(X_test)\n",
    "\n",
    "print('Test accuracy: %.3f' % clustering_accuracy_score(y_test, y_pred, ref_class))"
   ]
  },
  {
   "cell_type": "markdown",
   "metadata": {},
   "source": [
    "## <font color='purple'>Conclusion 1: Best model & best hyper-parameters</font>\n",
    "\n",
    "Based on the above 3 experiments (testing with best model done above as well), we got following results:\n",
    "\n",
    "suppose:\n",
    "* k: # of clusters\n",
    "* n: # of pca components\n",
    "\n",
    "|Method                |best test accuracy  |best hyper-parameters|\n",
    "| :------------------: |:------------------:| :------------------:|\n",
    "| Full pipeline        |0.85                | k = 23, n = 19      |\n",
    "| Standard Scalar + KM |0.874               | k = 23              |\n",
    "| K-Means on Raw data  |0.922               | k = 19              |\n",
    "\n",
    "The highest accuracy score is 0.922\n",
    "\n",
    "Therefore, we found some interesting conclusions:\n",
    "* With # of clusters > 10, the hard clustering algorithm is actually more robust\n",
    "* K-Means performs better on raw data rather than scaled data. The raw data will give us high performance with a simpler model. This is because the raw data can better represents how are the data in different grids should be, in order to form a digit."
   ]
  },
  {
   "cell_type": "markdown",
   "metadata": {
    "slideshow": {
     "slide_type": "fragment"
    }
   },
   "source": [
    "## Visualize mis-clustered samples, and provide your explanation."
   ]
  },
  {
   "cell_type": "code",
   "execution_count": 259,
   "metadata": {
    "collapsed": false,
    "slideshow": {
     "slide_type": "fragment"
    }
   },
   "outputs": [
    {
     "name": "stdout",
     "output_type": "stream",
     "text": [
      "Test accuracy: 0.922\n",
      "# of misclassified samples:  42\n"
     ]
    },
    {
     "data": {
      "image/png": "[encoded data removed]",
      "text/plain": [
       "<matplotlib.figure.Figure at 0x122ece2b0>"
      ]
     },
     "metadata": {},
     "output_type": "display_data"
    }
   ],
   "source": [
    "# your code\n",
    "\n",
    "best = pipe_km_k.set_params(km__n_clusters=19)\n",
    "best.fit(X_train)\n",
    "ref_class = get_cluster_class_mapping_k(best,X_train_ref)\n",
    "y_pred = best.predict(X_test)\n",
    "\n",
    "print('Test accuracy: %.3f' % clustering_accuracy_score(y_test, y_pred, ref_class))\n",
    "\n",
    "y_cm=[]\n",
    "for cid in y_pred:\n",
    "    y_cm.append(map_cluster_to_class(cid, ref_class))\n",
    "mis = []# misclassified samples indices\n",
    "for i in range(0,len(y_test)):\n",
    "    if y_cm[i] != y_test[i]:\n",
    "        mis.append(i)\n",
    "print('# of misclassified samples: ', len(mis))\n",
    "\n",
    "num_rows = 6\n",
    "num_cols = 6\n",
    "\n",
    "fig, ax = plt.subplots(nrows=num_rows, ncols=num_cols, sharex=True, sharey=True)\n",
    "ax = ax.flatten()\n",
    "for i in range(0, num_rows*num_cols):\n",
    "    img = np.resize(X_test[mis[i]],(8,8))\n",
    "    label = y_test[mis[i]]\n",
    "    ax[i].imshow(img, cmap='Greys', interpolation='nearest')\n",
    "    ax[i].set_title('digit' + str(label)\n",
    "                    +',mis' + str(y_cm[mis[i]]))\n",
    "\n",
    "ax[0].set_xticks([])\n",
    "ax[0].set_yticks([])\n",
    "plt.tight_layout()\n",
    "plt.show()"
   ]
  },
  {
   "cell_type": "code",
   "execution_count": 260,
   "metadata": {
    "collapsed": false
   },
   "outputs": [
    {
     "data": {
      "image/png": "[encoded data removed]",
      "text/plain": [
       "<matplotlib.figure.Figure at 0x1219fe358>"
      ]
     },
     "metadata": {},
     "output_type": "display_data"
    }
   ],
   "source": [
    "# Plot averaged figures (reference points)\n",
    "num_rows = 2\n",
    "num_cols = 5\n",
    "\n",
    "fig, ax = plt.subplots(nrows=num_rows, ncols=num_cols, sharex=True, sharey=True)\n",
    "ax = ax.flatten()\n",
    "for i in range(0, num_rows*num_cols):\n",
    "    img = np.resize(X_train_ref[i],(8,8))\n",
    "    label = i\n",
    "    ax[i].imshow(img, cmap='Greys', interpolation='nearest')\n",
    "    ax[i].set_title('digit' + str(label))\n",
    "\n",
    "ax[0].set_xticks([])\n",
    "ax[0].set_yticks([])\n",
    "plt.tight_layout()\n",
    "plt.show()"
   ]
  },
  {
   "cell_type": "markdown",
   "metadata": {
    "slideshow": {
     "slide_type": "fragment"
    }
   },
   "source": [
    "## <font color='purple'>Explanation on mis-clustered samples</font>\n",
    "\n",
    "We plot the averaged digit images for reference, which are used in the cluster-class mapping procedure.\n",
    "\n",
    "All together we have 42 misclassified samples in the best model. For simplicity, we just plot 36 of them to take a look. Observing the mis-clustered samples, we can know:\n",
    "1. The samples are with high noise\n",
    "2. The noise contained in the misclassfied samples usually make them similar to a wrong image in the reference set. e.g. in the plot above, last line, 3-rd image is actually 5, but misclassified as 9. If we take a closer look at the reference set, we will know that the upper part of that image is with high amount of noise, making it darker in the upper right corner. With this effect, the digit appears to be similar to digit 9.\n",
    "\n",
    "Therefore, the misclassification is not random, but because of noise exists in the test data set."
   ]
  },
  {
   "cell_type": "markdown",
   "metadata": {
    "slideshow": {
     "slide_type": "slide"
    }
   },
   "source": [
    "# Tiny image classification\n",
    "\n",
    "We will use the [CIFAR-10 dataset](https://www.cs.toronto.edu/~kriz/cifar.html) for image object recognition.\n",
    "The dataset consists of 50000 training samples and 10000 test samples in 10 different classes (airplane, automobile, bird, cat, deer, dog, frog, horse, ship, truck; see the link above for more information).\n",
    "The goal is to maximize the accuracy of your classifier on the test dataset after being optimized via the training dataset.\n",
    "\n",
    "You can use any learning models (supervised or unsupervised) or optimization methods (e.g. search methods for hyper-parameters).\n",
    "The only requirement is that your code can run inside an ipynb file, as usual.\n",
    "Please provide a description of your method, in addition to the code.\n",
    "Your answer will be evaluated not only on the test accuracy but also on the creativity of your methodology and the quality of your explanation/description."
   ]
  },
  {
   "cell_type": "markdown",
   "metadata": {
    "slideshow": {
     "slide_type": "subslide"
    }
   },
   "source": [
    "## Sample code to get you started\n",
    "\n",
    "This is a difficult classification task.\n",
    "A sample code below, based on a simple fully connected neural network built via Keras, is provided below.\n",
    "The test accuracy is about 43%."
   ]
  },
  {
   "cell_type": "code",
   "execution_count": 14,
   "metadata": {
    "collapsed": false,
    "slideshow": {
     "slide_type": "fragment"
    }
   },
   "outputs": [
    {
     "name": "stdout",
     "output_type": "stream",
     "text": [
      "The watermark extension is already loaded. To reload it, use:\n",
      "  %reload_ext watermark\n"
     ]
    },
    {
     "name": "stderr",
     "output_type": "stream",
     "text": [
      "Using Theano backend.\n"
     ]
    },
    {
     "name": "stdout",
     "output_type": "stream",
     "text": [
      "last updated: 2016-12-19 \n",
      "\n",
      "CPython 3.5.2\n",
      "IPython 4.2.0\n",
      "\n",
      "numpy 1.11.1\n",
      "keras 1.1.2\n"
     ]
    }
   ],
   "source": [
    "%load_ext watermark\n",
    "%watermark -a '' -u -d -v -p numpy,keras"
   ]
  },
  {
   "cell_type": "code",
   "execution_count": 73,
   "metadata": {
    "collapsed": false,
    "slideshow": {
     "slide_type": "fragment"
    }
   },
   "outputs": [
    {
     "name": "stdout",
     "output_type": "stream",
     "text": [
      "image shape:  (32, 32, 3)\n",
      "50000 training samples\n",
      "10000 test samples\n",
      "10 classes\n"
     ]
    }
   ],
   "source": [
    "from keras.datasets import cifar10\n",
    "from keras.utils import np_utils\n",
    "from keras.models import Sequential\n",
    "from keras.layers import Dense, Dropout, Activation, Flatten\n",
    "from keras.layers import Convolution2D, MaxPooling2D\n",
    "from keras.optimizers import SGD\n",
    "import numpy as np\n",
    "from sklearn.metrics import accuracy_score\n",
    "\n",
    "# load data set\n",
    "(X_train, y_train), (X_test, y_test) = cifar10.load_data()\n",
    "\n",
    "img_shape = X_train.shape[1:] # [num_rows, num_cols, num_channels]\n",
    "num_img_pixels = np.prod(img_shape)\n",
    "num_training_samples = X_train.shape[0]\n",
    "num_test_samples = X_test.shape[0]\n",
    "\n",
    "nb_classes = np.sum(np.unique(y_train).shape)\n",
    "\n",
    "print('image shape: ', img_shape)\n",
    "print(X_train.shape[0], 'training samples')\n",
    "print(X_test.shape[0], 'test samples')\n",
    "print(nb_classes, 'classes')\n",
    "\n",
    "# data processing\n",
    "\n",
    "X_train = X_train.reshape(num_training_samples, num_img_pixels)\n",
    "X_test = X_test.reshape(num_test_samples, num_img_pixels)\n",
    "\n",
    "X_train = X_train.astype('float32')\n",
    "X_test = X_test.astype('float32')\n",
    "X_train /= 255\n",
    "X_test /= 255\n",
    "\n",
    "# one hot encoding of labels\n",
    "y_train_ohe = np_utils.to_categorical(y_train)\n",
    "y_test_ohe = np_utils.to_categorical(y_test)\n"
   ]
  },
  {
   "cell_type": "code",
   "execution_count": 74,
   "metadata": {
    "collapsed": false,
    "slideshow": {
     "slide_type": "fragment"
    }
   },
   "outputs": [],
   "source": [
    "# build a basic network\n",
    "\n",
    "model = Sequential()\n",
    "\n",
    "model.add(Dense(input_dim = num_img_pixels, \n",
    "                output_dim = 50, \n",
    "                init = 'uniform', \n",
    "                activation = 'tanh'))\n",
    "\n",
    "model.add(Dense(output_dim = 50, \n",
    "                init = 'uniform', \n",
    "                activation = 'tanh'))\n",
    "\n",
    "model.add(Dense(output_dim = nb_classes, \n",
    "                init = 'uniform', \n",
    "                activation = 'softmax'))\n",
    "\n",
    "sgd = SGD(lr=0.001, decay=1e-7, momentum=.9)\n",
    "\n",
    "model.compile(loss = 'categorical_crossentropy', \n",
    "              optimizer = sgd, \n",
    "              metrics = [\"accuracy\"])\n"
   ]
  },
  {
   "cell_type": "code",
   "execution_count": 75,
   "metadata": {
    "collapsed": false,
    "slideshow": {
     "slide_type": "fragment"
    }
   },
   "outputs": [
    {
     "name": "stdout",
     "output_type": "stream",
     "text": [
      "Train on 45000 samples, validate on 5000 samples\n",
      "Epoch 1/5\n",
      "45000/45000 [==============================] - 4s - loss: 2.0287 - acc: 0.2512 - val_loss: 1.8909 - val_acc: 0.3150\n",
      "Epoch 2/5\n",
      "45000/45000 [==============================] - 4s - loss: 1.8056 - acc: 0.3496 - val_loss: 1.7535 - val_acc: 0.3664\n",
      "Epoch 3/5\n",
      "45000/45000 [==============================] - 4s - loss: 1.7134 - acc: 0.3798 - val_loss: 1.7121 - val_acc: 0.3876\n",
      "Epoch 4/5\n",
      "45000/45000 [==============================] - 4s - loss: 1.6551 - acc: 0.4026 - val_loss: 1.6218 - val_acc: 0.4198\n",
      "Epoch 5/5\n",
      "45000/45000 [==============================] - 5s - loss: 1.6062 - acc: 0.4216 - val_loss: 1.6376 - val_acc: 0.4144\n"
     ]
    }
   ],
   "source": [
    "# train\n",
    "\n",
    "_ = model.fit(X_train, y_train_ohe, \n",
    "              nb_epoch = 5, \n",
    "              batch_size = 10, \n",
    "              verbose = 1, # turn this on to visualize progress \n",
    "              validation_split = 0.1 # 10% of training data for validation per epoch\n",
    "             )"
   ]
  },
  {
   "cell_type": "code",
   "execution_count": 76,
   "metadata": {
    "collapsed": false,
    "slideshow": {
     "slide_type": "fragment"
    }
   },
   "outputs": [
    {
     "name": "stdout",
     "output_type": "stream",
     "text": [
      "First few predictions:  [6 1 9]\n",
      "Training accuracy: 0.42678\n",
      "Test accuracy: 0.4226\n"
     ]
    }
   ],
   "source": [
    "# evaluate\n",
    "\n",
    "y_train_pred = model.predict_classes(X_train, verbose=False)\n",
    "print('First few predictions: ', y_train_pred[:3])\n",
    "train_acc = accuracy_score(y_train, y_train_pred)\n",
    "print('Training accuracy:', train_acc)\n",
    "\n",
    "y_test_pred = model.predict_classes(X_test, verbose=False)\n",
    "test_acc = accuracy_score(y_test, y_test_pred)\n",
    "print('Test accuracy:', test_acc)\n"
   ]
  },
  {
   "cell_type": "markdown",
   "metadata": {
    "slideshow": {
     "slide_type": "subslide"
    }
   },
   "source": [
    "## Answer (In progress)"
   ]
  },
  {
   "cell_type": "markdown",
   "metadata": {
    "collapsed": true,
    "slideshow": {
     "slide_type": "fragment"
    }
   },
   "source": [
    "### Loading & Preprocessing"
   ]
  },
  {
   "cell_type": "code",
   "execution_count": 77,
   "metadata": {
    "collapsed": false
   },
   "outputs": [
    {
     "name": "stdout",
     "output_type": "stream",
     "text": [
      "image shape: (32, 32, 3)\n",
      "50000 training samples with size: (50000, 32, 32, 3)\n",
      "10000 test samples with size: (10000, 32, 32, 3)\n",
      "feature example [ 0.23137255  0.24313726  0.24705882]\n",
      "class label shape: (50000, 10) , total 10 classes\n"
     ]
    }
   ],
   "source": [
    "# load data set\n",
    "(X_train, y_train), (X_test, y_test) = cifar10.load_data()\n",
    "\n",
    "# data processing\n",
    "\n",
    "#X_train = X_train.reshape(num_training_samples, num_img_pixels)\n",
    "#X_test = X_test.reshape(num_test_samples, num_img_pixels)\n",
    "\n",
    "X_train = X_train.astype('float32')\n",
    "X_test = X_test.astype('float32')\n",
    "X_train /= 255\n",
    "X_test /= 255\n",
    "\n",
    "# one hot encoding of labels\n",
    "y_train_ohe = np_utils.to_categorical(y_train)\n",
    "y_test_ohe = np_utils.to_categorical(y_test)\n",
    "\n",
    "print('image shape:', img_shape)\n",
    "print(X_train.shape[0], 'training samples with size:', X_train.shape)\n",
    "print(X_test.shape[0], 'test samples with size:', X_test.shape)\n",
    "print('feature example', X_train[0][0][0])\n",
    "print('class label shape:', y_train_ohe.shape, ', total',y_train_ohe.shape[1], 'classes')"
   ]
  },
  {
   "cell_type": "code",
   "execution_count": 78,
   "metadata": {
    "collapsed": false
   },
   "outputs": [
    {
     "name": "stdout",
     "output_type": "stream",
     "text": [
      "convolution input shape: (32, 32, 3)\n",
      "number of convolutional filters: 16\n",
      "convolution filter size: (4, 4)\n",
      "pooling size (also stride size): (2, 2)\n",
      "10 classes\n"
     ]
    }
   ],
   "source": [
    "# constants \n",
    "\n",
    "from keras import backend as K\n",
    "\n",
    "img_rows, img_cols = X_train.shape[1], X_train.shape[2]  # input image dimensions\n",
    "if K.image_dim_ordering() == 'th':\n",
    "    input_shape = (3, img_rows, img_cols)\n",
    "else:\n",
    "    input_shape = (img_rows, img_cols, 3)\n",
    "\n",
    "nb_filters = 16                  # number of convolutional filters to use\n",
    "filter_size = (4, 4)             # convolotinal filter size\n",
    "pool_size = (2, 2)               # size of pooling area for max pooling\n",
    "num_class = y_train_ohe.shape[1] # number of classes\n",
    "\n",
    "print('convolution input shape:',input_shape)\n",
    "print('number of convolutional filters:', nb_filters)\n",
    "print('convolution filter size:',filter_size)\n",
    "print('pooling size (also stride size):', pool_size)\n",
    "print(num_class, 'classes')"
   ]
  },
  {
   "cell_type": "code",
   "execution_count": 88,
   "metadata": {
    "collapsed": false
   },
   "outputs": [],
   "source": [
    "# build a network\n",
    "\n",
    "net = Sequential()\n",
    "\n",
    "# convolutional layers\n",
    "net.add(Convolution2D(nb_filters, filter_size[0], filter_size[1], \n",
    "                      border_mode='valid',\n",
    "                      input_shape=input_shape,\n",
    "                      activation='relu'))\n",
    "\n",
    "# net.add(Convolution2D(nb_filters, filter_size[0], filter_size[1], \n",
    "#                       border_mode='valid',\n",
    "#                       input_shape=input_shape,\n",
    "#                       activation='relu'))\n",
    "\n",
    "# pooling layers\n",
    "net.add(MaxPooling2D(pool_size=pool_size))\n",
    "net.add(Dropout(0.25))  # reduce overfitting\n",
    "\n",
    "# fully-connected layers\n",
    "net.add(Flatten())\n",
    "# net.add(Dense(output_dim=64, activation = 'tanh'))\n",
    "# net.add(Dropout(0.25))\n",
    "net.add(Dense(output_dim=32, activation = 'tanh'))\n",
    "net.add(Dropout(0.25))\n",
    "net.add(Dense(output_dim=num_class, activation = 'softmax'))\n",
    "\n",
    "sgd = SGD(lr=0.001, decay=1e-7, momentum=.9)\n",
    "\n",
    "net.compile(loss='categorical_crossentropy',\n",
    "              optimizer=sgd,\n",
    "              metrics=['accuracy'])\n"
   ]
  },
  {
   "cell_type": "code",
   "execution_count": 89,
   "metadata": {
    "collapsed": false
   },
   "outputs": [
    {
     "name": "stdout",
     "output_type": "stream",
     "text": [
      "Train on 45000 samples, validate on 5000 samples\n",
      "Epoch 1/5\n",
      "45000/45000 [==============================] - 25s - loss: 1.7868 - acc: 0.3563 - val_loss: 1.5056 - val_acc: 0.4658\n",
      "Epoch 2/5\n",
      "45000/45000 [==============================] - 26s - loss: 1.5309 - acc: 0.4493 - val_loss: 1.3805 - val_acc: 0.5076\n",
      "Epoch 3/5\n",
      "45000/45000 [==============================] - 27s - loss: 1.4351 - acc: 0.4864 - val_loss: 1.3359 - val_acc: 0.5210\n",
      "Epoch 4/5\n",
      "45000/45000 [==============================] - 27s - loss: 1.3853 - acc: 0.5076 - val_loss: 1.2624 - val_acc: 0.5522\n",
      "Epoch 5/5\n",
      "45000/45000 [==============================] - 28s - loss: 1.3420 - acc: 0.5227 - val_loss: 1.2465 - val_acc: 0.5626\n"
     ]
    }
   ],
   "source": [
    "# training\n",
    "_ = net.fit(X_train, y_train_ohe, \n",
    "              nb_epoch = 5, \n",
    "              batch_size = 10, \n",
    "              verbose = 1, # turn this on to visualize progress \n",
    "              validation_split = 0.1 # 10% of training data for validation per epoch\n",
    "             )"
   ]
  },
  {
   "cell_type": "code",
   "execution_count": 90,
   "metadata": {
    "collapsed": false
   },
   "outputs": [
    {
     "name": "stdout",
     "output_type": "stream",
     "text": [
      "First few predictions:  [6 9 8]\n",
      "Training accuracy: 0.57612\n",
      "Test accuracy: 0.5578\n"
     ]
    }
   ],
   "source": [
    "# evaluate\n",
    "y_train_pred = net.predict_classes(X_train, verbose=False)\n",
    "print('First few predictions: ', y_train_pred[:3])\n",
    "train_acc = accuracy_score(y_train, y_train_pred)\n",
    "print('Training accuracy:', train_acc)\n",
    "\n",
    "y_test_pred = net.predict_classes(X_test, verbose=False)\n",
    "test_acc = accuracy_score(y_test, y_test_pred)\n",
    "print('Test accuracy:', test_acc)\n"
   ]
  },
  {
   "cell_type": "markdown",
   "metadata": {
    "slideshow": {
     "slide_type": "fragment"
    }
   },
   "source": [
    "## Your description\n",
    "with the following main parts:\n",
    "\n",
    "<dl>\n",
    "\n",
    "<dt>Introduction</dt>\n",
    "<dd>\n",
    "At a high-level, what are the approaches you considered and why?\n",
    "</dd>\n",
    "\n",
    "<dt>Method</dt>\n",
    "<dd>\n",
    "Describe your entire pipeline, such as data-preprocessing, model selection, and hyper-parameter optpimization.\n",
    "</dd>\n",
    "\n",
    "<dt>Results</dt>\n",
    "<dd>\n",
    "Describe the experimental process you took to arrive at the solution.\n",
    "For example:\n",
    "(1) compare your approach against other approach(es) you have tried, as\n",
    "well as the MLP baseline classifer.\n",
    "(2) compare against different settings of model parameters, e.g. regularization type/strength, number of hidden units or structure of a neural network, types of kernel in a SVM, etc. \n",
    "\n",
    "<dt>Conclusion</dt>\n",
    "<dd>\n",
    "Summarize what you have learned from the experiments and discuss the limitations and potential future improvements of your current method.\n",
    "</dd>\n",
    "\n",
    "<dt>References</dt>\n",
    "<dd>\n",
    "Cite any publically available code, blog posts, research papers, etc. you used or got ideas from.\n",
    "</dl>"
   ]
  },
  {
   "cell_type": "markdown",
   "metadata": {},
   "source": [
    "### <font color='purple'>Introduction</font>\n",
    "\n",
    "#### Approach 1: Without ANNs, use GridSearchCV to tune hyper-parameters\n",
    "1. Dimension Reduction: PCA(different kernels), LDA\n",
    "2. Basic Classifiers: Logistic Regression, SVM(different kernels), Random Forest, KNN\n",
    "3. Ensemble learning with above classifiers\n",
    "\n",
    "#### Approach 2: With ANNs, use human intuition to tune hyper-parameters\n",
    "1. Base MLP\n",
    "2. Base MLP with Dimension Reduction(PCA, LDA) before\n",
    "3. Convolutional Neural Network\n",
    "4. Ensemble learning with different CNNs\n",
    "\n",
    "#### Approaches pruned:\n",
    "1. Unsupervised learning using clustering\n",
    "2. Decision Tree Naive Bayes x"
   ]
  },
  {
   "cell_type": "markdown",
   "metadata": {},
   "source": [
    "### <font color='purple'>References</font>\n",
    "* Intro to CNN from YouTube chanel Nervana: [(3) Convolutional Neural Networks](https://www.youtube.com/watch?v=SQ67NBCLV98)\n",
    "* CNN process overview from YouTube channel Brandon Rohrer [How Convolutional Neural Networks work](https://www.youtube.com/watch?v=FmpDIaiMIeA)\n",
    "* [CS231n Convolutional Neural Networks for Visual Recognition](http://cs231n.github.io/convolutional-networks/) on github.io\n",
    "* Keras example code on using CNN on MNIST data set: [keras/examples/mnist_cnn.py](https://github.com/fchollet/keras/blob/master/examples/mnist_cnn.py)\n",
    "* [Keras Documentation](https://keras.io/) on layers, activations, optimizers\n",
    "* Theano Documentation on [LeNet](http://deeplearning.net/tutorial/lenet.html)\n",
    "* Jason Brownlee's post on Deep Learning, June 24, 2016: [Crash Course on CNN](http://machinelearningmastery.com/crash-course-convolutional-neural-networks/)\n",
    "* Classification [research collection](http://rodrigob.github.io/are_we_there_yet/build/classification_datasets_results.html#43494641522d3130) for dataset CIFAR-10\n",
    "\n",
    "### <font color='purple'>Relative Intuitions on CNN workflow</font>\n",
    "\n",
    "Stacking:\n",
    "* Convolution: add info in each pixel, so that one image becomes a stack of filtered images\n",
    "* Rectified Linear Units (ReLUs): element-wise normalization: negative -> 0\n",
    "* Pooling: shrinking image size\n",
    "\n",
    "Decision making:\n",
    "* Fully-connected layer\n"
   ]
  },
  {
   "cell_type": "code",
   "execution_count": null,
   "metadata": {
    "collapsed": true
   },
   "outputs": [],
   "source": []
  }
 ],
 "metadata": {
  "anaconda-cloud": {},
  "celltoolbar": "Slideshow",
  "kernelspec": {
   "display_name": "Python [Root]",
   "language": "python",
   "name": "Python [Root]"
  },
  "language_info": {
   "codemirror_mode": {
    "name": "ipython",
    "version": 3
   },
   "file_extension": ".py",
   "mimetype": "text/x-python",
   "name": "python",
   "nbconvert_exporter": "python",
   "pygments_lexer": "ipython3",
   "version": "3.5.2"
  },
  "name": "_merged"
 },
 "nbformat": 4,
 "nbformat_minor": 0
}

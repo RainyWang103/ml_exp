{
 "cells": [
  {
   "cell_type": "markdown",
   "metadata": {},
   "source": [
    "# Assignment 5 - Model Tuning, Evaluation & Ensemble Learning\n",
    "\n",
    "## Wang Yuli 3035028946\n",
    "\n",
    "This assignment has weighting $1.5$."
   ]
  },
  {
   "cell_type": "markdown",
   "metadata": {
    "slideshow": {
     "slide_type": "slide"
    }
   },
   "source": [
    "# Model tuning and evaluation"
   ]
  },
  {
   "cell_type": "code",
   "execution_count": 1,
   "metadata": {
    "collapsed": true,
    "slideshow": {
     "slide_type": "skip"
    }
   },
   "outputs": [],
   "source": [
    "# Added version check for recent scikit-learn 0.18 checks\n",
    "from distutils.version import LooseVersion as Version\n",
    "from sklearn import __version__ as sklearn_version"
   ]
  },
  {
   "cell_type": "markdown",
   "metadata": {
    "slideshow": {
     "slide_type": "slide"
    }
   },
   "source": [
    "## Dataset\n",
    "\n",
    "We will use the Wisconsin breast cancer dataset for the following questions"
   ]
  },
  {
   "cell_type": "code",
   "execution_count": 2,
   "metadata": {
    "collapsed": true,
    "slideshow": {
     "slide_type": "fragment"
    }
   },
   "outputs": [],
   "source": [
    "import pandas as pd\n",
    "\n",
    "wdbc_source = 'https://archive.ics.uci.edu/ml/machine-learning-databases/breast-cancer-wisconsin/wdbc.data'\n",
    "#wdbc_source = '../datasets/wdbc/wdbc.data'\n",
    "\n",
    "df = pd.read_csv(wdbc_source, header=None)"
   ]
  },
  {
   "cell_type": "code",
   "execution_count": 3,
   "metadata": {
    "collapsed": false,
    "slideshow": {
     "slide_type": "fragment"
    }
   },
   "outputs": [
    {
     "data": {
      "text/plain": [
       "array([1, 0])"
      ]
     },
     "execution_count": 3,
     "metadata": {},
     "output_type": "execute_result"
    }
   ],
   "source": [
    "from sklearn.preprocessing import LabelEncoder\n",
    "X = df.loc[:, 2:].values\n",
    "y = df.loc[:, 1].values\n",
    "le = LabelEncoder()\n",
    "y = le.fit_transform(y)\n",
    "le.transform(['M', 'B'])"
   ]
  },
  {
   "cell_type": "code",
   "execution_count": 4,
   "metadata": {
    "collapsed": false,
    "slideshow": {
     "slide_type": "fragment"
    }
   },
   "outputs": [],
   "source": [
    "if Version(sklearn_version) < '0.18':\n",
    "    from sklearn.cross_validation import train_test_split\n",
    "else:\n",
    "    from sklearn.model_selection import train_test_split\n",
    "\n",
    "X_train, X_test, y_train, y_test = \\\n",
    "    train_test_split(X, y, test_size=0.20, random_state=1)"
   ]
  },
  {
   "cell_type": "code",
   "execution_count": 5,
   "metadata": {
    "collapsed": true,
    "slideshow": {
     "slide_type": "skip"
    }
   },
   "outputs": [],
   "source": [
    "%matplotlib inline"
   ]
  },
  {
   "cell_type": "markdown",
   "metadata": {
    "slideshow": {
     "slide_type": "slide"
    }
   },
   "source": [
    "# K-fold validation (20 points)\n",
    "\n",
    "Someone wrote the code below to conduct cross validation.\n",
    "Do you see anything wrong with it?\n",
    "And if so, correct the code and provide an explanation."
   ]
  },
  {
   "cell_type": "code",
   "execution_count": 9,
   "metadata": {
    "collapsed": false,
    "slideshow": {
     "slide_type": "fragment"
    }
   },
   "outputs": [
    {
     "name": "stdout",
     "output_type": "stream",
     "text": [
      "Epoch: 0, Fold: 0, Class dist.: [256 153], Acc: 0.913\n",
      "Epoch: 0, Fold: 1, Class dist.: [256 153], Acc: 0.978\n",
      "Epoch: 0, Fold: 2, Class dist.: [256 153], Acc: 0.935\n",
      "Epoch: 0, Fold: 3, Class dist.: [256 153], Acc: 0.935\n",
      "Epoch: 0, Fold: 4, Class dist.: [256 153], Acc: 0.957\n",
      "Epoch: 0, Fold: 5, Class dist.: [257 153], Acc: 1.000\n",
      "Epoch: 0, Fold: 6, Class dist.: [257 153], Acc: 0.933\n",
      "Epoch: 0, Fold: 7, Class dist.: [257 153], Acc: 0.978\n",
      "Epoch: 0, Fold: 8, Class dist.: [257 153], Acc: 0.978\n",
      "Epoch: 0, Fold: 9, Class dist.: [257 153], Acc: 0.978\n",
      "\n",
      "Epoch: 1, Fold: 0, Class dist.: [256 153], Acc: 0.913\n",
      "Epoch: 1, Fold: 1, Class dist.: [256 153], Acc: 0.978\n",
      "Epoch: 1, Fold: 2, Class dist.: [256 153], Acc: 0.935\n",
      "Epoch: 1, Fold: 3, Class dist.: [256 153], Acc: 0.935\n",
      "Epoch: 1, Fold: 4, Class dist.: [256 153], Acc: 0.957\n",
      "Epoch: 1, Fold: 5, Class dist.: [257 153], Acc: 1.000\n",
      "Epoch: 1, Fold: 6, Class dist.: [257 153], Acc: 0.933\n",
      "Epoch: 1, Fold: 7, Class dist.: [257 153], Acc: 0.978\n",
      "Epoch: 1, Fold: 8, Class dist.: [257 153], Acc: 0.978\n",
      "Epoch: 1, Fold: 9, Class dist.: [257 153], Acc: 0.978\n",
      "\n",
      "\n",
      "CV accuracy: 0.958 +/- 0.027\n"
     ]
    }
   ],
   "source": [
    "import numpy as np\n",
    "import copy\n",
    "from sklearn.preprocessing import StandardScaler\n",
    "from sklearn.decomposition import PCA\n",
    "from sklearn.linear_model import Perceptron\n",
    "from sklearn.pipeline import Pipeline\n",
    "\n",
    "if Version(sklearn_version) < '0.18':\n",
    "    from sklearn.cross_validation import StratifiedKFold\n",
    "else:\n",
    "    from sklearn.model_selection import StratifiedKFold\n",
    "\n",
    "scl = StandardScaler()\n",
    "pca = PCA(n_components=2)\n",
    "clf = Perceptron(random_state=1)\n",
    "\n",
    "# data preprocessing\n",
    "X_train_std = scl.fit_transform(X_train)\n",
    "X_test_std = scl.transform(X_test)\n",
    "\n",
    "X_train_pca = pca.fit_transform(X_train_std)\n",
    "X_test_pca = pca.transform(X_test_std)\n",
    "\n",
    "# compute the data indices for each fold\n",
    "if Version(sklearn_version) < '0.18':\n",
    "    kfold = StratifiedKFold(y=y_train, \n",
    "                            n_folds=10,\n",
    "                            random_state=1)\n",
    "else:\n",
    "    kfold = StratifiedKFold(n_splits=10,\n",
    "                            random_state=1).split(X_train, y_train)\n",
    "\n",
    "num_epochs = 2\n",
    "scores = []\n",
    "\n",
    "enumerate_kfold = list(enumerate(kfold))\n",
    "for epoch in range(num_epochs):\n",
    "    for k, (train, test) in enumerate_kfold:\n",
    "        clf.fit(X_train_std[train], y_train[train])\n",
    "        score = clf.score(X_train_std[test], y_train[test])\n",
    "        scores.append(score)\n",
    "        print('Epoch: %s, Fold: %s, Class dist.: %s, Acc: %.3f' % (epoch,\n",
    "                                                                   k, \n",
    "                                                                   np.bincount(y_train[train]),\n",
    "                                                                   score))\n",
    "    print('')\n",
    "    \n",
    "print('\\nCV accuracy: %.3f +/- %.3f' % (np.mean(scores), np.std(scores)))"
   ]
  },
  {
   "cell_type": "markdown",
   "metadata": {
    "slideshow": {
     "slide_type": "subslide"
    }
   },
   "source": [
    "## Answer\n"
   ]
  },
  {
   "cell_type": "markdown",
   "metadata": {},
   "source": [
    "#### Code change: \n",
    "\n",
    "<font color = 'red'><b>-</b></font> ```clf.partial_fit(X_train_std[train], y_train[train], classes=np.unique(y_train))```\n",
    "<font color = 'blue'><b>+</b></font> ```clf.fit(X_train_std[train], y_train[train])```\n",
    "\n",
    "#### Explanation: the problem\n",
    "\n",
    "* First of all, the 2 epochs should give the exact same output, since we are doing exactly the same thing in both epochs: cross validation using 10 folds\n",
    "* The original code gives different output for the 2 epochs\n",
    "\n",
    "#### Explanation: reason & changes made\n",
    "\n",
    "* The problem is because of ```partial_fit()```, which is a cumulative training method without resetting model parameters in each fold.\n",
    "* However, what we want to do is to use 10 seperate models for the 10 folds in order to get averaged performance of a same set of hyper-parameters.\n",
    "* Therefore, we should use ```fit()``` instead, which reset model parameters in each fold."
   ]
  },
  {
   "cell_type": "markdown",
   "metadata": {
    "slideshow": {
     "slide_type": "slide"
    }
   },
   "source": [
    "# Precision-recall curve (40 points)\n",
    "\n",
    "We have plotted ROC (receiver operator characteristics) curve for the breast cancer dataset.\n",
    "\n",
    "Plot the precision-recall curve for the same data set using the same experimental setup.\n",
    "What similarities and differences you can find between ROC and precision-recall curves?\n",
    "\n",
    "You can find more information about precision-recall curve online such as: http://scikit-learn.org/stable/modules/generated/sklearn.metrics.precision_recall_curve.html"
   ]
  },
  {
   "cell_type": "markdown",
   "metadata": {
    "slideshow": {
     "slide_type": "subslide"
    }
   },
   "source": [
    "# Answer"
   ]
  },
  {
   "cell_type": "markdown",
   "metadata": {},
   "source": [
    "## Code"
   ]
  },
  {
   "cell_type": "code",
   "execution_count": 14,
   "metadata": {
    "collapsed": true
   },
   "outputs": [],
   "source": [
    "import matplotlib.pyplot as plt\n",
    "%matplotlib inline"
   ]
  },
  {
   "cell_type": "code",
   "execution_count": 17,
   "metadata": {
    "collapsed": false,
    "slideshow": {
     "slide_type": "fragment"
    }
   },
   "outputs": [],
   "source": [
    "from sklearn.linear_model import LogisticRegression\n",
    "\n",
    "# build pipeline\n",
    "pipe_lr = Pipeline([('scl', StandardScaler()),\n",
    "                    ('pca', PCA(n_components=2)),\n",
    "                    ('clf', LogisticRegression(penalty='l2', \n",
    "                                               random_state=0, \n",
    "                                               C=100.0))])\n",
    "# cross-validation\n",
    "if Version(sklearn_version) < '0.18':\n",
    "    cv = StratifiedKFold(y_train, \n",
    "                         n_folds=3, \n",
    "                         random_state=1)\n",
    "    \n",
    "else:\n",
    "    cv = list(StratifiedKFold(n_splits=3, \n",
    "                              random_state=1).split(X_train, y_train))\n",
    "    "
   ]
  },
  {
   "cell_type": "markdown",
   "metadata": {},
   "source": [
    "### ROC (receiver operator characteristics) curve plotting"
   ]
  },
  {
   "cell_type": "code",
   "execution_count": 20,
   "metadata": {
    "collapsed": false
   },
   "outputs": [
    {
     "data": {
      "image/png": "[encoded data removed]",
      "text/plain": [
       "<matplotlib.figure.Figure at 0x11f0628d0>"
      ]
     },
     "metadata": {},
     "output_type": "display_data"
    }
   ],
   "source": [
    "from sklearn.metrics import roc_curve, auc\n",
    "from scipy import interp\n",
    "fig = plt.figure(figsize=(7, 5))\n",
    "\n",
    "mean_tpr = 0.0\n",
    "mean_fpr = np.linspace(0, 1, 100)\n",
    "all_tpr = []\n",
    "\n",
    "# plot the 3 folds\n",
    "for i, (train, test) in enumerate(cv):\n",
    "    probas = pipe_lr.fit(X_train[train],\n",
    "                         y_train[train]).predict_proba(X_train[test])\n",
    "\n",
    "    fpr, tpr, thresholds = roc_curve(y_train[test],\n",
    "                                     probas[:, 1],\n",
    "                                     pos_label=1)\n",
    "    mean_tpr += interp(mean_fpr, fpr, tpr)\n",
    "    #mean_tpr[0] = 0.0\n",
    "    roc_auc = auc(fpr, tpr)\n",
    "    plt.plot(fpr,\n",
    "             tpr,\n",
    "             lw=1,\n",
    "             label='ROC fold %d (area = %0.2f)'\n",
    "                   % (i+1, roc_auc))\n",
    "\n",
    "# plot worst: random guessing\n",
    "plt.plot([0, 1],\n",
    "         [0, 1],\n",
    "         linestyle='--',\n",
    "         color=(0.6, 0.6, 0.6),\n",
    "         label='random guessing')\n",
    "\n",
    "# plot mean of the 3 folds\n",
    "mean_tpr /= len(cv)\n",
    "mean_tpr[0] = 0.0\n",
    "mean_tpr[-1] = 1.0\n",
    "mean_auc = auc(mean_fpr, mean_tpr)\n",
    "plt.plot(mean_fpr, mean_tpr, 'k--',\n",
    "         label='mean ROC (area = %0.2f)' % mean_auc, lw=2)\n",
    "\n",
    "# plot best: perfect performance\n",
    "plt.plot([0, 0, 1],\n",
    "         [0, 1, 1],\n",
    "         lw=2,\n",
    "         linestyle=':',\n",
    "         color='black',\n",
    "         label='perfect performance')\n",
    "\n",
    "plt.xlim([-0.05, 1.05])\n",
    "plt.ylim([-0.05, 1.05])\n",
    "plt.xlabel('false positive rate')\n",
    "plt.ylabel('true positive rate')\n",
    "plt.title('Receiver Operator Characteristic')\n",
    "plt.legend(loc=\"lower right\")\n",
    "\n",
    "plt.tight_layout()\n",
    "# plt.savefig('./figures/roc.png', dpi=300)\n",
    "plt.show()"
   ]
  },
  {
   "cell_type": "markdown",
   "metadata": {},
   "source": [
    "### Precision-recall curve plotting"
   ]
  },
  {
   "cell_type": "code",
   "execution_count": 50,
   "metadata": {
    "collapsed": false
   },
   "outputs": [
    {
     "data": {
      "image/png": "[encoded data removed]",
      "text/plain": [
       "<matplotlib.figure.Figure at 0x12069bc18>"
      ]
     },
     "metadata": {},
     "output_type": "display_data"
    }
   ],
   "source": [
    "from sklearn.metrics import precision_recall_curve\n",
    "\n",
    "fig = plt.figure(figsize=(7, 5))\n",
    "\n",
    "mean_recall = 0.0\n",
    "mean_precision = np.linspace(0, 1, 100)\n",
    "all_recall = []\n",
    "\n",
    "# plot the 3 folds\n",
    "for i, (train, test) in enumerate(cv):\n",
    "    probas = pipe_lr.fit(X_train[train],\n",
    "                         y_train[train]).predict_proba(X_train[test])\n",
    "    precision, recall, thresholds = precision_recall_curve(\n",
    "                                    y_train[test],\n",
    "                                     probas[:, 1],\n",
    "                                     pos_label=1)\n",
    "    mean_recall += interp(mean_precision, precision, recall)\n",
    "    precision[0] = 0.0\n",
    "    pr_auc = auc(recall, precision)\n",
    "    plt.plot(recall,\n",
    "             precision,\n",
    "             lw=1,\n",
    "             label='PRC fold %d (area = %0.2f)'\n",
    "                   % (i+1, pr_auc))\n",
    "\n",
    "# plot worst: random guessing\n",
    "plt.plot([0, 1],\n",
    "         [1, 0],\n",
    "         linestyle='--',\n",
    "         color=(0.6, 0.6, 0.6),\n",
    "         label='random guessing')\n",
    "\n",
    "# plot mean of the 3 folds\n",
    "mean_recall /= len(cv)\n",
    "mean_auc = auc(mean_recall, mean_precision)\n",
    "plt.plot(mean_recall, mean_precision, 'k--',\n",
    "         label='mean PRC (area = %0.2f)' % mean_auc, lw=2)\n",
    "\n",
    "# plot best: perfect performance\n",
    "plt.plot([0, 1, 1],\n",
    "         [1, 1, 0],\n",
    "         lw=2,\n",
    "         linestyle=':',\n",
    "         color='black',\n",
    "         label='perfect performance')\n",
    "\n",
    "plt.xlim([-0.05, 1.05])\n",
    "plt.ylim([-0.05, 1.05])\n",
    "plt.xlabel('recall')\n",
    "plt.ylabel('precision')\n",
    "plt.title('Precision-Recall Curve')\n",
    "plt.legend(loc=\"lower left\")\n",
    "\n",
    "plt.tight_layout()\n",
    "# plt.savefig('./figures/prc.png', dpi=300)\n",
    "plt.show()"
   ]
  },
  {
   "cell_type": "markdown",
   "metadata": {
    "slideshow": {
     "slide_type": "fragment"
    }
   },
   "source": [
    "## Explanation: \n",
    "\n",
    "similarities & differences of the 2 plots above"
   ]
  },
  {
   "cell_type": "markdown",
   "metadata": {},
   "source": [
    "The two plots above are axial symmmetric in shape. Both curve presents a model close to the ideal performances.\n",
    "\n",
    "The reason behind is that ROC's ideal is to achieve a model where: no matter how FPR changes, TPR will always be close to 100%, therefore we got the plot as above.\n",
    "\n",
    "For precision-recall curve, by definition we know that precision and recall is more like a trade-off:\n",
    "\n",
    "$$\n",
    "precision = \\frac{TP}{TP+FP}\n",
    "$$\n",
    "\n",
    "$$\n",
    "recall = TPR = \\frac{TP}{TP+FN}\n",
    "$$\n",
    "\n",
    "e.g. suppose we have really small threshold, the precison can be really good, but the recall can be really bad in that case\n",
    "\n",
    "Hence, \n",
    "\n",
    "Worst performance: the random guessing, where when we increase precison, the recall decreases. When we have really good recall, the precision will be really bad\n",
    "\n",
    "Best performance: no matter how recall changes, the precision will always be close to 100%, which means no matter how many class-1 items correctly predicted out of all truly class-1 items, the predicted class-1 items are all acurrate (in deed class-1)\n",
    "\n",
    "Therefore, the two plots will show the same level of how good is our model, since they are using the exact same steps to train.\n"
   ]
  },
  {
   "cell_type": "markdown",
   "metadata": {
    "slideshow": {
     "slide_type": "slide"
    }
   },
   "source": [
    "# Ensemble learning\n",
    "\n",
    "We have used the following code to compute and plot the ensemble error from individual classifiers for binary classification:"
   ]
  },
  {
   "cell_type": "code",
   "execution_count": 51,
   "metadata": {
    "collapsed": true,
    "slideshow": {
     "slide_type": "fragment"
    }
   },
   "outputs": [],
   "source": [
    "from scipy.misc import comb\n",
    "import math\n",
    "import numpy as np\n",
    "\n",
    "def ensemble_error(num_classifier, base_error):\n",
    "    k_start = math.ceil(num_classifier/2)\n",
    "    probs = [comb(num_classifier, k)*(base_error**k)*((1-base_error)**(num_classifier-k)) for k in range(k_start, num_classifier+1)]\n",
    "    return sum(probs)"
   ]
  },
  {
   "cell_type": "code",
   "execution_count": 52,
   "metadata": {
    "collapsed": true,
    "slideshow": {
     "slide_type": "fragment"
    }
   },
   "outputs": [],
   "source": [
    "import matplotlib.pyplot as plt\n",
    "%matplotlib inline"
   ]
  },
  {
   "cell_type": "code",
   "execution_count": 53,
   "metadata": {
    "collapsed": true,
    "slideshow": {
     "slide_type": "fragment"
    }
   },
   "outputs": [],
   "source": [
    "def plot_base_error(ensemble_error_func, num_classifier, error_delta):\n",
    "\n",
    "    error_range = np.arange(0.0, 1+error_delta, error_delta)\n",
    "    ensemble_errors = [ensemble_error_func(num_classifier=num_classifier, base_error=error) for error in error_range]\n",
    "\n",
    "    plt.plot(error_range, ensemble_errors, \n",
    "             label = 'ensemble error',\n",
    "             linewidth=2)\n",
    "    plt.plot(error_range, error_range,\n",
    "             label = 'base error',\n",
    "             linestyle = '--',\n",
    "             linewidth=2)\n",
    "    plt.xlabel('base error')\n",
    "    plt.ylabel('base/ensemble error')\n",
    "    plt.legend(loc='best')\n",
    "    plt.grid()\n",
    "    plt.show()"
   ]
  },
  {
   "cell_type": "code",
   "execution_count": 54,
   "metadata": {
    "collapsed": true,
    "slideshow": {
     "slide_type": "fragment"
    }
   },
   "outputs": [],
   "source": [
    "num_classifier = 11\n",
    "error_delta = 0.01\n",
    "base_error = 0.25"
   ]
  },
  {
   "cell_type": "code",
   "execution_count": 55,
   "metadata": {
    "collapsed": false,
    "slideshow": {
     "slide_type": "fragment"
    }
   },
   "outputs": [
    {
     "name": "stdout",
     "output_type": "stream",
     "text": [
      "0.034327507019\n"
     ]
    }
   ],
   "source": [
    "\n",
    "print(ensemble_error(num_classifier=num_classifier, base_error=base_error))\n"
   ]
  },
  {
   "cell_type": "code",
   "execution_count": 56,
   "metadata": {
    "collapsed": false,
    "slideshow": {
     "slide_type": "fragment"
    }
   },
   "outputs": [
    {
     "data": {
      "image/png": "[encoded data removed]",
      "text/plain": [
       "<matplotlib.figure.Figure at 0x120498828>"
      ]
     },
     "metadata": {},
     "output_type": "display_data"
    }
   ],
   "source": [
    "plot_base_error(ensemble_error, num_classifier=num_classifier, error_delta=error_delta)"
   ]
  },
  {
   "cell_type": "markdown",
   "metadata": {
    "slideshow": {
     "slide_type": "fragment"
    }
   },
   "source": [
    "# Number of classifiers (40 points)\n",
    "\n",
    "The function plot_base_error() above plots the ensemble error as a function of the base error given a fixed number of classifiers.\n",
    "\n",
    "Write another function to plot ensembe error versus different number of classifiers with a given base error.\n",
    "\n",
    "Does the ensemble error always go down with more classifiers? \n",
    "Why or why not?\n",
    "\n",
    "Can you improve the method ensemble_error() to produce a more reasonable plot?"
   ]
  },
  {
   "cell_type": "markdown",
   "metadata": {
    "slideshow": {
     "slide_type": "subslide"
    }
   },
   "source": [
    "## Answer\n",
    "\n",
    "The code for plotting is below:"
   ]
  },
  {
   "cell_type": "code",
   "execution_count": 90,
   "metadata": {
    "collapsed": false,
    "slideshow": {
     "slide_type": "fragment"
    }
   },
   "outputs": [],
   "source": [
    "def plot_num_classifier(ensemble_error_func, max_num_classifier, base_error):\n",
    "    # your code here\n",
    "    classifier_range = np.arange(1, max_num_classifier+1)\n",
    "    ens_errors = [ensemble_error_func(num_classifier=n, base_error=base_error)\n",
    "                 for n in classifier_range]\n",
    "    \n",
    "    plt.plot(classifier_range, \n",
    "             ens_errors, \n",
    "             label='Ensemble error', \n",
    "             linewidth=2)\n",
    "    \n",
    "    plt.plot(classifier_range, \n",
    "             np.repeat(base_error, 20), \n",
    "             linestyle='--',\n",
    "             label='Base error',\n",
    "             linewidth=2)\n",
    "    plt.xlabel('# of classifiers')\n",
    "    plt.ylabel('Base/Ensemble error')\n",
    "    plt.legend(loc='upper right')\n",
    "    plt.grid()\n",
    "    plt.tight_layout()\n",
    "    # plt.savefig('./figures/ensemble_err.png', dpi=300)\n",
    "    plt.show()"
   ]
  },
  {
   "cell_type": "markdown",
   "metadata": {
    "slideshow": {
     "slide_type": "fragment"
    }
   },
   "source": [
    "State your observations of the experiments of your code..."
   ]
  },
  {
   "cell_type": "code",
   "execution_count": 99,
   "metadata": {
    "collapsed": true,
    "slideshow": {
     "slide_type": "fragment"
    }
   },
   "outputs": [],
   "source": [
    "max_num_classifiers = 20\n",
    "base_error = 0.25"
   ]
  },
  {
   "cell_type": "code",
   "execution_count": 100,
   "metadata": {
    "collapsed": false,
    "slideshow": {
     "slide_type": "fragment"
    }
   },
   "outputs": [
    {
     "data": {
      "image/png": "[encoded data removed]",
      "text/plain": [
       "<matplotlib.figure.Figure at 0x120120940>"
      ]
     },
     "metadata": {},
     "output_type": "display_data"
    }
   ],
   "source": [
    "plot_num_classifier(ensemble_error, \n",
    "                    max_num_classifier=max_num_classifiers, \n",
    "                    base_error=base_error)"
   ]
  },
  {
   "cell_type": "markdown",
   "metadata": {
    "slideshow": {
     "slide_type": "fragment"
    }
   },
   "source": [
    "Explain your observations above.\n",
    "\n",
    "Describe a better algorithm for computing the ensemble error."
   ]
  },
  {
   "cell_type": "markdown",
   "metadata": {},
   "source": [
    "## Explanation for above plot\n",
    "\n",
    "The ensemble error doesn't always go down with more classifiers. Here is my underdtanding and algorithm designed to produce a more reasonable plot\n",
    "\n",
    "### Mathematically \n",
    "\n",
    "For equation \n",
    "\n",
    "$$\n",
    "\\epsilon_{ensemble} (K)= \n",
    "\\sum_{k=K}^n C\\left(n, k\\right) \\epsilon^k \\left(1-\\epsilon\\right)^{n-k}\n",
    "$$\n",
    "\n",
    "when n is small, we know term $C\\left(n, k\\right)$ is dominant compared to the error ratio. Since $2m$ classifiers has 1 more polynomial term in summation than $2m-1$ classifiers (where $m = 1,2,3...$), it is normal to see an increasing trend from $2m$ to $2m-1$, despite the fact that the overall trend is still decreasing.\n",
    "\n",
    "### However, there is also foundamental reasons behind that\n",
    "\n",
    "There are actually 3 main reasons why the above ```ensemble_error()``` function doesn't make sense:\n",
    "\n",
    "1. for $n$ classifiers, cases that $\\left\\lceil \\frac{n}{2} \\right\\rceil$ of them vote wrong or $n$ of them all vote wrong should be considered differently in the levels of importance. Therefore, confidence scores (weights) should be taken into consideration for the votes\n",
    "2. how many classifiers we have in total can also be taken into consideration in the confidence. It shouldn't be large in our new function, since it is also what we want to prove. But it can still be used to break tie to produce a more realistic plot (shown in the 2 plots below). \n",
    "3. the start point for k is also not accurate. for example, when $n = 2m$ then $\\left\\lceil \\frac{n}{2} \\right\\rceil = m$. However, we need the cumulative voting to be -1 for a misclassification. Therefore, we can also introduce a minor change: if $n = 2m$ then $k_{start} = \\left\\lceil \\frac{n}{2} \\right\\rceil +1$\n",
    "\n",
    "References for the 3 points above: ch07 of this course, [confidence estimation](http://www.scholarpedia.org/article/Ensemble_learning#Confidence_Estimation), [voting based methods](http://www.scholarpedia.org/article/Ensemble_learning#Voting_based_methods)\n",
    "\n",
    "### Finally, the algorithm:\n",
    "* change k_start:\n",
    "\n",
    "$$\n",
    "k_{start} = \n",
    "\\begin{cases}\n",
    "\\left\\lceil \\frac{n}{2} \\right\\rceil +1 \\; if \\; n = 2m\\\\\n",
    "\\left\\lceil \\frac{n}{2} \\right\\rceil \\; otherwise\n",
    "\\end{cases}\n",
    "$$\n",
    "\n",
    "* change the way to compute ensemble error:\n",
    "$$\n",
    "\\begin{align}\n",
    "\\epsilon_{ensemble} (K)\n",
    "&= \n",
    "\\sum_{k=K}^n C\\left(n, k\\right) \\epsilon^k \\left(1-\\epsilon\\right)^{n-k} \\frac{2k-n}{n-k+1}\n",
    "\\end{align}\n",
    "$$\n",
    "\n",
    "where $\\frac{2k-n}{n-k+1}$ or $\\frac{k-(n-k)}{n-k+1}$is the confidence score (weight), considering \n",
    "1. importance of how many classifiers in total ($n$)\n",
    "2. relative importance of each $k$ with respect to $n$\n",
    "\n",
    "Molecular $k-(n-k)$: how dominant the number k is, compared with n-k\n",
    "\n",
    "Denominator $n-k+1$: instead of simple $n$ as the denominator, use this to break tie of equal cumulative errors, by considering different numbers of classifiers"
   ]
  },
  {
   "cell_type": "code",
   "execution_count": 205,
   "metadata": {
    "collapsed": true
   },
   "outputs": [],
   "source": [
    "def better_ensemble_error_with_tie(num_classifier, base_error):\n",
    "    k_start = math.ceil(num_classifier/2)\n",
    "    if(k_start == num_classifier/2):\n",
    "        k_start += 1\n",
    "    # print('%d classifier, need %d votes to be wrong decision' % (num_classifier, k_start))\n",
    "    probs = [comb(num_classifier, k)*(base_error**k)*((1-base_error)**(num_classifier-k)) \n",
    "             * (2*k-num_classifier)/(num_classifier) # confidence\n",
    "             for k in range(k_start, num_classifier+1)]\n",
    "    # print(sum(probs))\n",
    "    return sum(probs)"
   ]
  },
  {
   "cell_type": "code",
   "execution_count": 210,
   "metadata": {
    "collapsed": false
   },
   "outputs": [
    {
     "data": {
      "image/png": "[encoded data removed]",
      "text/plain": [
       "<matplotlib.figure.Figure at 0x11fd43e10>"
      ]
     },
     "metadata": {},
     "output_type": "display_data"
    }
   ],
   "source": [
    "plt.title('Ensemble Error with weight (2k-n)/n')\n",
    "plot_num_classifier(better_ensemble_error_with_tie, \n",
    "                    max_num_classifier=max_num_classifiers, \n",
    "                    base_error=base_error)"
   ]
  },
  {
   "cell_type": "markdown",
   "metadata": {},
   "source": [
    "### Breaking Tie...\n",
    "* the above plot has ties because we use exact $\\frac{2k-n}{n}$ as weights, which makes the results of the equation to be exactly the same for $n=2m+1$ & $n=2m$ (where m = 1,2,3...)\n",
    "* But in reality, the weighting might not be exactly $\\frac{2k-n}{n}$. Therefore, we use $\\frac{2k-n}{n-k+1}$ as an example to see how the curve will really be like"
   ]
  },
  {
   "cell_type": "code",
   "execution_count": 207,
   "metadata": {
    "collapsed": false,
    "slideshow": {
     "slide_type": "fragment"
    }
   },
   "outputs": [],
   "source": [
    "def better_ensemble_error(num_classifier, base_error):\n",
    "    k_start = math.ceil(num_classifier/2)\n",
    "    if(k_start == num_classifier/2):\n",
    "        k_start += 1\n",
    "    # print('%d classifier, need %d votes to be wrong decision' % (num_classifier, k_start))\n",
    "    probs = [comb(num_classifier, k)*(base_error**k)*((1-base_error)**(num_classifier-k)) \n",
    "             * (2*k-num_classifier)/(num_classifier-k+1) # confidence\n",
    "             for k in range(k_start, num_classifier+1)]\n",
    "    # print(sum(probs))\n",
    "    return sum(probs)"
   ]
  },
  {
   "cell_type": "code",
   "execution_count": 211,
   "metadata": {
    "collapsed": false,
    "slideshow": {
     "slide_type": "fragment"
    }
   },
   "outputs": [
    {
     "data": {
      "image/png": "[encoded data removed]",
      "text/plain": [
       "<matplotlib.figure.Figure at 0x120108eb8>"
      ]
     },
     "metadata": {},
     "output_type": "display_data"
    }
   ],
   "source": [
    "plt.title('Ensemble Error with weight (2k-n)/(n-k+1)')\n",
    "plot_num_classifier(better_ensemble_error, \n",
    "                    max_num_classifier=max_num_classifiers, \n",
    "                    base_error=base_error)"
   ]
  }
 ],
 "metadata": {
  "anaconda-cloud": {},
  "kernelspec": {
   "display_name": "Python [Root]",
   "language": "python",
   "name": "Python [Root]"
  },
  "language_info": {
   "codemirror_mode": {
    "name": "ipython",
    "version": 3
   },
   "file_extension": ".py",
   "mimetype": "text/x-python",
   "name": "python",
   "nbconvert_exporter": "python",
   "pygments_lexer": "ipython3",
   "version": "3.5.2"
  },
  "name": "_merged"
 },
 "nbformat": 4,
 "nbformat_minor": 0
}

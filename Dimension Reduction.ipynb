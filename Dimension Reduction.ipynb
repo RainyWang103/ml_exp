{
 "cells": [
  {
   "cell_type": "markdown",
   "metadata": {},
   "source": [
    "# Assignment 4 - dimensionality reduction\n",
    "\n",
    "## Wang Yuli 3035028946\n",
    "\n",
    "This assignment focuses on two different ways for dimensionality reduction:\n",
    "* feature selection\n",
    "* feature extraction\n",
    "\n",
    "This assignment has weighting $1.5$."
   ]
  },
  {
   "cell_type": "markdown",
   "metadata": {
    "slideshow": {
     "slide_type": "slide"
    }
   },
   "source": [
    "# Sequential feature selection (50 points)\n",
    "\n",
    "There is a sample code in PML chapter 4 for sequential bardward selection (SBS) and its application to subsequent KNN classifier.\n",
    "\n",
    "Implement sequential forward selection (SFS), and compare it with sequential backward selection by plotting the accuracy versus the number of features.\n",
    "\n",
    "You can start with the sample code provided in the [slides](http://nbviewer.jupyter.org/github/1iyiwei/pyml/blob/master/code/ch04/ch04.ipynb).\n",
    "You can extend the existing SBS class to handle both forward and backward selection, or implement a separate class for SFS.\n",
    "Plot and compare the two accuracy versus number-of-features plots for SFS and SBS.\n",
    "\n",
    "Use the wine dataset as follows."
   ]
  },
  {
   "cell_type": "code",
   "execution_count": 6,
   "metadata": {
    "collapsed": false,
    "scrolled": true,
    "slideshow": {
     "slide_type": "fragment"
    }
   },
   "outputs": [
    {
     "name": "stdout",
     "output_type": "stream",
     "text": [
      "Class labels [1 2 3]\n"
     ]
    },
    {
     "data": {
      "text/html": [
       "<div>\n",
       "<table border=\"1\" class=\"dataframe\">\n",
       "  <thead>\n",
       "    <tr style=\"text-align: right;\">\n",
       "      <th></th>\n",
       "      <th>Class label</th>\n",
       "      <th>Alcohol</th>\n",
       "      <th>Malic acid</th>\n",
       "      <th>Ash</th>\n",
       "      <th>Alcalinity of ash</th>\n",
       "      <th>Magnesium</th>\n",
       "      <th>Total phenols</th>\n",
       "      <th>Flavanoids</th>\n",
       "      <th>Nonflavanoid phenols</th>\n",
       "      <th>Proanthocyanins</th>\n",
       "      <th>Color intensity</th>\n",
       "      <th>Hue</th>\n",
       "      <th>OD280/OD315 of diluted wines</th>\n",
       "      <th>Proline</th>\n",
       "    </tr>\n",
       "  </thead>\n",
       "  <tbody>\n",
       "    <tr>\n",
       "      <th>0</th>\n",
       "      <td>1</td>\n",
       "      <td>14.23</td>\n",
       "      <td>1.71</td>\n",
       "      <td>2.43</td>\n",
       "      <td>15.6</td>\n",
       "      <td>127</td>\n",
       "      <td>2.80</td>\n",
       "      <td>3.06</td>\n",
       "      <td>0.28</td>\n",
       "      <td>2.29</td>\n",
       "      <td>5.64</td>\n",
       "      <td>1.04</td>\n",
       "      <td>3.92</td>\n",
       "      <td>1065</td>\n",
       "    </tr>\n",
       "    <tr>\n",
       "      <th>1</th>\n",
       "      <td>1</td>\n",
       "      <td>13.20</td>\n",
       "      <td>1.78</td>\n",
       "      <td>2.14</td>\n",
       "      <td>11.2</td>\n",
       "      <td>100</td>\n",
       "      <td>2.65</td>\n",
       "      <td>2.76</td>\n",
       "      <td>0.26</td>\n",
       "      <td>1.28</td>\n",
       "      <td>4.38</td>\n",
       "      <td>1.05</td>\n",
       "      <td>3.40</td>\n",
       "      <td>1050</td>\n",
       "    </tr>\n",
       "    <tr>\n",
       "      <th>2</th>\n",
       "      <td>1</td>\n",
       "      <td>13.16</td>\n",
       "      <td>2.36</td>\n",
       "      <td>2.67</td>\n",
       "      <td>18.6</td>\n",
       "      <td>101</td>\n",
       "      <td>2.80</td>\n",
       "      <td>3.24</td>\n",
       "      <td>0.30</td>\n",
       "      <td>2.81</td>\n",
       "      <td>5.68</td>\n",
       "      <td>1.03</td>\n",
       "      <td>3.17</td>\n",
       "      <td>1185</td>\n",
       "    </tr>\n",
       "    <tr>\n",
       "      <th>3</th>\n",
       "      <td>1</td>\n",
       "      <td>14.37</td>\n",
       "      <td>1.95</td>\n",
       "      <td>2.50</td>\n",
       "      <td>16.8</td>\n",
       "      <td>113</td>\n",
       "      <td>3.85</td>\n",
       "      <td>3.49</td>\n",
       "      <td>0.24</td>\n",
       "      <td>2.18</td>\n",
       "      <td>7.80</td>\n",
       "      <td>0.86</td>\n",
       "      <td>3.45</td>\n",
       "      <td>1480</td>\n",
       "    </tr>\n",
       "    <tr>\n",
       "      <th>4</th>\n",
       "      <td>1</td>\n",
       "      <td>13.24</td>\n",
       "      <td>2.59</td>\n",
       "      <td>2.87</td>\n",
       "      <td>21.0</td>\n",
       "      <td>118</td>\n",
       "      <td>2.80</td>\n",
       "      <td>2.69</td>\n",
       "      <td>0.39</td>\n",
       "      <td>1.82</td>\n",
       "      <td>4.32</td>\n",
       "      <td>1.04</td>\n",
       "      <td>2.93</td>\n",
       "      <td>735</td>\n",
       "    </tr>\n",
       "  </tbody>\n",
       "</table>\n",
       "</div>"
      ],
      "text/plain": [
       "   Class label  Alcohol  Malic acid   Ash  Alcalinity of ash  Magnesium  \\\n",
       "0            1    14.23        1.71  2.43               15.6        127   \n",
       "1            1    13.20        1.78  2.14               11.2        100   \n",
       "2            1    13.16        2.36  2.67               18.6        101   \n",
       "3            1    14.37        1.95  2.50               16.8        113   \n",
       "4            1    13.24        2.59  2.87               21.0        118   \n",
       "\n",
       "   Total phenols  Flavanoids  Nonflavanoid phenols  Proanthocyanins  \\\n",
       "0           2.80        3.06                  0.28             2.29   \n",
       "1           2.65        2.76                  0.26             1.28   \n",
       "2           2.80        3.24                  0.30             2.81   \n",
       "3           3.85        3.49                  0.24             2.18   \n",
       "4           2.80        2.69                  0.39             1.82   \n",
       "\n",
       "   Color intensity   Hue  OD280/OD315 of diluted wines  Proline  \n",
       "0             5.64  1.04                          3.92     1065  \n",
       "1             4.38  1.05                          3.40     1050  \n",
       "2             5.68  1.03                          3.17     1185  \n",
       "3             7.80  0.86                          3.45     1480  \n",
       "4             4.32  1.04                          2.93      735  "
      ]
     },
     "execution_count": 6,
     "metadata": {},
     "output_type": "execute_result"
    }
   ],
   "source": [
    "import numpy as np\n",
    "import pandas as pd\n",
    "\n",
    "wine_data_remote = 'https://archive.ics.uci.edu/ml/machine-learning-databases/wine/wine.data'\n",
    "wine_data_local = '../datasets/wine/wine.data'\n",
    "\n",
    "df_wine = pd.read_csv(wine_data_remote,\n",
    "                      header=None)\n",
    "\n",
    "df_wine.columns = ['Class label', 'Alcohol', 'Malic acid', 'Ash',\n",
    "                   'Alcalinity of ash', 'Magnesium', 'Total phenols',\n",
    "                   'Flavanoids', 'Nonflavanoid phenols', 'Proanthocyanins',\n",
    "                   'Color intensity', 'Hue', 'OD280/OD315 of diluted wines',\n",
    "                   'Proline']\n",
    "\n",
    "print('Class labels', np.unique(df_wine['Class label']))\n",
    "df_wine.head()"
   ]
  },
  {
   "cell_type": "code",
   "execution_count": 7,
   "metadata": {
    "collapsed": true,
    "slideshow": {
     "slide_type": "fragment"
    }
   },
   "outputs": [],
   "source": [
    "from sklearn import __version__ as skv\n",
    "from distutils.version import LooseVersion as CheckVersion\n",
    "if CheckVersion(skv) < '0.18':\n",
    "    from sklearn.cross_validation import train_test_split\n",
    "else:\n",
    "    from sklearn.model_selection import train_test_split\n",
    "\n",
    "X, y = df_wine.iloc[:, 1:].values, df_wine.iloc[:, 0].values\n",
    "\n",
    "X_train, X_test, y_train, y_test = \\\n",
    "    train_test_split(X, y, test_size=0.3, random_state=0)"
   ]
  },
  {
   "cell_type": "code",
   "execution_count": 8,
   "metadata": {
    "collapsed": true,
    "slideshow": {
     "slide_type": "fragment"
    }
   },
   "outputs": [],
   "source": [
    "from sklearn.preprocessing import StandardScaler\n",
    "\n",
    "stdsc = StandardScaler()\n",
    "X_train_std = stdsc.fit_transform(X_train)\n",
    "X_test_std = stdsc.transform(X_test)"
   ]
  },
  {
   "cell_type": "markdown",
   "metadata": {
    "slideshow": {
     "slide_type": "subslide"
    }
   },
   "source": [
    "## Answer"
   ]
  },
  {
   "cell_type": "markdown",
   "metadata": {
    "slideshow": {
     "slide_type": "fragment"
    }
   },
   "source": [
    "Implement your sequential backward selection class here, either as a separate class or by extending the SBS class that can handle both forward and backward selection (via an input parameter to indicate the direction)."
   ]
  },
  {
   "cell_type": "markdown",
   "metadata": {
    "slideshow": {
     "slide_type": "fragment"
    }
   },
   "source": [
    "Apply your sequential forward/backward selection code to the KNN classifier with the wine data set, and plot the accuracy versus number-of-features curves for both.\n",
    "Describe the similarities and differences you can find, e.g. \n",
    "* do the two methods agree on the optimal number of features?\n",
    "* do the two methods have similar accuracy scores for each number of features?\n",
    "* etc."
   ]
  },
  {
   "cell_type": "code",
   "execution_count": 9,
   "metadata": {
    "collapsed": true
   },
   "outputs": [],
   "source": [
    "%matplotlib inline"
   ]
  },
  {
   "cell_type": "code",
   "execution_count": 10,
   "metadata": {
    "collapsed": false
   },
   "outputs": [],
   "source": [
    "from distutils.version import LooseVersion as Version\n",
    "from sklearn import __version__ as sklearn_version\n",
    "\n",
    "# SFS (Sequential Feature Selection) Class\n",
    "from sklearn.base import clone\n",
    "from itertools import combinations\n",
    "from sklearn.metrics import accuracy_score\n",
    "if Version(sklearn_version) < '0.18':\n",
    "    from sklearn.cross_validation import train_test_split\n",
    "else:\n",
    "    from sklearn.model_selection import train_test_split\n",
    "\n",
    "\n",
    "class SFS():\n",
    "    def __init__(self, estimator, k_features, scoring=accuracy_score,\n",
    "                 test_size=0.25, random_state=1):\n",
    "        self.scoring = scoring\n",
    "        self.estimator = clone(estimator)\n",
    "        self.k_features = k_features\n",
    "        self.test_size = test_size\n",
    "        self.random_state = random_state\n",
    "\n",
    "    def fit_backward(self, X, y):\n",
    "        \n",
    "        X_train, X_test, y_train, y_test = \\\n",
    "            train_test_split(X, y, test_size=self.test_size,\n",
    "                             random_state=self.random_state)\n",
    "\n",
    "        dim = X_train.shape[1]\n",
    "        self.indices_ = tuple(range(dim))\n",
    "        self.subsets_ = [self.indices_]\n",
    "        score = self._calc_score(X_train, y_train, \n",
    "                                 X_test, y_test, self.indices_)\n",
    "        self.scores_ = [score]\n",
    "\n",
    "        while dim > self.k_features:\n",
    "            scores = []\n",
    "            subsets = []\n",
    "\n",
    "            for p in combinations(self.indices_, r=dim - 1):\n",
    "                score = self._calc_score(X_train, y_train, \n",
    "                                         X_test, y_test, p)\n",
    "                scores.append(score)\n",
    "                subsets.append(p)\n",
    "\n",
    "            best = np.argmax(scores)\n",
    "            self.indices_ = subsets[best]\n",
    "            self.subsets_.append(self.indices_)\n",
    "            dim -= 1\n",
    "\n",
    "            self.scores_.append(scores[best])\n",
    "        self.k_score_ = self.scores_[-1]\n",
    "\n",
    "        return self\n",
    "    \n",
    "    def fit_forward(self, X, y):\n",
    "        X_train, X_test, y_train, y_test = \\\n",
    "            train_test_split(X, y, test_size=self.test_size,\n",
    "                             random_state=self.random_state)\n",
    "        \n",
    "        num_of_features = X_train.shape[1]\n",
    "        \n",
    "        # select 1st feature\n",
    "        scores1 = []\n",
    "        subsets1 = []\n",
    "        for idx in range(0, num_of_features):\n",
    "            p = [idx]\n",
    "            score1 = self._calc_score(X_train, y_train, \n",
    "                                         X_test, y_test, p)\n",
    "            subsets1.append(p)\n",
    "            scores1.append(score1)\n",
    "        best1 = np.argmax(scores1)\n",
    "        self.indices_ = subsets1[best1]\n",
    "        self.subsets_ = [self.indices_]\n",
    "        self.scores_ = [scores1[best1]]\n",
    "        \n",
    "        # select rest of the features\n",
    "        for dim in range(1, num_of_features):\n",
    "            scores = []\n",
    "            subsets = []\n",
    "            for idx in range(0, num_of_features):\n",
    "                if idx not in self.subsets_[-1]:\n",
    "                    p = self.subsets_[-1][:]\n",
    "                    p.append(idx)\n",
    "                    score = self._calc_score(X_train, y_train, \n",
    "                                         X_test, y_test, p)\n",
    "                    subsets.append(p)\n",
    "                    scores.append(score)\n",
    "            best = np.argmax(scores)\n",
    "            self.indices_ = subsets[best]\n",
    "            self.subsets_.append(self.indices_)\n",
    "            self.scores_.append(scores[best])\n",
    "\n",
    "    def transform(self, X):\n",
    "        return X[:, self.indices_]\n",
    "\n",
    "    def _calc_score(self, X_train, y_train, X_test, y_test, indices):\n",
    "        self.estimator.fit(X_train[:, indices], y_train)\n",
    "        y_pred = self.estimator.predict(X_test[:, indices])\n",
    "        score = self.scoring(y_test, y_pred)\n",
    "        return score"
   ]
  },
  {
   "cell_type": "code",
   "execution_count": 11,
   "metadata": {
    "collapsed": false
   },
   "outputs": [
    {
     "data": {
      "image/png": "[encoded data removed]",
      "text/plain": [
       "<matplotlib.figure.Figure at 0x11a2b9198>"
      ]
     },
     "metadata": {},
     "output_type": "display_data"
    },
    {
     "name": "stdout",
     "output_type": "stream",
     "text": [
      "[1, 2, 3, 4, 5, 6, 7, 8, 9, 10, 11, 12, 13]\n",
      "[0.87096774193548387, 0.967741935483871, 1.0, 1.0, 1.0, 1.0, 1.0, 1.0, 1.0, 0.967741935483871, 0.967741935483871, 0.967741935483871, 0.93548387096774188]\n"
     ]
    },
    {
     "data": {
      "text/plain": [
       "[[9],\n",
       " [9, 0],\n",
       " [9, 0, 5],\n",
       " [9, 0, 5, 6],\n",
       " [9, 0, 5, 6, 10],\n",
       " [9, 0, 5, 6, 10, 7],\n",
       " [9, 0, 5, 6, 10, 7, 2],\n",
       " [9, 0, 5, 6, 10, 7, 2, 3],\n",
       " [9, 0, 5, 6, 10, 7, 2, 3, 11],\n",
       " [9, 0, 5, 6, 10, 7, 2, 3, 11, 12],\n",
       " [9, 0, 5, 6, 10, 7, 2, 3, 11, 12, 8],\n",
       " [9, 0, 5, 6, 10, 7, 2, 3, 11, 12, 8, 1],\n",
       " [9, 0, 5, 6, 10, 7, 2, 3, 11, 12, 8, 1, 4]]"
      ]
     },
     "execution_count": 11,
     "metadata": {},
     "output_type": "execute_result"
    }
   ],
   "source": [
    "# select features: forward\n",
    "import matplotlib as mplib\n",
    "import matplotlib.pyplot as plt\n",
    "from sklearn.neighbors import KNeighborsClassifier\n",
    "\n",
    "knn = KNeighborsClassifier(n_neighbors=2)\n",
    "\n",
    "# selecting features\n",
    "sfs = SFS(knn, k_features=1)\n",
    "sfs.fit_forward(X_train_std, y_train)\n",
    "\n",
    "# plotting performance of feature subsets\n",
    "k_feat = [len(k) for k in sfs.subsets_]\n",
    "\n",
    "plt.plot(k_feat, sfs.scores_, marker='o')\n",
    "plt.ylim([0.7, 1.1])\n",
    "plt.ylabel('Accuracy')\n",
    "plt.xlabel('Number of features')\n",
    "plt.grid()\n",
    "\n",
    "if mplib.get_backend().lower() in ['agg', 'macosx']: # this modification: suppress tight_layout() warning\n",
    "    plt.figure().set_tight_layout(True)\n",
    "else:\n",
    "    plt.tight_layout()\n",
    "\n",
    "# plt.savefig('./sbs.png', dpi=300)\n",
    "plt.show()\n",
    "\n",
    "print(k_feat)\n",
    "print(sfs.scores_)\n",
    "sfs.subsets_"
   ]
  },
  {
   "cell_type": "code",
   "execution_count": 12,
   "metadata": {
    "collapsed": false
   },
   "outputs": [
    {
     "data": {
      "image/png": "[encoded data removed]",
      "text/plain": [
       "<matplotlib.figure.Figure at 0x11ced35c0>"
      ]
     },
     "metadata": {},
     "output_type": "display_data"
    },
    {
     "name": "stdout",
     "output_type": "stream",
     "text": [
      "[13, 12, 11, 10, 9, 8, 7, 6, 5, 4, 3, 2, 1]\n",
      "[0.93548387096774188, 0.967741935483871, 1.0, 1.0, 1.0, 1.0, 1.0, 1.0, 1.0, 0.93548387096774188, 0.967741935483871, 0.87096774193548387, 0.83870967741935487]\n"
     ]
    },
    {
     "data": {
      "text/plain": [
       "[(0, 1, 2, 3, 4, 5, 6, 7, 8, 9, 10, 11, 12),\n",
       " (0, 1, 2, 3, 5, 6, 7, 8, 9, 10, 11, 12),\n",
       " (0, 1, 2, 3, 6, 7, 8, 9, 10, 11, 12),\n",
       " (0, 1, 2, 3, 6, 7, 8, 9, 10, 12),\n",
       " (0, 1, 2, 3, 6, 7, 8, 10, 12),\n",
       " (0, 1, 2, 3, 6, 8, 10, 12),\n",
       " (0, 1, 3, 6, 8, 10, 12),\n",
       " (0, 1, 3, 6, 10, 12),\n",
       " (0, 1, 3, 10, 12),\n",
       " (0, 1, 10, 12),\n",
       " (0, 1, 10),\n",
       " (0, 10),\n",
       " (0,)]"
      ]
     },
     "execution_count": 12,
     "metadata": {},
     "output_type": "execute_result"
    }
   ],
   "source": [
    "# select features: backward\n",
    "import matplotlib as mplib\n",
    "import matplotlib.pyplot as plt\n",
    "from sklearn.neighbors import KNeighborsClassifier\n",
    "\n",
    "knn = KNeighborsClassifier(n_neighbors=2)\n",
    "\n",
    "# selecting features\n",
    "sfs = SFS(knn, k_features=1)\n",
    "sfs.fit_backward(X_train_std, y_train)\n",
    "\n",
    "# plotting performance of feature subsets\n",
    "k_feat = [len(k) for k in sfs.subsets_]\n",
    "\n",
    "plt.plot(k_feat, sfs.scores_, marker='o')\n",
    "plt.ylim([0.7, 1.1])\n",
    "plt.ylabel('Accuracy')\n",
    "plt.xlabel('Number of features')\n",
    "plt.grid()\n",
    "\n",
    "if mplib.get_backend().lower() in ['agg', 'macosx']: # this modification: suppress tight_layout() warning\n",
    "    plt.figure().set_tight_layout(True)\n",
    "else:\n",
    "    plt.tight_layout()\n",
    "\n",
    "# plt.savefig('./sbs.png', dpi=300)\n",
    "plt.show()\n",
    "\n",
    "print(k_feat)\n",
    "print(sfs.scores_)\n",
    "sfs.subsets_\n"
   ]
  },
  {
   "cell_type": "markdown",
   "metadata": {},
   "source": [
    "## <font color = 'purple'>Observation</font>\n",
    "\n",
    "#### Plot: accuract vs number of features selected\n",
    "\n",
    "The 2 plots are different but quite similar. The patterns are axial symmetric corresponding to axis: number-of-features=7. More specifically, overal accuracy increase/decrease pattern:\n",
    "* optimal: forward -> interval [3,9]; backward -> interval [5,11]\n",
    "* forward increase -> interval [1,3]; backward decrease ->interval [11,13]\n",
    "* forward decrease -> interval [9,13]; backward increase ->interval [1,5]\n",
    "\n",
    "#### Optimal number of features\n",
    "\n",
    "The 2 algorithms result in differenrent optimal results. The choices are symmetric to number-of-features=7 axis\n",
    "* forward selection: 3,4,5,6,7,8,9 are optimal\n",
    "* backward selection: 5,6,7,8,9,10,11 are optimal\n",
    "\n",
    "#### Optimal features selected\n",
    "\n",
    "The 2 algorithms result in different optimal subsets as shown in the printed results of the code blocks above.\n",
    "\n",
    "#### Accuracy scores & selected features\n",
    "* accuracy scores for selecting 12 and 13 features in the 2 methods are the same respectively, while those for other number of features are different.\n",
    "* The corresponding subsets for 12 and 13 are also the same, while those for other choices are different\n",
    "\n",
    "## <font color = 'purple'>My understanding</font>\n",
    "\n",
    "Conceptual-wise, the above 2 methods should have different plots but with symmetric pattern. \n",
    "\n",
    "The actual optimal method should be running through all combinations of selecting k features out of n features. Selecting k-th elements to add/delete in the subset based on assumed best performed subsets of (k-1)/(k+1) features, won't necessarily result in the best performed subsets of k features. But the selection method is still close to optimal. The reason why we use the semi-optimal methods is only to improve performance in computation.\n",
    "\n",
    "Since the 2 algorithms goes from different directions, they are using different assumptions symmetrically Hence the semmetric pattern is explained. The scores are also expected to be different since both assumptions are just semi-optimal and not the same.\n"
   ]
  },
  {
   "cell_type": "markdown",
   "metadata": {
    "slideshow": {
     "slide_type": "slide"
    }
   },
   "source": [
    "# PCA versus LDA (50 points)\n",
    "\n",
    "We have learned two different methods for feature extraction, PCA (unsupervised) and LDA (supervised).\n",
    "\n",
    "Under what circumstances would PCA and LDA produce very different results? \n",
    "\n",
    "Provide one example dataset in 2D, analyze it via PCA and LDA, and plot it with the PCA and LDA components.\n",
    "\n",
    "You can use code from the scikit-learn library."
   ]
  },
  {
   "cell_type": "markdown",
   "metadata": {
    "slideshow": {
     "slide_type": "subslide"
    }
   },
   "source": [
    "## Answer"
   ]
  },
  {
   "cell_type": "code",
   "execution_count": 13,
   "metadata": {
    "collapsed": true,
    "slideshow": {
     "slide_type": "skip"
    }
   },
   "outputs": [],
   "source": [
    "%matplotlib inline"
   ]
  },
  {
   "cell_type": "markdown",
   "metadata": {
    "slideshow": {
     "slide_type": "fragment"
    }
   },
   "source": [
    "Write code to produce your own dataset in 2D.\n",
    "You are free to design relative characteristics like the number of class, the number of samples for each class, as long as your dataset could be analyzed via PCA and LDA."
   ]
  },
  {
   "cell_type": "markdown",
   "metadata": {
    "slideshow": {
     "slide_type": "fragment"
    }
   },
   "source": [
    "Plot your data set, with different classes in different marker colors and/or shapes.\n",
    "\n",
    "You can write your own plot code or use existing library plot code."
   ]
  },
  {
   "cell_type": "markdown",
   "metadata": {
    "slideshow": {
     "slide_type": "fragment"
    }
   },
   "source": [
    "Apply your dataset through PCA and LDA, and plot the projected data using the same plot code.\n",
    "Explain the differences you notice, and how you manage to construct your dataset to achieve such differences.\n",
    "\n",
    "You can use the PCA and LDA code from the scikit-learn library."
   ]
  },
  {
   "cell_type": "code",
   "execution_count": 14,
   "metadata": {
    "collapsed": true
   },
   "outputs": [],
   "source": [
    "# plot regions function\n",
    "from matplotlib.colors import ListedColormap\n",
    "\n",
    "def plot_decision_regions(X, y, classifier, resolution=0.02):\n",
    "\n",
    "    # setup marker generator and color map\n",
    "    markers = ('s', 'x', 'o', '^', 'v')\n",
    "    colors = ('red', 'blue', 'lightgreen', 'gray', 'cyan')\n",
    "    cmap = ListedColormap(colors[:len(np.unique(y))])\n",
    "\n",
    "    # plot the decision surface\n",
    "    x1_min, x1_max = X[:, 0].min() - 1, X[:, 0].max() + 1\n",
    "    x2_min, x2_max = X[:, 1].min() - 1, X[:, 1].max() + 1\n",
    "    xx1, xx2 = np.meshgrid(np.arange(x1_min, x1_max, resolution),\n",
    "                           np.arange(x2_min, x2_max, resolution))\n",
    "    Z = classifier.predict(np.array([xx1.ravel(), xx2.ravel()]).T)\n",
    "    Z = Z.reshape(xx1.shape)\n",
    "    plt.contourf(xx1, xx2, Z, alpha=0.4, cmap=cmap)\n",
    "    plt.xlim(xx1.min(), xx1.max())\n",
    "    plt.ylim(xx2.min(), xx2.max())\n",
    "\n",
    "    # plot class samples\n",
    "    for idx, cl in enumerate(np.unique(y)):\n",
    "        plt.scatter(x=X[y == cl, 0], y=X[y == cl, 1],\n",
    "                    alpha=0.8, c=cmap(idx),\n",
    "                    marker=markers[idx], label=cl)"
   ]
  },
  {
   "cell_type": "markdown",
   "metadata": {},
   "source": [
    "## My data set"
   ]
  },
  {
   "cell_type": "code",
   "execution_count": 15,
   "metadata": {
    "collapsed": false
   },
   "outputs": [],
   "source": [
    "# generate data set\n",
    "import random\n",
    "N = 40\n",
    "\n",
    "X = np.zeros((N*3,2))\n",
    "X[0:40,0]=np.random.random([N])*4\n",
    "X[40:80,0]=np.random.random([N])*3+3\n",
    "X[80:120,0] = np.random.random([N])*5+3\n",
    "\n",
    "for i in range (0,80):\n",
    "    X[i,1] = 6-X[i,0]*5 + random.uniform(0,1)*5\n",
    "#X[0:40,1]=np.random.random([N])\n",
    "#X[40:80,1]=np.random.random([N])*4\n",
    "\n",
    "for i in range (80, 120):\n",
    "    X[i,1] = X[i,0] + 6 + random.uniform(0,1)*5\n",
    "#X[80:120,1] = np.random.random([N])*5+5\n",
    "\n",
    "y = np.zeros(N*3)\n",
    "y[80:120]=1\n"
   ]
  },
  {
   "cell_type": "code",
   "execution_count": 16,
   "metadata": {
    "collapsed": false
   },
   "outputs": [
    {
     "data": {
      "image/png": "[encoded data removed]",
      "text/plain": [
       "<matplotlib.figure.Figure at 0x11cfac198>"
      ]
     },
     "metadata": {},
     "output_type": "display_data"
    }
   ],
   "source": [
    "# plot data set\n",
    "colors = ['r', 'b', 'g']\n",
    "markers = ['s', 'x', 'o']\n",
    "\n",
    "for l, c, m in zip(np.unique(y), colors, markers):\n",
    "    plt.scatter(X[y == l, 0], \n",
    "                X[y == l, 1], \n",
    "                c=c, label=l, marker=m)\n",
    "plt.legend(loc='lower left')\n",
    "plt.tight_layout()\n",
    "# plt.savefig('./figures/pca2.png', dpi=300)\n",
    "plt.show()"
   ]
  },
  {
   "cell_type": "code",
   "execution_count": 17,
   "metadata": {
    "collapsed": true
   },
   "outputs": [],
   "source": [
    "# preprocessing\n",
    "X_train, X_test, y_train, y_test = \\\n",
    "    train_test_split(X, y, test_size=0.3, random_state=1)\n",
    "\n",
    "from sklearn.preprocessing import StandardScaler\n",
    "\n",
    "sc = StandardScaler()\n",
    "X_train_std = sc.fit_transform(X_train)\n",
    "X_test_std = sc.transform(X_test)"
   ]
  },
  {
   "cell_type": "code",
   "execution_count": 18,
   "metadata": {
    "collapsed": false
   },
   "outputs": [
    {
     "data": {
      "image/png": "[encoded data removed]",
      "text/plain": [
       "<matplotlib.figure.Figure at 0x11ce7c668>"
      ]
     },
     "metadata": {},
     "output_type": "display_data"
    }
   ],
   "source": [
    "# plot training data set\n",
    "colors = ['r', 'b', 'g']\n",
    "markers = ['s', 'x', 'o']\n",
    "\n",
    "for l, c, m in zip(np.unique(y_train), colors, markers):\n",
    "    plt.scatter(X_train_std[y_train == l, 0], \n",
    "                X_train_std[y_train == l, 1], \n",
    "                c=c, label=l, marker=m)\n",
    "plt.legend(loc='lower left')\n",
    "plt.tight_layout()\n",
    "# plt.savefig('./figures/pca2.png', dpi=300)\n",
    "plt.show()\n"
   ]
  },
  {
   "cell_type": "markdown",
   "metadata": {},
   "source": [
    "## Plot with PCA"
   ]
  },
  {
   "cell_type": "code",
   "execution_count": 41,
   "metadata": {
    "collapsed": false
   },
   "outputs": [
    {
     "data": {
      "text/plain": [
       "array([ 0.54795677])"
      ]
     },
     "execution_count": 41,
     "metadata": {},
     "output_type": "execute_result"
    }
   ],
   "source": [
    "from sklearn.decomposition import PCA\n",
    "\n",
    "pca = PCA(n_components=1)\n",
    "X_train_pca = pca.fit_transform(X_train_std)\n",
    "X_test_pca = pca.transform(X_test_std)\n",
    "pca.explained_variance_ratio_"
   ]
  },
  {
   "cell_type": "code",
   "execution_count": 44,
   "metadata": {
    "collapsed": false
   },
   "outputs": [
    {
     "data": {
      "text/plain": [
       "array([[ 0.70710678, -0.70710678]])"
      ]
     },
     "execution_count": 44,
     "metadata": {},
     "output_type": "execute_result"
    }
   ],
   "source": [
    "pca.components_"
   ]
  },
  {
   "cell_type": "code",
   "execution_count": 43,
   "metadata": {
    "collapsed": false
   },
   "outputs": [
    {
     "data": {
      "image/png": "[encoded data removed]",
      "text/plain": [
       "<matplotlib.figure.Figure at 0x11e010710>"
      ]
     },
     "metadata": {},
     "output_type": "display_data"
    }
   ],
   "source": [
    "for l, c, m in zip(np.unique(y_train), colors, markers):\n",
    "    plt.scatter(X_train_pca[y_train == l], \n",
    "                X_train_pca[y_train == l], \n",
    "                c=c, label=l, marker=m)\n",
    "plt.legend(loc='upper left')\n",
    "plt.tight_layout()\n",
    "# plt.savefig('./figures/pca2.png', dpi=300)\n",
    "plt.show()"
   ]
  },
  {
   "cell_type": "markdown",
   "metadata": {},
   "source": [
    "## Plot with LDA"
   ]
  },
  {
   "cell_type": "code",
   "execution_count": 40,
   "metadata": {
    "collapsed": false
   },
   "outputs": [
    {
     "data": {
      "text/plain": [
       "array([ 1.])"
      ]
     },
     "execution_count": 40,
     "metadata": {},
     "output_type": "execute_result"
    }
   ],
   "source": [
    "from sklearn.discriminant_analysis import LinearDiscriminantAnalysis as LDA\n",
    "\n",
    "lda = LDA(n_components=1)\n",
    "X_train_lda = lda.fit_transform(X_train_std, y_train)\n",
    "lda.explained_variance_ratio_"
   ]
  },
  {
   "cell_type": "code",
   "execution_count": 45,
   "metadata": {
    "collapsed": false
   },
   "outputs": [
    {
     "data": {
      "text/plain": [
       "array([[ 13.94734479,  19.17419659]])"
      ]
     },
     "execution_count": 45,
     "metadata": {},
     "output_type": "execute_result"
    }
   ],
   "source": [
    "lda.coef_"
   ]
  },
  {
   "cell_type": "code",
   "execution_count": 36,
   "metadata": {
    "collapsed": false
   },
   "outputs": [
    {
     "data": {
      "image/png": "[encoded data removed]",
      "text/plain": [
       "<matplotlib.figure.Figure at 0x11e04d518>"
      ]
     },
     "metadata": {},
     "output_type": "display_data"
    }
   ],
   "source": [
    "for l, c, m in zip(np.unique(y_train), colors, markers):\n",
    "    plt.scatter(X_train_lda[y_train == l], \n",
    "                X_train_lda[y_train == l], \n",
    "                c=c, label=l, marker=m)\n",
    "plt.legend(loc='upper left')\n",
    "plt.tight_layout()\n",
    "# plt.savefig('./figures/pca2.png', dpi=300)\n",
    "plt.show()"
   ]
  },
  {
   "cell_type": "markdown",
   "metadata": {},
   "source": [
    "## <font color = 'purple'>Conclusion and explaination</font>\n",
    "\n",
    "#### Foundamental difference between PCA & LDA\n",
    "* PCA try to spread the dataset with maximized variance, without looking at the lables. Therefore, it only cares how all the input data set is distributed, and tries to project them so that the data spread all over the space\n",
    "* LDA considers lables, trying to seperate different labels as much as possible and also squeeze the data within same class.\n",
    "\n",
    "Therefore, if all classes of data's features, \n",
    "1. when plotted, never overlaps along all certain directions\n",
    "2. any/all of the data is distributed sparse along a direction and dense along another direction\n",
    "\n",
    "Then PCA and LDA should perform very differently in terms of projection\n",
    "\n",
    "More specifically, we can know: if there are 1 or more features that are really redundant to our objective but with high variance, PCA and LDA would perform differently.\n",
    "\n",
    "#### Idea to construct my data set\n",
    "\n",
    "As shown in the very first plot, what I did is \n",
    "1. make two classes of data that don't overlap with each other in both x1 & x2 dimensions\n",
    "2. class-0 is distributed relatively sparse corresponding to the x2 axis, more like around a line with slope = -0.2; class-1 is dense and approximately placed in x2 range (10,15), x1 range (4,8)\n",
    "\n",
    "#### Observing results (n_components=1)\n",
    "vectors for:\n",
    "* PCA: array([[ 0.70710678, -0.70710678]])\n",
    "* LDA: array([[ 13.94734479,  19.17419659]])\n",
    "\n",
    "* Since PCA tries to spread the data as much as possible, it use a vector (not along any dimension) to project the data. From observation, it is in same direction (1, -1), which spread the unlabeled data as much as possible \n",
    "* Since LDA tries to partition 2 lables as much as possible, obviously, it uses the vector above to seperate the data as much as possible. \n",
    "\n",
    "The two methods produce very different plot as shown above, LDA actually perform better.\n",
    " \n"
   ]
  },
  {
   "cell_type": "code",
   "execution_count": null,
   "metadata": {
    "collapsed": true
   },
   "outputs": [],
   "source": []
  }
 ],
 "metadata": {
  "anaconda-cloud": {},
  "kernelspec": {
   "display_name": "Python [Root]",
   "language": "python",
   "name": "Python [Root]"
  },
  "language_info": {
   "codemirror_mode": {
    "name": "ipython",
    "version": 3
   },
   "file_extension": ".py",
   "mimetype": "text/x-python",
   "name": "python",
   "nbconvert_exporter": "python",
   "pygments_lexer": "ipython3",
   "version": "3.5.2"
  },
  "name": "_merged"
 },
 "nbformat": 4,
 "nbformat_minor": 0
}

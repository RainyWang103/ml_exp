{
 "cells": [
  {
   "cell_type": "markdown",
   "metadata": {
    "nbpresent": {
     "id": "519571f7-cf32-4d47-9e68-1e11b0897078"
    },
    "slideshow": {
     "slide_type": "slide"
    }
   },
   "source": [
    "# Assignment 3 - basic classifiers\n",
    "\n",
    "## Wang Yuli 3035028946\n",
    "\n",
    "Math practice and coding application for main classifiers introduced in Chapter 3 of the Python machine learning book. "
   ]
  },
  {
   "cell_type": "markdown",
   "metadata": {
    "nbpresent": {
     "id": "d3ec125f-0a12-440a-a518-fdc0e62504cf"
    },
    "slideshow": {
     "slide_type": "subslide"
    }
   },
   "source": [
    "## Weighting\n",
    "\n",
    "Note that this assignment is more difficult than the previous ones, and thus has a higher weighting 3 and longer duration (3 weeks). Each one of the previous two assignments has a weighting 1.\n",
    "\n",
    "Specifically, the first 3 assignments contribute to your continuous assessment as follows:\n",
    "\n",
    "Assignment weights: $w_1 = 1, w_2 = 1, w_3 = 3$\n",
    "\n",
    "Assignment grades: $g_1, g_2, g_3$\n",
    "\n",
    "Weighted average: $\\frac{1}{\\sum_i w_i} \\times \\sum_i \\left(w_i \\times g_i \\right)$\n",
    "\n",
    "Future assignments will be added analogously."
   ]
  },
  {
   "cell_type": "markdown",
   "metadata": {
    "nbpresent": {
     "id": "b0bb94be-bfa8-42ab-bfec-fa5fc14e62a7"
    },
    "slideshow": {
     "slide_type": "slide"
    }
   },
   "source": [
    "# RBF kernel (20 points)\n",
    "\n",
    "Show that a Gaussian RBF kernel can be expressed as a dot product:\n",
    "$$\n",
    "K(\\mathbf{x}, \\mathbf{y}) \n",
    "= e^\\frac{-|\\mathbf{x} - \\mathbf{y}|^2}{2} \n",
    "= \\phi(\\mathbf{x})^T \\phi(\\mathbf{y})\n",
    "$$\n",
    "by spelling out the mapping function $\\phi$.\n",
    "\n",
    "For simplicity\n",
    "* you can assume both $\\mathbf{x}$ and $\\mathbf{y}$ are 2D vectors\n",
    "$\n",
    "x =\n",
    "\\begin{pmatrix}\n",
    "x_1 \\\\\n",
    "x_2\n",
    "\\end{pmatrix}\n",
    ", \\;\n",
    "y =\n",
    "\\begin{pmatrix}\n",
    "y_1 \\\\\n",
    "y_2\n",
    "\\end{pmatrix}\n",
    "$\n",
    "* we use a scalar unit variance here\n",
    "\n",
    "even though the proof can be extended for vectors $\\mathbf{x}$ $\\mathbf{y}$ and general covariance matrices.\n",
    "\n",
    "Hint: use Taylor series expansion of the exponential function"
   ]
  },
  {
   "cell_type": "markdown",
   "metadata": {
    "nbpresent": {
     "id": "7cda7f2b-ca7a-465e-a1ff-ab240e4c7fae"
    }
   },
   "source": [
    "## <font color = 'orange'>Answer </font>\n",
    "\n",
    "Since both $\\mathbf{x}$ and $\\mathbf{y}$ are 2D vectors\n",
    "$\n",
    "x =\n",
    "\\begin{pmatrix}\n",
    "x_1 \\\\\n",
    "x_2\n",
    "\\end{pmatrix}\n",
    ", \\;\n",
    "y =\n",
    "\\begin{pmatrix}\n",
    "y_1 \\\\\n",
    "y_2\n",
    "\\end{pmatrix}\n",
    "$\n",
    "\n",
    "First of all, we know: \n",
    "\n",
    "$\n",
    "\\frac{-|\\mathbf{x}-\\mathbf{y}|^2}{2} = - \\frac{\\left(x_1-y_1\\right)^2 + \\left(x_2-y_2\\right)^2}{2} = - \\frac{x_1^2+x_2^2+y_1^2+y_2^2-2x_1 y_2 -2x_2 y_2}{2} = -\\frac{||\\mathbf{x}||^2 + ||\\mathbf{y}||^2 - 2\\mathbf{x}^T\\mathbf{y}}{2}\n",
    "$\n",
    ", \n",
    "\n",
    "Hence:\n",
    "\n",
    "$$\n",
    "e^\\frac{-|\\mathbf{x} - \\mathbf{y}|^2}{2} = e^{-\\frac{||\\mathbf{x}||^2}{2}} e^{-\\frac{||\\mathbf{y}||^2}{2}} e^{\\mathbf{x}^T\\mathbf{y}} = e^{-\\frac{||\\mathbf{x}||^2}{2}} e^{-\\frac{||\\mathbf{y}||^2}{2}} e^{x_1 y_1} e^{x_2 y_2}\n",
    "$$\n",
    "\n",
    "\n",
    "By Taylor series expansion: $e^z = \\sum_{k=0}^\\infty \\frac{z^k}{k!}$, we have:\n",
    "\n",
    "$$\n",
    "e^{x_i y_i} = 1 + x_i y_i + \\frac{(x_i y_i)^2}{2!} + \\frac{(x_i y_i)^3}{3!} + \\frac{(x_i y_i)^4}{4!} + \\frac{(x_i y_i)^5}{5!} + ...\n",
    "$$\n",
    "\n",
    "Hence,\n",
    "\n",
    "$$\n",
    "\\begin{align}\n",
    "K(\\mathbf{x}, \\mathbf{y}) \n",
    "&= e^\\frac{-|\\mathbf{x} - \\mathbf{y}|^2}{2} \\\\\n",
    "&= e^{-\\frac{||\\mathbf{x}||^2}{2}} e^{-\\frac{||\\mathbf{y}||^2}{2}} e^{\\mathbf{x}^T\\mathbf{y}} \\\\\n",
    "&= e^{-\\frac{||\\mathbf{x}||^2}{2}} e^{-\\frac{||\\mathbf{y}||^2}{2}} \\times (1 + x_1 y_1 + \\frac{(x_1 y_1)^2}{2!} + ...) \\times (1 + x_2 y_2 + \\frac{(x_2 y_2)^2}{2!} + ...)\n",
    "\\end{align}\n",
    "$$\n",
    "\n",
    "Take observation:  \n",
    "\n",
    "### Make a substitution variable M, defined as follows\n",
    "$$\n",
    "K(\\mathbf{x}, \\mathbf{y}) = e^{-\\frac{x_1^2 + x_2^2}{2}} e^{-\\frac{y_1^2 + y_2^2}{2}} \\times M\n",
    "$$\n",
    "\n",
    "Then\n",
    "$$\n",
    "\\begin{align}\n",
    "M &= (1 + x_1 y_1 + \\frac{(x_1 y_1)^2}{2!} + \\frac{(x_1 y_1)^3}{3!} +..) \\times (1 + x_2 y_2 + \\frac{(x_2 y_2)^2}{2!} + \\frac{(x_2 y_2)^3}{3!} +..) \\\\\n",
    "&= (1 + x_1 y_1 + x_2 y_2 + \\frac{x_1^2 y_1^2}{2!} + \\frac{x_2^2 y_2^2}{2!} + \\frac{x_1^3 y_1^3}{3!} + \\frac{x_2^3 y_2^3}{3!}) + (\\frac{x_1^2 x_2 y_1^2 y_2}{2!} + \\frac{x_1 x_2^2 y_1 y_2^2}{2!}) + (\\frac{x_1^3 x_2 y_1^3 y_2}{3!} + \\frac{x_1 x_2^3 y_1 y_2^3}{3!} + \\frac{x_1^3 x_2^2 y_1^3 y_2^2}{3!\\times 2!} + \\frac{x_1^2 x_2^3 y_1^2 y_2^3}{3!\\times 2!}) + ( x_1 x_2 y_1 y_2+ \\frac{x_1^2 x_2^2 y_1^2 y_2^2}{2!\\times 2!} +\\frac{x_1^3 x_2^3 y_1^3 y_2^3}{3!\\times 3!}) + ...\n",
    "\\end{align}\n",
    "$$\n",
    "\n",
    "\n",
    "### Therefore, we can spell out the mapping function as follows:\n",
    "\n",
    "Since\n",
    "$$\n",
    "K(\\mathbf{x}, \\mathbf{y}) = \\phi(\\mathbf{x})^T \\phi(\\mathbf{y})\n",
    "$$\n",
    "\n",
    "$$\n",
    "\\phi(\\mathbf{x}) = \\phi(x_1, x_2)\n",
    "$$\n",
    "\n",
    "Through the observation above, the mapping function consists of <b>3</b> parts illustrated below\n",
    "\n",
    "* original terms from taylor expansion:\n",
    "\n",
    "$\n",
    "\\begin{align}\n",
    "\\phi_1(x_1, x_2) = e^{-\\frac{x_1^2 + x_2^2}{2}} \\left[1, x_1, x_2, \\frac{x_1^2}{\\sqrt 2!}, \\frac{x_2^2}{\\sqrt 2!}, \\frac{x_1^3}{\\sqrt 3!},  \\frac{x_2^3}{\\sqrt 3!}, \\frac{x_1^4}{\\sqrt 4!}, \\frac{x_2^4}{\\sqrt 4!}...    \\right]^T\n",
    "\\end{align}\n",
    "$\n",
    "\n",
    "* multiples of the above expansion terms\n",
    "\n",
    "$\n",
    "\\begin{align}\n",
    "\\phi_2(x_1, x_2) = e^{-\\frac{x_1^2 + x_2^2}{2}} \\left[x_1 x_2, \\frac{x_1^2 x_2^2}{2!}, \\frac{x_1^3 x_2^3}{3!}, \\frac{x_1^4 x_2^4}{4!}, ...\\right]^T\n",
    "\\end{align}\n",
    "$\n",
    "\n",
    "* combination products of the espansion terms:\n",
    "\n",
    "$\n",
    "\\phi_3(x_1, x_2) = e^{-\\frac{x_1^2 + x_2^2}{2}} \\left[ \\frac{x_1^2 x_2}{\\sqrt 2!}, \\frac{x_1 x_2^2}{\\sqrt 2!}, \\frac{x_1^3 x_2}{\\sqrt 3!}, \\frac{x_1 x_2^3}{\\sqrt 3!}, \\frac{x_1^3 x_2^2}{\\sqrt{3!\\times2!}}, \\frac{x_1^2 x_2^3}{\\sqrt{3!\\times2!}},\\frac{x_1^4 x_2}{\\sqrt 4!}, \\frac{x_1 x_2^4}{\\sqrt 4!}, \\frac{x_1^4 x_2^2}{\\sqrt{4!\\times2!}}, \\frac{x_1^2 x_2^4}{\\sqrt{4!\\times2!}}, \\frac{x_1^4 x_2^3}{\\sqrt{4!\\times3!}}, \\frac{x_1^3 x_2^4}{\\sqrt{4!\\times3!}}, ...    \\right]^T\n",
    "$\n",
    "\n",
    "\n",
    "\n",
    "### Finally, $\\phi(\\mathbf{x})$ is illustrated by concatenating $\\phi_1$, $\\phi_2$, $\\phi_3$: \n",
    "\n",
    "$\n",
    "\\phi(\\mathbf{x}) = \\phi(x_1,x_2) = e^{-\\frac{x_1^2 + x_2^2}{2}} \\left[1, x_1, x_2, \\frac{x_1^2}{\\sqrt 2!}, \\frac{x_2^2}{\\sqrt 2!}, ..., x_1 x_2, \\frac{x_1^2 x_2^2}{2!}, \\frac{x_1^3 x_2^3}{3!}, ..., \\frac{x_1^2 x_2}{\\sqrt 2!}, \\frac{x_1 x_2^2}{\\sqrt 2!}, \\frac{x_1^3 x_2}{\\sqrt 3!}, \\frac{x_1 x_2^3}{\\sqrt 3!}, \\frac{x_1^3 x_2^2}{\\sqrt{3!\\times2!}}, \\frac{x_1^2 x_2^3}{\\sqrt{3!\\times2!}}, ...    \\right]^T\n",
    "$\n"
   ]
  },
  {
   "cell_type": "markdown",
   "metadata": {
    "nbpresent": {
     "id": "2bae42b5-f8f7-4f3f-9cc2-58ab1b190692"
    },
    "slideshow": {
     "slide_type": "slide"
    }
   },
   "source": [
    "# Kernel SVM complexity (10 points)\n",
    "\n",
    "How would the complexity (in terms of number of parameters) of a trained kernel SVM change with the amount of training data, and why?\n",
    "Note that the answer may depend on the specific kernel used as well as the amount of training data.\n",
    "Consider specifically the following types of kernels $K(\\mathbf{x}, \\mathbf{y})$.\n",
    "* linear:\n",
    "$$\n",
    "K\\left(\\mathbf{x}, \\mathbf{y}\\right) = \\mathbf{x}^T \\mathbf{y}\n",
    "$$\n",
    "* polynomial with degree $q$:\n",
    "$$\n",
    "K\\left(\\mathbf{x}, \\mathbf{y}\\right) =\n",
    "(\\mathbf{x}^T\\mathbf{y} + 1)^q\n",
    "$$\n",
    "* RBF with distance function $D$:\n",
    "$$\n",
    "K\\left(\\mathbf{x}, \\mathbf{y} \\right) = e^{-\\frac{D\\left(\\mathbf{x}, \\mathbf{y} \\right)}{2s^2}}\n",
    "$$\n"
   ]
  },
  {
   "cell_type": "markdown",
   "metadata": {
    "nbpresent": {
     "id": "bc060180-1690-468e-aa18-dd9eb0f12878"
    }
   },
   "source": [
    "## <font color = 'orange'>Answer </font>\n",
    "\n",
    "To analyze the complexity of a kernel SVM change with respect to the amount of training data, we need to infer:\n",
    "\n",
    "* for SVM, we need parameters: weights $\\mathbf{w}$, lagrangian multipliers $\\alpha^{(i)}$, slack variables $\\xi^{(i)}$, and regularization parameter C\n",
    "* Among the above parameters, # of $w^{(i)}$, $\\alpha^{(i)}$, $\\xi^{(i)}$ are linearly dependent on # of i, which is # of z as in: $\\mathbf{z} = \\phi(\\mathbf{x})$\n",
    "* And # of $z^{(i)}$ are linearly dependent on # of dimensions of the projected space by using a selected kernel\n",
    "\n",
    "Therefore, the question is equivalent to analyze: <b>When choosing different kernel, how # of dimensions will change when # of data samples increases, </b>\n",
    "\n",
    "<b>i.e. how dimensions of $\\mathbf{z}$ changes </b>\n",
    "\n",
    "Assume\n",
    "\n",
    "$\n",
    "\\mathbf{x} = \\left[ x_1, x_2, x_3,...\\right] \\\\\n",
    "\\mathbf{y} = \\left[ y_1, y_2, y_3,...\\right]\n",
    "$\n",
    "\n",
    "$N$ = # of training data samples (# of features in $\\mathbf{x}$)\n",
    "\n",
    "### Linear Kernel: \n",
    "$$\n",
    "\\begin{align}\n",
    "K\\left(\\mathbf{x}, \\mathbf{y}\\right) = \\mathbf{x}^T \\mathbf{y}\n",
    "= x_1 y_1 + x_2 y_2 + x_3 y_3 + ...\n",
    "\\end{align}\n",
    "$$\n",
    "Therefore, from observation, the mapping function is\n",
    "$$\n",
    "\\begin{align}\n",
    "\\phi(\\mathbf{x}) = \\phi(x_1, x_2, x_3,...) = \\left[ x_1, x_2, x_3,...\\right]\n",
    "\\end{align}\n",
    "$$\n",
    "Hence, linear kernel will get a finite output space, complexity <b>$O(N)$</b>\n",
    "\n",
    "\n",
    "### Polynomial with degree $q$:\n",
    "$$\n",
    "\\begin{align}\n",
    "K\\left(\\mathbf{x}, \\mathbf{y}\\right) &= (\\mathbf{x}^T\\mathbf{y} + 1)^q \\\\\n",
    "&= \\left(1 + x_1 y_1 + x_2 y_2 + x_3 y_3 + ...\\right)^q\n",
    "\\end{align}\n",
    "$$\n",
    "\n",
    "For simplicity, assume $\\mathbf{x}$ and $\\mathbf{y}$ are 1D:\n",
    "\n",
    "Expand the polynomial by combination\n",
    "$$\n",
    "\\left(1 + x_1 y_1\\right)^q = \\binom q0 1^q + \\binom q1 1^{q-1}x_1 y_1 + \\binom q2 1^{q-2}x_1^2 y_1^2 + ... + \\binom qq x_1^q y_1^q\n",
    "$$\n",
    "\n",
    "The above equation has $(q+1)$ terms, hence dimension of $\\mathbf{z}$ is $(q+1)$\n",
    "\n",
    "if $\\mathbf{x}$ and $\\mathbf{y}$ are 2D:\n",
    "\n",
    "Expand the polynomial by combination\n",
    "$\n",
    "\\left(1 + x_1 y_1 + x_2 y_2\\right)^q = \\binom q0 1^q + \\binom q1 1^{q-1}(x_1 y_1 + x_2 y_2) + \\binom q2 1^{q-2}(x_1 y_1 + x_2 y_2 )^2 + \\binom q3 1^{q-3} (x_1 y_1 + x_2 y_2 )^3 ... + \\binom qq (x_1 y_1 + x_2 y_2 )^q\n",
    "$\n",
    "\n",
    "So, # of terms in the above equation = 1 + 2 + 3 + .. + (q+1) = $O(q^2)$\n",
    " \n",
    "if $\\mathbf{x}$ and $\\mathbf{y}$ are 3D: we can imagine the # of terms will be $O(q^3)$\n",
    "\n",
    "Therefore, when $N$ increases, # of terms in $K\\left(\\mathbf{x}, \\mathbf{y}\\right)$ increases exponentially, which means dimensions of $\\mathbf{z}$ also increases exponentially. Therefore, complexity: \n",
    "<b>$O(q^N)$</b>\n",
    "\n",
    "### RBF with distance function $D$:\n",
    "$$\n",
    "K\\left(\\mathbf{x}, \\mathbf{y} \\right) = e^{-\\frac{D\\left(\\mathbf{x}, \\mathbf{y} \\right)}{2s^2}}\n",
    "$$\n",
    "\n",
    "As shown in the previous question, RBF will project a finite space of $\\mathbf{x}$ to infinite output space, since the taylor expansion of the exponential function is infite. \n",
    "\n",
    "Therefore, we can't compute the complexity explicitly. However, what we can do is to estimate the complexity by observe how many new terms will be added if $N$ increases.\n",
    "\n",
    "From the previous question:\n",
    "$$\n",
    "e^\\frac{-|\\mathbf{x} - \\mathbf{y}|^2}{2} = e^{-\\frac{||\\mathbf{x}||^2}{2}} e^{-\\frac{||\\mathbf{y}||^2}{2}} e^{\\mathbf{x}^T\\mathbf{y}}\n",
    "$$\n",
    "\n",
    "Suppose we use square of the distance as our distance function:\n",
    "$$\n",
    "\\begin{align}\n",
    "M &= e^{\\mathbf{x}^T\\mathbf{y}} \\\\\n",
    "&= e^{x_1 y_1} e^{x_2 y_2} e^{x_3 y_3}... \\\\\n",
    "&= (1 + x_1 y_1 + \\frac{(x_1 y_1)^2}{2!} + ...) \\times (1 + x_2 y_2 + \\frac{(x_2 y_2)^2}{2!} + ...) \\times (1 + x_3 y_3 + \\frac{(x_3 y_3)^2}{2!} + ...) \\times...\n",
    "\\end{align}\n",
    "$$\n",
    "\n",
    "Since we already know that, when $\\mathbf{x}$ and $\\mathbf{y}$ are 2D:\n",
    "$\n",
    "\\phi(\\mathbf{x}) = \\phi(x_1,x_2) = e^{-\\frac{x_1^2 + x_2^2}{2}} \\left[1, x_1, x_2, \\frac{x_1^2}{\\sqrt 2!}, \\frac{x_2^2}{\\sqrt 2!}, ..., x_1 x_2, \\frac{x_1^2 x_2^2}{2!}, \\frac{x_1^3 x_2^3}{3!}, ..., \\frac{x_1^2 x_2}{\\sqrt 2!}, \\frac{x_1 x_2^2}{\\sqrt 2!}, \\frac{x_1^3 x_2}{\\sqrt 3!}, \\frac{x_1 x_2^3}{\\sqrt 3!}, \\frac{x_1^3 x_2^2}{\\sqrt{3!\\times2!}}, \\frac{x_1^2 x_2^3}{\\sqrt{3!\\times2!}}, ...    \\right]^T\n",
    "$\n",
    "\n",
    "Suppose original $\\phi(x_1,x_2)$ consists of $inf_1$ terms, when increase to 3D, we are multiplying  $(1 + x_3 y_3 + \\frac{(x_3 y_3)^2}{2!} + ...)$ to original kernel function.\n",
    "\n",
    "Suppose $(1 + x_3 y_3 + \\frac{(x_3 y_3)^2}{2!} + ...)$ has $inf_2$ terms\n",
    "\n",
    "Therefore, new $\\phi(x_1,x_2,x_3)$ will consists of $inf_1 inf_2$ terms, the dimensions will increase exponentially.\n",
    "\n",
    "To express clearly, if $inf$ is a constant, for RBF, complexity is $O(inf^N)$\n",
    "\n",
    "\n"
   ]
  },
  {
   "cell_type": "markdown",
   "metadata": {
    "nbpresent": {
     "id": "975c6cee-f0f8-494c-93a4-cc1699a1cbcb"
    },
    "slideshow": {
     "slide_type": "slide"
    }
   },
   "source": [
    "# Gaussian density Bayes (30 points)\n",
    "\n",
    "$$\n",
    "p\\left(\\Theta | \\mathbf{X}\\right)\n",
    "= \n",
    "\\frac{p\\left(\\mathbf{X} | \\Theta\\right) p\\left(\\Theta\\right)}{p\\left(\\mathbf{X}\\right)}\n",
    "$$\n",
    "\n",
    "Assume both the likelihood and prior have Gaussian distributions:\n",
    "\n",
    "$$\n",
    "\\begin{align}\n",
    "p(\\mathbf{X} | \\Theta)\n",
    "&=\n",
    "\\frac{1}{(2\\pi)^{N/2}\\sigma^N} \\exp\\left(-\\frac{\\sum_{t=1}^N (\\mathbf{x}^{(t)} - \\Theta)^2}{2\\sigma^2}\\right)\n",
    "\\\\\n",
    "p(\\Theta)\n",
    "&=\n",
    "\\frac{1}{\\sqrt{2\\pi}\\sigma_0} \\exp\\left( -\\frac{(\\Theta - \\mu_0)^2}{2\\sigma_0^2} \\right)\n",
    "\\end{align}\n",
    "$$\n",
    "\n",
    "Derive $\\Theta$ from the dataset $\\mathbf{X}$ via the following methods:\n",
    "\n",
    "### ML (maximum likelihood) estimation \n",
    "$$\n",
    "\\Theta_{ML} = argmax_{\\Theta} p(\\mathbf{X} | \\Theta)\n",
    "$$\n",
    "\n",
    "### MAP estimation\n",
    "$$\n",
    "\\begin{align}\n",
    "\\Theta_{MAP} \n",
    "&= \n",
    "argmax_{\\Theta} p(\\Theta | \\mathbf{X})\n",
    "\\\\\n",
    "&=\n",
    "argmax_{\\Theta} p(\\mathbf{X} | \\Theta) p(\\Theta)\n",
    "\\end{align}\n",
    "$$\n",
    "\n",
    "### Bayes estimation\n",
    "\n",
    "$$\n",
    "\\begin{align}\n",
    "\\Theta_{Bayes} \n",
    "&= \n",
    "E(\\Theta | \\mathbf{X})\n",
    "\\\\\n",
    "&= \n",
    "\\int \\Theta p(\\Theta | \\mathbf{X}) d\\Theta\n",
    "\\end{align}\n",
    "$$"
   ]
  },
  {
   "cell_type": "markdown",
   "metadata": {
    "nbpresent": {
     "id": "038f8316-4089-44bf-9b0b-63a68d54046a"
    }
   },
   "source": [
    "## <font color = 'orange'>Answer </font>\n",
    "\n",
    "### 1. ML(maximum likelihood) estimation\n",
    "since $\\frac{1}{(2\\pi)^{N/2}\\sigma^N}$ is a constant when we have a fixed data set $\\mathbf{X}$\n",
    "\n",
    "Assume \n",
    "$$\n",
    "k = \\frac{1}{(2\\pi)^{N/2}\\sigma^N}\n",
    "$$\n",
    "\n",
    "Then\n",
    "$$\n",
    "\\begin{align}\n",
    "\\Theta_{ML} &= argmax_\\Theta p(\\mathbf{X}|\\Theta) \\\\\n",
    "&= argmax_\\Theta (k \\times exp(-\\frac{\\sum_{t=1}^N(\\mathbf{x}^{(t)}-\\Theta)^2}{2\\sigma^2})) \\\\\n",
    "&= argmax_\\Theta (exp(-\\frac{\\sum_{t=1}^N(\\mathbf{x}^{(t)}-\\Theta)^2}{2\\sigma^2})) \\\\\n",
    "&= argmin_\\Theta (\\frac{\\sum_{t=1}^N(\\mathbf{x}^{(t)}-\\Theta)^2}{2\\sigma^2}) \\\\\n",
    "&= argmin_\\Theta \\sum_{t=1}^N(\\mathbf{x}^{(t)}-\\Theta)^2\n",
    "\\end{align}\n",
    "$$\n",
    "\n",
    "In order to further proceed and achieve a simple formula, we need to represent $\\sum_{t=1}^N\\mathbf{x}^{(t)}$ as well as $\\sum_{t=1}^N (\\mathbf{x}^{(t)})^2$ using $\\mathbf{m}$ and $\\sigma^2$:\n",
    "\n",
    "* Since $\\mathbf{m} = \\frac{\\sum_{t=1}^N \\mathbf{x}^{(t)}}{N}$，we have \n",
    "\n",
    "$$\n",
    "\\sum_{t=1}^N\\mathbf{x}^{(t)} = N\\mathbf{m}\n",
    "$$\n",
    "\n",
    "* Since $\\sigma^2 = \\frac{\\sum_{t=1}^N \\left(\\mathbf{x} - \\mathbf{m} \\right)^2}{N} = \\frac{\\sum_{t=1}^N\\mathbf{x}^{(t)})^2 - 2\\mathbf{m}\\sum_{t=1}^N\\mathbf{x}^{(t)} + N\\mathbf{m}^2}{N} = \\frac{\\sum_{t=1}^N\\mathbf{x}^{(t)})^2 - N\\mathbf{m}^2}{N}$, we have \n",
    "\n",
    "$$\n",
    "\\sum_{t=1}^N (\\mathbf{x}^{(t)})^2 = N\\mathbf{m}^2 + N\\sigma^2\n",
    "$$\n",
    "\n",
    "Hence,\n",
    "$$\n",
    "\\begin{align}\n",
    "\\Theta_{ML} \n",
    "&= argmin_\\Theta \\sum_{t=1}^N(\\mathbf{x}^{(t)}-\\Theta)^2 \\\\\n",
    "&= argmin_\\Theta (N\\Theta^2 - 2N\\mathbf{m}\\Theta + N\\mathbf{m}^2 + N\\sigma^2) \\\\\n",
    "&= argmin_\\Theta (\\Theta^2 - 2\\mathbf{m}\\Theta + \\mathbf{m}^2 + \\sigma^2)\n",
    "\\end{align}\n",
    "$$\n",
    "\n",
    "Since $1>0$, to minimize the above function subject to $\\Theta$: \n",
    " \n",
    "$$\n",
    "\\Theta_{ML} = \\mathbf{m} = \\frac{\\sum_{t=1}^N \\mathbf{x}^{(t)}}{N}\n",
    "$$\n",
    "\n",
    "### 2. MAP(maximum posterior) estimation\n",
    "since $\\frac{1}{(2\\pi)^{N/2}\\sigma^N}$ and $\\frac{1}{\\sqrt{2\\pi}\\sigma_0}$ are constants\n",
    "\n",
    "Assume\n",
    "$$\n",
    "k = \\frac{1}{(2\\pi)^{N/2}\\sigma^N} \\times \\frac{1}{\\sqrt{2\\pi}\\sigma_0}\n",
    "$$\n",
    "\n",
    "Then\n",
    "$$\n",
    "\\begin{align}\n",
    "\\Theta_{MAP} \n",
    "&= argmax_\\Theta p(\\Theta|\\mathbf{X}) \\\\\n",
    "&= argmax_\\Theta p(\\Theta|\\mathbf{X}) p(\\Theta) \\\\\n",
    "&= argmax_\\Theta (k \\times exp(-\\frac{\\sum_{t=1}^N(\\mathbf{x}^{(t)}-\\Theta)^2}{2\\sigma^2}) exp(-\\frac{(\\Theta - \\mu_0)^2}{2\\sigma_0^2})) \\\\\n",
    "&= argmax_\\Theta (exp(-(\\frac{\\sum_{t=1}^N(\\mathbf{x}^{(t)}-\\Theta)^2}{2\\sigma^2}+\\frac{(\\Theta - \\mu_0)^2}{2\\sigma_0^2}))) \\\\\n",
    "&= argmin_\\Theta (\\frac{\\sum_{t=1}^N(\\mathbf{x}^{(t)}-\\Theta)^2}{\\sigma^2}+\\frac{(\\Theta - \\mu_0)^2}{\\sigma_0^2}) \\\\\n",
    "&= argmin_\\Theta (\\frac {(N\\sigma_0^2+\\sigma^2)\\Theta^2- (2\\sigma_0^2 \\sum_{t=1}^N \\mathbf{x}^{(t)}+2\\sigma^2\\mu_0)\\Theta + \\sigma_0^2 \\sum_{t=1}^N (\\mathbf{x}^{(t)})^2 + \\sigma^2\\mu_0^2}{\\sigma^2 \\sigma_0^2})\\\\\n",
    "&= argmin_\\Theta ((N\\sigma_0^2+\\sigma^2)\\Theta^2- (2\\sigma_0^2 \\sum_{t=1}^N \\mathbf{x}^{(t)}+2\\sigma^2\\mu_0)\\Theta + \\sigma_0^2 \\sum_{t=1}^N (\\mathbf{x}^{(t)})^2 + \\sigma^2\\mu_0^2)\n",
    "\\end{align}\n",
    "$$\n",
    "\n",
    "Taken: \n",
    "* $$\\sum_{t=1}^N\\mathbf{x}^{(t)} = N\\mathbf{m}$$\n",
    "* $$\\sum_{t=1}^N (\\mathbf{x}^{(t)})^2 = N\\mathbf{m}^2 + N\\sigma^2$$\n",
    "\n",
    "\n",
    "Hence:\n",
    "$$\n",
    "\\Theta_{MAP} = argmin_\\Theta ((N\\sigma_0^2+\\sigma^2)\\Theta^2- (2\\sigma_0^2 N \\mathbf{m}+2\\sigma^2\\mu_0)\\Theta + N \\mathbf{m}^2\\sigma_0^2 + N\\sigma^2\\sigma_0^2 + \\mu_0^2\\sigma^2)\n",
    "$$\n",
    "\n",
    "Since $N\\sigma_0^2+\\sigma^2 > 0$, to minimize the above function subject to $\\Theta$:\n",
    "\n",
    "$$\n",
    "\\begin{align}\n",
    "\\Theta_{MAP} \n",
    "= \\frac{\\sigma_0^2 N \\mathbf{m}+\\sigma^2\\mu_0}{N\\sigma_0^2+\\sigma^2} \n",
    "= \\frac{\\sigma_0^2 N}{N\\sigma_0^2+\\sigma^2}\\mathbf{m} + \\frac{\\sigma^2}{N\\sigma_0^2+\\sigma^2}\\mu_0\n",
    "= \\frac{N/\\sigma^2}{N/\\sigma^2 + 1/\\sigma_0^2} \\mathbf{m} + \\frac{1/\\sigma_0^2}{N/\\sigma^2 + 1/\\sigma_0^2} \\mu_0\n",
    "\\end{align}\n",
    "$$\n",
    "\n",
    "### 3. Bayes Estimation\n",
    "\n",
    "Taken the above simplification performed on $p(\\Theta | \\mathbf{X})$\n",
    "\n",
    "$$\n",
    "\\begin{align}\n",
    "\\Theta_{Bayes} \n",
    "&= \n",
    "E(\\Theta | \\mathbf{X}) \\\\\n",
    "&= \n",
    "\\int \\Theta p(\\Theta | \\mathbf{X}) d\\Theta \\\\\n",
    "&=\n",
    "k \\int \\Theta exp(-\\frac{((N\\sigma_0^2+\\sigma^2)\\Theta^2- (2\\sigma_0^2 N \\mathbf{m}+2\\sigma^2\\mu_0)\\Theta + N \\mathbf{m}^2\\sigma_0^2 + N\\sigma^2\\sigma_0^2 + \\mu_0^2\\sigma^2)}{\\sigma^2 \\sigma_0^2}) d\\Theta\n",
    "\\end{align}\n",
    "$$\n",
    "\n",
    "Now, for simplicity, assume:\n",
    "$$\n",
    "a = - \\frac{N\\sigma_0^2+\\sigma^2}{\\sigma^2 \\sigma_0^2}\n",
    "$$\n",
    "\n",
    "$$\n",
    "b = \\frac{2\\sigma_0^2 N \\mathbf{m}+2\\sigma^2\\mu_0}{\\sigma^2 \\sigma_0^2}\n",
    "$$\n",
    "\n",
    "$$\n",
    "c = - \\frac{N \\mathbf{m}^2\\sigma_0^2 + N\\sigma^2\\sigma_0^2 + \\mu_0^2\\sigma^2}{\\sigma^2 \\sigma_0^2}\n",
    "$$\n",
    "\n",
    "Hence,\n",
    "$$\n",
    "\\begin{align}\n",
    "\\Theta_{Bayes} \n",
    "&= k \\int \\Theta exp(a\\Theta^2 + b\\Theta + c) d\\Theta \\\\\n",
    "&= k \\times exp(c+\\frac{b^2}{4a}) \\int \\Theta exp(a(\\Theta - \\frac{b}{2a})^2) d\\Theta\n",
    "\\end{align}\n",
    "$$\n",
    "\n",
    "Assume: $w = k \\times exp(c+\\frac{b^2}{4a}) $, then\n",
    "$$\n",
    "\\begin{align}\n",
    "\\Theta_{Bayes}\n",
    "&= w \\int \\Theta exp(a(\\Theta - \\frac{b}{2a})^2) d\\Theta \\\\\n",
    "&= w \\int (\\Theta - \\frac{b}{2a}) exp(a(\\Theta - \\frac{b}{2a})^2) d\\Theta + \\frac{wb}{2a} \\int exp(a(\\Theta - \\frac{b}{2a})^2) d\\Theta\n",
    "\\end{align}\n",
    "$$\n",
    "\n",
    "Assume $z = \\Theta - \\frac{b}{2a}$, then\n",
    "$$\n",
    "\\begin{align}\n",
    "\\Theta_{Bayes} &= w\\int z exp(az^2) dz + \\frac{wb}{2a} \\int exp(az^2) dz \n",
    "\\end{align}\n",
    "$$\n",
    "\n",
    "From there we can observe, to maximize the expectated value posterior density, we need $z=0$, therefore:\n",
    "\n",
    "$$\n",
    "\\Theta = \\frac{b}{2a} =\\frac{\\sigma_0^2 N}{N\\sigma_0^2+\\sigma^2}\\mathbf{m} + \\frac{\\sigma^2}{N\\sigma_0^2+\\sigma^2}\\mu_0\n",
    "= \\frac{N/\\sigma^2}{N/\\sigma^2 + 1/\\sigma_0^2} \\mathbf{m} + \\frac{1/\\sigma_0^2}{N/\\sigma^2 + 1/\\sigma_0^2} \\mu_0\n",
    "$$"
   ]
  },
  {
   "cell_type": "markdown",
   "metadata": {
    "nbpresent": {
     "id": "0b08424e-ce6a-4c15-b5f8-05508e877316"
    },
    "slideshow": {
     "slide_type": "slide"
    }
   },
   "source": [
    "# Hand-written digit classification (40 points)\n",
    "\n",
    "In the textbook sample code we applied different scikit-learn classifers for the Iris data set.\n",
    "\n",
    "In this exercise, we will apply the same set of classifiers over a different data set: hand-written digits.\n",
    "Please write down the code for different classifiers, choose their hyper-parameters, and compare their performance via the accuracy score as in the Iris dataset.\n",
    "Which classifier(s) perform(s) the best and worst, and why?\n",
    "\n",
    "The classifiers include:\n",
    "* perceptron\n",
    "* logistic regression\n",
    "* SVM\n",
    "* decision tree\n",
    "* random forest\n",
    "* KNN\n",
    "* naive Bayes\n",
    "\n",
    "The dataset is available as part of scikit learn, as follows."
   ]
  },
  {
   "cell_type": "markdown",
   "metadata": {
    "nbpresent": {
     "id": "26cd5b73-dff7-4ea5-b1d5-d8b608e4da61"
    }
   },
   "source": [
    "## <font color = 'orange'>Answer </font>\n",
    "\n",
    "In pre-processing, the data is splitted into 70% for training and 30% for testing, # of samples:\n",
    "* training: 1257, test: 540\n",
    "\n",
    "Experiements were then performed using 7 different classfiers shown in below code blocks. By tuning the hyper-parameters in the classifiers, the accuracy scores are approximately optimal. \n",
    "\n",
    "Below is the detailed report\n",
    "\n",
    "| Classifier           | Misclassified | Accuracy score |\n",
    "| -------------------- |:-------------:| :-------------:|\n",
    "| perceptron           | 38            | 0.93           |\n",
    "| logistic regression  | 24            | 0.96           |\n",
    "| SVM                  | 11            | 0.98           |\n",
    "| decision tree        | 475           | 0.12           |\n",
    "| random forest        | 423           | 0.22           |\n",
    "| KNN                  | 16            | 0.97           |\n",
    "| naive Bayes          | 125           | 0.77           |\n",
    "\n",
    "### Conslusion\n",
    "\n",
    "Among all the classifiers:\n",
    "* Best Performance/Accuracy: SVM with linear kernel, K-Nearest Neighbors, Logistic Regression\n",
    "* Worst Performance/Accuracy: Decision Tree, Random Forest\n",
    "\n",
    "### Reason for above results\n",
    "\n",
    "* Observing the dataset: \n",
    "\n",
    "the data of hand-written digits are formulated by 64 features, which are information contained in pixels of the figures. Hence it is natural to say that, in order to recognize which digit the figure is, it is necessary to consider how the 64 pixels behaves instead of only consider 1 pixel at a time.\n",
    "\n",
    "<b>Thus</b>,\n",
    "\n",
    "* <b>Decision Tree & Random Forest</b> are worst:\n",
    "\n",
    "Since decision tree consider one dimension at a time and performs classification in a tree structure, it only consider one pixel at a time. However, 1 pixel is not sufficient to do classification in the digit recognition. Hence the accuracy is really bad. Random Forest only uses more decision trees to perform ensemble learning but still doesn't change the science in it. Therefore, the accuracy is not improved much.\n",
    "\n",
    "* <b>SVM, LR and KNN</b> are best:\n",
    "\n",
    "Since the hand-written digits are similar in shape, closer pixels in the figure should have similar values. Hence if we plot the data points in a high dimensional space, same digits are likely to gather together. Therefore, it's natural to see these 3 models will give a good accuracy score, because they consider all of the data each time in the training. \n",
    "\n",
    "KNN is a statistic way of viewing, via distance among the data points. Given good constraints of n_neighbors and distance function, it can give a good results. SVM and LR are also good since their derivatives are smooth and continous. \n",
    "\n",
    "* <b>Perceptron is ok</b> but not the best\n",
    "\n",
    "Perceptron also respect the fact that the same digits are gathering in the space plotted. The reason why it is less accurate than SVM, LR and KNN is due to it's lack of variance in activation function. It's either non-differentiable or differentiated in a too simple function. It's likely to under-fit the data.\n",
    "\n",
    "* <b>Naive Bayes</b> took a wrong assumption\n",
    "\n",
    "Naive Bayes assumes all features are independent. However, pixels are related to how the digits are written. Therefore, they are not entirely independent. That's why it doesn't have a high accuracy score\n",
    "\n"
   ]
  },
  {
   "cell_type": "code",
   "execution_count": 134,
   "metadata": {
    "collapsed": false,
    "nbpresent": {
     "id": "d591c881-868a-4e56-88f7-25bdeea6eeef"
    },
    "slideshow": {
     "slide_type": "skip"
    }
   },
   "outputs": [
    {
     "ename": "ImportError",
     "evalue": "No module named 'watermark'",
     "output_type": "error",
     "traceback": [
      "\u001b[0;31m---------------------------------------------------------------------------\u001b[0m",
      "\u001b[0;31mImportError\u001b[0m                               Traceback (most recent call last)",
      "\u001b[0;32m<ipython-input-134-3744f9d30f88>\u001b[0m in \u001b[0;36m<module>\u001b[0;34m()\u001b[0m\n\u001b[0;32m----> 1\u001b[0;31m \u001b[0mget_ipython\u001b[0m\u001b[0;34m(\u001b[0m\u001b[0;34m)\u001b[0m\u001b[0;34m.\u001b[0m\u001b[0mmagic\u001b[0m\u001b[0;34m(\u001b[0m\u001b[0;34m'load_ext watermark'\u001b[0m\u001b[0;34m)\u001b[0m\u001b[0;34m\u001b[0m\u001b[0m\n\u001b[0m\u001b[1;32m      2\u001b[0m \u001b[0mget_ipython\u001b[0m\u001b[0;34m(\u001b[0m\u001b[0;34m)\u001b[0m\u001b[0;34m.\u001b[0m\u001b[0mmagic\u001b[0m\u001b[0;34m(\u001b[0m\u001b[0;34m\"watermark -a '' -u -d -v -p numpy,pandas,matplotlib,scipy,sklearn\"\u001b[0m\u001b[0;34m)\u001b[0m\u001b[0;34m\u001b[0m\u001b[0m\n\u001b[1;32m      3\u001b[0m \u001b[0mget_ipython\u001b[0m\u001b[0;34m(\u001b[0m\u001b[0;34m)\u001b[0m\u001b[0;34m.\u001b[0m\u001b[0mmagic\u001b[0m\u001b[0;34m(\u001b[0m\u001b[0;34m'matplotlib inline'\u001b[0m\u001b[0;34m)\u001b[0m\u001b[0;34m\u001b[0m\u001b[0m\n",
      "\u001b[0;32m/Applications/anaconda/lib/python3.5/site-packages/IPython/core/interactiveshell.py\u001b[0m in \u001b[0;36mmagic\u001b[0;34m(self, arg_s)\u001b[0m\n\u001b[1;32m   2161\u001b[0m         \u001b[0mmagic_name\u001b[0m\u001b[0;34m,\u001b[0m \u001b[0m_\u001b[0m\u001b[0;34m,\u001b[0m \u001b[0mmagic_arg_s\u001b[0m \u001b[0;34m=\u001b[0m \u001b[0marg_s\u001b[0m\u001b[0;34m.\u001b[0m\u001b[0mpartition\u001b[0m\u001b[0;34m(\u001b[0m\u001b[0;34m' '\u001b[0m\u001b[0;34m)\u001b[0m\u001b[0;34m\u001b[0m\u001b[0m\n\u001b[1;32m   2162\u001b[0m         \u001b[0mmagic_name\u001b[0m \u001b[0;34m=\u001b[0m \u001b[0mmagic_name\u001b[0m\u001b[0;34m.\u001b[0m\u001b[0mlstrip\u001b[0m\u001b[0;34m(\u001b[0m\u001b[0mprefilter\u001b[0m\u001b[0;34m.\u001b[0m\u001b[0mESC_MAGIC\u001b[0m\u001b[0;34m)\u001b[0m\u001b[0;34m\u001b[0m\u001b[0m\n\u001b[0;32m-> 2163\u001b[0;31m         \u001b[0;32mreturn\u001b[0m \u001b[0mself\u001b[0m\u001b[0;34m.\u001b[0m\u001b[0mrun_line_magic\u001b[0m\u001b[0;34m(\u001b[0m\u001b[0mmagic_name\u001b[0m\u001b[0;34m,\u001b[0m \u001b[0mmagic_arg_s\u001b[0m\u001b[0;34m)\u001b[0m\u001b[0;34m\u001b[0m\u001b[0m\n\u001b[0m\u001b[1;32m   2164\u001b[0m \u001b[0;34m\u001b[0m\u001b[0m\n\u001b[1;32m   2165\u001b[0m     \u001b[0;31m#-------------------------------------------------------------------------\u001b[0m\u001b[0;34m\u001b[0m\u001b[0;34m\u001b[0m\u001b[0m\n",
      "\u001b[0;32m/Applications/anaconda/lib/python3.5/site-packages/IPython/core/interactiveshell.py\u001b[0m in \u001b[0;36mrun_line_magic\u001b[0;34m(self, magic_name, line)\u001b[0m\n\u001b[1;32m   2082\u001b[0m                 \u001b[0mkwargs\u001b[0m\u001b[0;34m[\u001b[0m\u001b[0;34m'local_ns'\u001b[0m\u001b[0;34m]\u001b[0m \u001b[0;34m=\u001b[0m \u001b[0msys\u001b[0m\u001b[0;34m.\u001b[0m\u001b[0m_getframe\u001b[0m\u001b[0;34m(\u001b[0m\u001b[0mstack_depth\u001b[0m\u001b[0;34m)\u001b[0m\u001b[0;34m.\u001b[0m\u001b[0mf_locals\u001b[0m\u001b[0;34m\u001b[0m\u001b[0m\n\u001b[1;32m   2083\u001b[0m             \u001b[0;32mwith\u001b[0m \u001b[0mself\u001b[0m\u001b[0;34m.\u001b[0m\u001b[0mbuiltin_trap\u001b[0m\u001b[0;34m:\u001b[0m\u001b[0;34m\u001b[0m\u001b[0m\n\u001b[0;32m-> 2084\u001b[0;31m                 \u001b[0mresult\u001b[0m \u001b[0;34m=\u001b[0m \u001b[0mfn\u001b[0m\u001b[0;34m(\u001b[0m\u001b[0;34m*\u001b[0m\u001b[0margs\u001b[0m\u001b[0;34m,\u001b[0m\u001b[0;34m**\u001b[0m\u001b[0mkwargs\u001b[0m\u001b[0;34m)\u001b[0m\u001b[0;34m\u001b[0m\u001b[0m\n\u001b[0m\u001b[1;32m   2085\u001b[0m             \u001b[0;32mreturn\u001b[0m \u001b[0mresult\u001b[0m\u001b[0;34m\u001b[0m\u001b[0m\n\u001b[1;32m   2086\u001b[0m \u001b[0;34m\u001b[0m\u001b[0m\n",
      "\u001b[0;32m<decorator-gen-64>\u001b[0m in \u001b[0;36mload_ext\u001b[0;34m(self, module_str)\u001b[0m\n",
      "\u001b[0;32m/Applications/anaconda/lib/python3.5/site-packages/IPython/core/magic.py\u001b[0m in \u001b[0;36m<lambda>\u001b[0;34m(f, *a, **k)\u001b[0m\n\u001b[1;32m    191\u001b[0m     \u001b[0;31m# but it's overkill for just that one bit of state.\u001b[0m\u001b[0;34m\u001b[0m\u001b[0;34m\u001b[0m\u001b[0m\n\u001b[1;32m    192\u001b[0m     \u001b[0;32mdef\u001b[0m \u001b[0mmagic_deco\u001b[0m\u001b[0;34m(\u001b[0m\u001b[0marg\u001b[0m\u001b[0;34m)\u001b[0m\u001b[0;34m:\u001b[0m\u001b[0;34m\u001b[0m\u001b[0m\n\u001b[0;32m--> 193\u001b[0;31m         \u001b[0mcall\u001b[0m \u001b[0;34m=\u001b[0m \u001b[0;32mlambda\u001b[0m \u001b[0mf\u001b[0m\u001b[0;34m,\u001b[0m \u001b[0;34m*\u001b[0m\u001b[0ma\u001b[0m\u001b[0;34m,\u001b[0m \u001b[0;34m**\u001b[0m\u001b[0mk\u001b[0m\u001b[0;34m:\u001b[0m \u001b[0mf\u001b[0m\u001b[0;34m(\u001b[0m\u001b[0;34m*\u001b[0m\u001b[0ma\u001b[0m\u001b[0;34m,\u001b[0m \u001b[0;34m**\u001b[0m\u001b[0mk\u001b[0m\u001b[0;34m)\u001b[0m\u001b[0;34m\u001b[0m\u001b[0m\n\u001b[0m\u001b[1;32m    194\u001b[0m \u001b[0;34m\u001b[0m\u001b[0m\n\u001b[1;32m    195\u001b[0m         \u001b[0;32mif\u001b[0m \u001b[0mcallable\u001b[0m\u001b[0;34m(\u001b[0m\u001b[0marg\u001b[0m\u001b[0;34m)\u001b[0m\u001b[0;34m:\u001b[0m\u001b[0;34m\u001b[0m\u001b[0m\n",
      "\u001b[0;32m/Applications/anaconda/lib/python3.5/site-packages/IPython/core/magics/extension.py\u001b[0m in \u001b[0;36mload_ext\u001b[0;34m(self, module_str)\u001b[0m\n\u001b[1;32m     64\u001b[0m         \u001b[0;32mif\u001b[0m \u001b[0;32mnot\u001b[0m \u001b[0mmodule_str\u001b[0m\u001b[0;34m:\u001b[0m\u001b[0;34m\u001b[0m\u001b[0m\n\u001b[1;32m     65\u001b[0m             \u001b[0;32mraise\u001b[0m \u001b[0mUsageError\u001b[0m\u001b[0;34m(\u001b[0m\u001b[0;34m'Missing module name.'\u001b[0m\u001b[0;34m)\u001b[0m\u001b[0;34m\u001b[0m\u001b[0m\n\u001b[0;32m---> 66\u001b[0;31m         \u001b[0mres\u001b[0m \u001b[0;34m=\u001b[0m \u001b[0mself\u001b[0m\u001b[0;34m.\u001b[0m\u001b[0mshell\u001b[0m\u001b[0;34m.\u001b[0m\u001b[0mextension_manager\u001b[0m\u001b[0;34m.\u001b[0m\u001b[0mload_extension\u001b[0m\u001b[0;34m(\u001b[0m\u001b[0mmodule_str\u001b[0m\u001b[0;34m)\u001b[0m\u001b[0;34m\u001b[0m\u001b[0m\n\u001b[0m\u001b[1;32m     67\u001b[0m \u001b[0;34m\u001b[0m\u001b[0m\n\u001b[1;32m     68\u001b[0m         \u001b[0;32mif\u001b[0m \u001b[0mres\u001b[0m \u001b[0;34m==\u001b[0m \u001b[0;34m'already loaded'\u001b[0m\u001b[0;34m:\u001b[0m\u001b[0;34m\u001b[0m\u001b[0m\n",
      "\u001b[0;32m/Applications/anaconda/lib/python3.5/site-packages/IPython/core/extensions.py\u001b[0m in \u001b[0;36mload_extension\u001b[0;34m(self, module_str)\u001b[0m\n\u001b[1;32m     82\u001b[0m             \u001b[0;32mif\u001b[0m \u001b[0mmodule_str\u001b[0m \u001b[0;32mnot\u001b[0m \u001b[0;32min\u001b[0m \u001b[0msys\u001b[0m\u001b[0;34m.\u001b[0m\u001b[0mmodules\u001b[0m\u001b[0;34m:\u001b[0m\u001b[0;34m\u001b[0m\u001b[0m\n\u001b[1;32m     83\u001b[0m                 \u001b[0;32mwith\u001b[0m \u001b[0mprepended_to_syspath\u001b[0m\u001b[0;34m(\u001b[0m\u001b[0mself\u001b[0m\u001b[0;34m.\u001b[0m\u001b[0mipython_extension_dir\u001b[0m\u001b[0;34m)\u001b[0m\u001b[0;34m:\u001b[0m\u001b[0;34m\u001b[0m\u001b[0m\n\u001b[0;32m---> 84\u001b[0;31m                     \u001b[0m__import__\u001b[0m\u001b[0;34m(\u001b[0m\u001b[0mmodule_str\u001b[0m\u001b[0;34m)\u001b[0m\u001b[0;34m\u001b[0m\u001b[0m\n\u001b[0m\u001b[1;32m     85\u001b[0m             \u001b[0mmod\u001b[0m \u001b[0;34m=\u001b[0m \u001b[0msys\u001b[0m\u001b[0;34m.\u001b[0m\u001b[0mmodules\u001b[0m\u001b[0;34m[\u001b[0m\u001b[0mmodule_str\u001b[0m\u001b[0;34m]\u001b[0m\u001b[0;34m\u001b[0m\u001b[0m\n\u001b[1;32m     86\u001b[0m             \u001b[0;32mif\u001b[0m \u001b[0mself\u001b[0m\u001b[0;34m.\u001b[0m\u001b[0m_call_load_ipython_extension\u001b[0m\u001b[0;34m(\u001b[0m\u001b[0mmod\u001b[0m\u001b[0;34m)\u001b[0m\u001b[0;34m:\u001b[0m\u001b[0;34m\u001b[0m\u001b[0m\n",
      "\u001b[0;31mImportError\u001b[0m: No module named 'watermark'"
     ]
    }
   ],
   "source": [
    "%load_ext watermark\n",
    "%watermark -a '' -u -d -v -p numpy,pandas,matplotlib,scipy,sklearn\n",
    "%matplotlib inline"
   ]
  },
  {
   "cell_type": "code",
   "execution_count": 135,
   "metadata": {
    "collapsed": true,
    "nbpresent": {
     "id": "da9ccdff-7d7e-40a1-846a-1497aa6b82ed"
    },
    "slideshow": {
     "slide_type": "skip"
    }
   },
   "outputs": [],
   "source": [
    "# Added version check for recent scikit-learn 0.18 checks\n",
    "from distutils.version import LooseVersion as Version\n",
    "from sklearn import __version__ as sklearn_version"
   ]
  },
  {
   "cell_type": "markdown",
   "metadata": {
    "nbpresent": {
     "id": "6698f670-62d5-4742-91e5-3d865b8ecfaf"
    },
    "slideshow": {
     "slide_type": "fragment"
    }
   },
   "source": [
    "## Load data"
   ]
  },
  {
   "cell_type": "code",
   "execution_count": 136,
   "metadata": {
    "collapsed": false,
    "nbpresent": {
     "id": "8ddc550e-4011-490d-b4a1-190f5493076f"
    },
    "slideshow": {
     "slide_type": "fragment"
    }
   },
   "outputs": [
    {
     "name": "stdout",
     "output_type": "stream",
     "text": [
      "(1797, 64)\n",
      "(1797,)\n"
     ]
    }
   ],
   "source": [
    "from sklearn.datasets import load_digits\n",
    "digits = load_digits()\n",
    "\n",
    "X = digits.data # training data\n",
    "y = digits.target # training label\n",
    "\n",
    "print(X.shape)\n",
    "print(y.shape)"
   ]
  },
  {
   "cell_type": "markdown",
   "metadata": {
    "nbpresent": {
     "id": "54f28f6e-e505-41e3-8e9b-9b6fcd88d0d0"
    },
    "slideshow": {
     "slide_type": "fragment"
    }
   },
   "source": [
    "## Visualize data"
   ]
  },
  {
   "cell_type": "code",
   "execution_count": 66,
   "metadata": {
    "collapsed": false,
    "nbpresent": {
     "id": "0be670b1-cfcc-4374-8ca1-c5b88a1ac6dd"
    },
    "slideshow": {
     "slide_type": "fragment"
    }
   },
   "outputs": [],
   "source": [
    "import matplotlib as mplib\n",
    "import matplotlib.pyplot as plt\n",
    "import pylab as pl\n",
    "\n",
    "num_rows = 4\n",
    "num_cols = 5\n",
    "\n",
    "fig, ax = plt.subplots(nrows=num_rows, ncols=num_cols, sharex=True, sharey=True)\n",
    "ax = ax.flatten()\n",
    "for index in range(num_rows*num_cols):\n",
    "    img = digits.images[index]\n",
    "    label = digits.target[index]\n",
    "    ax[index].imshow(img, cmap='Greys', interpolation='nearest')\n",
    "    ax[index].set_title('digit ' + str(label))\n",
    "\n",
    "ax[0].set_xticks([])\n",
    "ax[0].set_yticks([])\n",
    "\n",
    "if mplib.get_backend().lower() in ['agg', 'macosx']: # this modification: suppress tight_layout() warning\n",
    "    plt.figure().set_tight_layout(True)\n",
    "else:\n",
    "    plt.tight_layout()\n",
    "\n",
    "plt.show()"
   ]
  },
  {
   "cell_type": "markdown",
   "metadata": {
    "nbpresent": {
     "id": "0bea03c4-87d3-46a7-a892-c8903597b723"
    },
    "slideshow": {
     "slide_type": "fragment"
    }
   },
   "source": [
    "## Data Preprocessing\n",
    "Hint: How you divide training and test data set? And apply other techinques we have learned if needed.\n",
    "You could take a look at the Iris data set case in the textbook."
   ]
  },
  {
   "cell_type": "code",
   "execution_count": 137,
   "metadata": {
    "collapsed": false,
    "nbpresent": {
     "id": "d8046b5a-7c75-4a0f-ad79-6de771a60125"
    },
    "slideshow": {
     "slide_type": "fragment"
    }
   },
   "outputs": [
    {
     "name": "stdout",
     "output_type": "stream",
     "text": [
      "# of training data: 1257\n",
      "# of test data: 540\n"
     ]
    }
   ],
   "source": [
    "#Your code comes here\n",
    "from sklearn.model_selection import train_test_split\n",
    "from sklearn.preprocessing import StandardScaler\n",
    "\n",
    "# splitting 70% data for training, 30% data for testing\n",
    "X_train, X_test, y_train, y_test = train_test_split(\n",
    "    X, y, test_size=0.3, random_state=0)\n",
    "\n",
    "num_training = y_train.shape[0]\n",
    "num_test = y_test.shape[0]\n",
    "print('# of training data: ' + str(num_training) + '\\n# of test data: ' + str(num_test))\n",
    "\n",
    "# scaling data using standard scaling method\n",
    "sc = StandardScaler()\n",
    "sc.fit(X_train)\n",
    "X_train_std = sc.transform(X_train)\n",
    "X_test_std = sc.transform(X_test)"
   ]
  },
  {
   "cell_type": "markdown",
   "metadata": {
    "nbpresent": {
     "id": "d10474ec-2d23-4b91-b40d-90068bab9a59"
    },
    "slideshow": {
     "slide_type": "fragment"
    }
   },
   "source": [
    "## Helper Functions"
   ]
  },
  {
   "cell_type": "code",
   "execution_count": 138,
   "metadata": {
    "collapsed": true,
    "nbpresent": {
     "id": "26c10334-1a37-42e0-97be-d2714de37f4b"
    },
    "slideshow": {
     "slide_type": "fragment"
    }
   },
   "outputs": [],
   "source": [
    "def check_accuracy(y_pred):\n",
    "    print('Misclassified samples: %d out of %d' % ((y_test != y_pred).sum(), y_test.shape[0]))\n",
    "    print('Accuracy: %.2f' % accuracy_score(y_test, y_pred))"
   ]
  },
  {
   "cell_type": "markdown",
   "metadata": {
    "nbpresent": {
     "id": "282f6eeb-c6e2-44b7-bb74-a22e7c159866"
    },
    "slideshow": {
     "slide_type": "fragment"
    }
   },
   "source": [
    "## Classifier #1 Perceptron"
   ]
  },
  {
   "cell_type": "code",
   "execution_count": 139,
   "metadata": {
    "collapsed": false,
    "nbpresent": {
     "id": "8e2d2073-135a-44dc-b809-cc3f1138f444"
    },
    "slideshow": {
     "slide_type": "fragment"
    }
   },
   "outputs": [
    {
     "name": "stdout",
     "output_type": "stream",
     "text": [
      "Misclassified samples: 38 out of 540\n",
      "Accuracy: 0.93\n"
     ]
    }
   ],
   "source": [
    "#Your code, including traing and testing, to observe the accuracies.\n",
    "from sklearn.linear_model import Perceptron\n",
    "from sklearn.metrics import accuracy_score\n",
    "\n",
    "# Training\n",
    "model_ppn = Perceptron(n_iter=50, eta0=0.1, random_state=0) \n",
    "model_ppn.fit(X_train_std, y_train)\n",
    "# Predicting\n",
    "y_pred_ppn = model_ppn.predict(X_test_std)\n",
    "# accuracy checking\n",
    "check_accuracy(y_pred_ppn)"
   ]
  },
  {
   "cell_type": "markdown",
   "metadata": {
    "nbpresent": {
     "id": "e28071b7-4d1c-4e17-874b-400883907958"
    },
    "slideshow": {
     "slide_type": "fragment"
    }
   },
   "source": [
    "## Classifier #2 Logistic Regression"
   ]
  },
  {
   "cell_type": "code",
   "execution_count": 140,
   "metadata": {
    "collapsed": false,
    "nbpresent": {
     "id": "4a200ce1-78e6-4d4c-891a-c519a864fb2b"
    },
    "slideshow": {
     "slide_type": "fragment"
    }
   },
   "outputs": [
    {
     "name": "stdout",
     "output_type": "stream",
     "text": [
      "Misclassified samples: 24 out of 540\n",
      "Accuracy: 0.96\n"
     ]
    }
   ],
   "source": [
    "#Your code, including traing and testing, to observe the accuracies.\n",
    "from sklearn.linear_model import LogisticRegression\n",
    "\n",
    "# Training\n",
    "model_lr = LogisticRegression(C=10.0, random_state=0)\n",
    "model_lr.fit(X_train_std, y_train)\n",
    "# Predicting\n",
    "y_pred_lr = model_lr.predict(X_test_std)\n",
    "# accuracy checking\n",
    "check_accuracy(y_pred_lr)"
   ]
  },
  {
   "cell_type": "markdown",
   "metadata": {
    "nbpresent": {
     "id": "07aa520d-6066-4abc-adcb-7b462c3e3375"
    },
    "slideshow": {
     "slide_type": "fragment"
    }
   },
   "source": [
    "## Classifier #3 SVM"
   ]
  },
  {
   "cell_type": "markdown",
   "metadata": {
    "nbpresent": {
     "id": "c8d53fd3-4211-4155-8083-fa60aa9f2ee3"
    }
   },
   "source": [
    "* Through experiment, linear kernel performs better than rbf kernel"
   ]
  },
  {
   "cell_type": "code",
   "execution_count": 141,
   "metadata": {
    "collapsed": false,
    "nbpresent": {
     "id": "ddde799e-a834-4c75-acaf-4a004e3075d2"
    },
    "slideshow": {
     "slide_type": "fragment"
    }
   },
   "outputs": [
    {
     "name": "stdout",
     "output_type": "stream",
     "text": [
      "Misclassified samples: 11 out of 540\n",
      "Accuracy: 0.98\n"
     ]
    }
   ],
   "source": [
    "#Your code, including traing and testing, to observe the accuracies.\n",
    "from sklearn.svm import SVC\n",
    "\n",
    "# Training\n",
    "model_svm = SVC(kernel='linear', C=0.1, random_state=0)\n",
    "model_svm.fit(X_train_std, y_train)\n",
    "# Predicting\n",
    "y_pred_svm = model_svm.predict(X_test_std)\n",
    "# accuracy checking\n",
    "check_accuracy(y_pred_svm)"
   ]
  },
  {
   "cell_type": "markdown",
   "metadata": {
    "nbpresent": {
     "id": "2c26001e-718e-443b-b403-7bc4cc00ab01"
    },
    "slideshow": {
     "slide_type": "fragment"
    }
   },
   "source": [
    "## Classifier #4 Decision Tree"
   ]
  },
  {
   "cell_type": "code",
   "execution_count": 142,
   "metadata": {
    "collapsed": false,
    "nbpresent": {
     "id": "d60065cc-a014-44fc-b111-2340841d9fcf"
    },
    "slideshow": {
     "slide_type": "fragment"
    }
   },
   "outputs": [
    {
     "name": "stdout",
     "output_type": "stream",
     "text": [
      "Misclassified samples: 475 out of 540\n",
      "Accuracy: 0.12\n"
     ]
    }
   ],
   "source": [
    "#Your code, including traing and testing, to observe the accuracies.\n",
    "from sklearn.tree import DecisionTreeClassifier\n",
    "\n",
    "# Training\n",
    "model_tree = DecisionTreeClassifier(criterion='entropy', max_depth=8, random_state=0)\n",
    "model_tree.fit(X_train, y_train)\n",
    "# Predicting\n",
    "y_pred_tree = model_tree.predict(X_test_std)\n",
    "# accuracy checking\n",
    "check_accuracy(y_pred_tree)"
   ]
  },
  {
   "cell_type": "markdown",
   "metadata": {
    "nbpresent": {
     "id": "7c1d6396-2e65-4a0a-a2d5-a4d84c7b5f04"
    },
    "slideshow": {
     "slide_type": "fragment"
    }
   },
   "source": [
    "## Classifer #5 Random Forest"
   ]
  },
  {
   "cell_type": "code",
   "execution_count": 143,
   "metadata": {
    "collapsed": false,
    "nbpresent": {
     "id": "02b5728a-d2f0-4af9-8ed1-79c962816722"
    }
   },
   "outputs": [
    {
     "name": "stdout",
     "output_type": "stream",
     "text": [
      "Misclassified samples: 423 out of 540\n",
      "Accuracy: 0.22\n"
     ]
    }
   ],
   "source": [
    "#Your code, including traing and testing, to observe the accuracies.\n",
    "from sklearn.ensemble import RandomForestClassifier\n",
    "\n",
    "# Training\n",
    "model_forest = RandomForestClassifier(criterion='entropy',\n",
    "                                n_estimators=30, \n",
    "                                random_state=1,\n",
    "                                n_jobs=2)\n",
    "model_forest.fit(X_train, y_train)\n",
    "# Predicting\n",
    "y_pred_forest = model_forest.predict(X_test_std)\n",
    "# accuracy checking\n",
    "check_accuracy(y_pred_forest)"
   ]
  },
  {
   "cell_type": "markdown",
   "metadata": {
    "nbpresent": {
     "id": "b094eb78-1202-4a22-806d-f80f34a687e0"
    },
    "slideshow": {
     "slide_type": "fragment"
    }
   },
   "source": [
    "## Classifier #6 KNN"
   ]
  },
  {
   "cell_type": "code",
   "execution_count": 144,
   "metadata": {
    "collapsed": false,
    "nbpresent": {
     "id": "7adc3443-85a0-42ca-b862-4d677eaabd6f"
    }
   },
   "outputs": [
    {
     "name": "stdout",
     "output_type": "stream",
     "text": [
      "Misclassified samples: 16 out of 540\n",
      "Accuracy: 0.97\n"
     ]
    }
   ],
   "source": [
    "#Your code, including traing and testing, to observe the accuracies.\n",
    "from sklearn.neighbors import KNeighborsClassifier\n",
    "\n",
    "# Training\n",
    "model_knn = KNeighborsClassifier(n_neighbors=5, p=2, metric='minkowski')\n",
    "model_knn.fit(X_train_std, y_train)\n",
    "# Predicting\n",
    "y_pred_knn = model_knn.predict(X_test_std)\n",
    "# accuracy checking\n",
    "check_accuracy(y_pred_knn)"
   ]
  },
  {
   "cell_type": "markdown",
   "metadata": {
    "nbpresent": {
     "id": "a35b851f-d438-4748-9978-3ee678fe15b9"
    },
    "slideshow": {
     "slide_type": "fragment"
    }
   },
   "source": [
    "## Classifier #7 Naive Bayes"
   ]
  },
  {
   "cell_type": "code",
   "execution_count": 147,
   "metadata": {
    "collapsed": false,
    "nbpresent": {
     "id": "7f1758ad-e69b-4f57-81b6-c292cd932258"
    }
   },
   "outputs": [
    {
     "name": "stdout",
     "output_type": "stream",
     "text": [
      "Misclassified samples: 125 out of 540\n",
      "Accuracy: 0.77\n"
     ]
    }
   ],
   "source": [
    "#Your code, including traing and testing, to observe the accuracies.\n",
    "from sklearn.naive_bayes import GaussianNB\n",
    "\n",
    "# Training\n",
    "model_gnb = GaussianNB()\n",
    "model_gnb.fit(X_train_std, y_train)\n",
    "# Predicting\n",
    "y_pred_gnb = model_gnb.predict(X_test_std)\n",
    "# accuracy checking\n",
    "check_accuracy(y_pred_gnb)"
   ]
  }
 ],
 "metadata": {
  "anaconda-cloud": {},
  "celltoolbar": "Slideshow",
  "kernelspec": {
   "display_name": "Python [Root]",
   "language": "python",
   "name": "Python [Root]"
  },
  "language_info": {
   "codemirror_mode": {
    "name": "ipython",
    "version": 3
   },
   "file_extension": ".py",
   "mimetype": "text/x-python",
   "name": "python",
   "nbconvert_exporter": "python",
   "pygments_lexer": "ipython3",
   "version": "3.5.2"
  },
  "nbpresent": {
   "slides": {
    "0afe45e7-dfb3-4cb0-a368-48aa24bc1ca0": {
     "id": "0afe45e7-dfb3-4cb0-a368-48aa24bc1ca0",
     "prev": "8b88a477-6d76-4138-a17b-c8f0cd7e075e",
     "regions": {
      "b0928964-76c3-4304-8268-9970eccfa59a": {
       "attrs": {
        "height": 0.8,
        "width": 0.8,
        "x": 0.1,
        "y": 0.1
       },
       "content": {
        "cell": "4a200ce1-78e6-4d4c-891a-c519a864fb2b",
        "part": "whole"
       },
       "id": "b0928964-76c3-4304-8268-9970eccfa59a"
      }
     }
    },
    "0cf57079-7967-4968-a857-499d186ca8b7": {
     "id": "0cf57079-7967-4968-a857-499d186ca8b7",
     "prev": "fb61b970-7b45-43eb-b0ac-077c14363aca",
     "regions": {
      "fbf98f92-bab1-4dc0-b5aa-e6c0c0650d24": {
       "attrs": {
        "height": 0.8,
        "width": 0.8,
        "x": 0.1,
        "y": 0.1
       },
       "content": {
        "cell": "2c26001e-718e-443b-b403-7bc4cc00ab01",
        "part": "whole"
       },
       "id": "fbf98f92-bab1-4dc0-b5aa-e6c0c0650d24"
      }
     }
    },
    "0fc2dca8-a4bb-4c89-b7f7-e6ff24265c43": {
     "id": "0fc2dca8-a4bb-4c89-b7f7-e6ff24265c43",
     "prev": "d7ef8c3d-def3-4684-b4b7-e0a982cb863e",
     "regions": {
      "f1dcc6f1-0b35-41ad-909e-d6f9c9fcb525": {
       "attrs": {
        "height": 0.8,
        "width": 0.8,
        "x": 0.1,
        "y": 0.1
       },
       "content": {
        "cell": "8e2d2073-135a-44dc-b809-cc3f1138f444",
        "part": "whole"
       },
       "id": "f1dcc6f1-0b35-41ad-909e-d6f9c9fcb525"
      }
     }
    },
    "258e213a-b5c4-4cf6-88e9-7eebe4092988": {
     "id": "258e213a-b5c4-4cf6-88e9-7eebe4092988",
     "prev": "931d2b96-73ff-4eb6-ba1c-848e10220ef1",
     "regions": {
      "8b950986-73aa-46d6-8b8e-de61b63b19bf": {
       "attrs": {
        "height": 0.8,
        "width": 0.8,
        "x": 0.1,
        "y": 0.1
       },
       "content": {
        "cell": "b0bb94be-bfa8-42ab-bfec-fa5fc14e62a7",
        "part": "whole"
       },
       "id": "8b950986-73aa-46d6-8b8e-de61b63b19bf"
      }
     }
    },
    "25cff35d-d157-46ca-be36-cb622afa530d": {
     "id": "25cff35d-d157-46ca-be36-cb622afa530d",
     "prev": "499766f9-1ef6-4012-8eca-9a4cafa01e72",
     "regions": {
      "166402e4-3079-49bb-bba8-765aacff4f31": {
       "attrs": {
        "height": 0.8,
        "width": 0.8,
        "x": 0.1,
        "y": 0.1
       },
       "content": {
        "cell": "c8d53fd3-4211-4155-8083-fa60aa9f2ee3",
        "part": "whole"
       },
       "id": "166402e4-3079-49bb-bba8-765aacff4f31"
      }
     }
    },
    "3b016b14-96f7-41ba-820f-ff4b094cd2db": {
     "id": "3b016b14-96f7-41ba-820f-ff4b094cd2db",
     "prev": "914f119f-1831-4bb8-842b-e56d51720667",
     "regions": {
      "69e36588-3ad6-42ea-a327-b03ea1d62c93": {
       "attrs": {
        "height": 0.8,
        "width": 0.8,
        "x": 0.1,
        "y": 0.1
       },
       "content": {
        "cell": "038f8316-4089-44bf-9b0b-63a68d54046a",
        "part": "whole"
       },
       "id": "69e36588-3ad6-42ea-a327-b03ea1d62c93"
      }
     }
    },
    "3e90ff5b-0db3-4438-8a3f-b3c561a06b19": {
     "id": "3e90ff5b-0db3-4438-8a3f-b3c561a06b19",
     "prev": "a10a180f-82e8-43dd-8516-2ec5f8cbc8c3",
     "regions": {
      "f5f6a19e-4650-4776-940d-7fb46ac6909e": {
       "attrs": {
        "height": 0.8,
        "width": 0.8,
        "x": 0.1,
        "y": 0.1
       },
       "content": {
        "cell": "26c10334-1a37-42e0-97be-d2714de37f4b",
        "part": "whole"
       },
       "id": "f5f6a19e-4650-4776-940d-7fb46ac6909e"
      }
     }
    },
    "3eb433c6-e8e5-4278-a7a2-72367a56d427": {
     "id": "3eb433c6-e8e5-4278-a7a2-72367a56d427",
     "prev": "258e213a-b5c4-4cf6-88e9-7eebe4092988",
     "regions": {
      "617448b8-63b4-4880-92d5-3e04c37950b4": {
       "attrs": {
        "height": 0.8,
        "width": 0.8,
        "x": 0.1,
        "y": 0.1
       },
       "content": {
        "cell": "7cda7f2b-ca7a-465e-a1ff-ab240e4c7fae",
        "part": "whole"
       },
       "id": "617448b8-63b4-4880-92d5-3e04c37950b4"
      }
     }
    },
    "499766f9-1ef6-4012-8eca-9a4cafa01e72": {
     "id": "499766f9-1ef6-4012-8eca-9a4cafa01e72",
     "prev": "0afe45e7-dfb3-4cb0-a368-48aa24bc1ca0",
     "regions": {
      "fb65322b-225f-4ee6-afb4-ee2d5e731c1b": {
       "attrs": {
        "height": 0.8,
        "width": 0.8,
        "x": 0.1,
        "y": 0.1
       },
       "content": {
        "cell": "07aa520d-6066-4abc-adcb-7b462c3e3375",
        "part": "whole"
       },
       "id": "fb65322b-225f-4ee6-afb4-ee2d5e731c1b"
      }
     }
    },
    "4d52a89b-afc3-4fbb-a861-71352a1295ee": {
     "id": "4d52a89b-afc3-4fbb-a861-71352a1295ee",
     "prev": "b8571ff8-2aa0-471b-99be-404c39599b58",
     "regions": {
      "0061f7d4-8fcb-4949-8ca4-1c7312d9e520": {
       "attrs": {
        "height": 0.8,
        "width": 0.8,
        "x": 0.1,
        "y": 0.1
       },
       "content": {
        "cell": "8ddc550e-4011-490d-b4a1-190f5493076f",
        "part": "whole"
       },
       "id": "0061f7d4-8fcb-4949-8ca4-1c7312d9e520"
      }
     }
    },
    "5c49b790-32e7-4430-854a-a65bfc768967": {
     "id": "5c49b790-32e7-4430-854a-a65bfc768967",
     "prev": "e855a478-c7e8-446c-b11f-a11df7ffcb14",
     "regions": {
      "385c5224-e593-4f4e-8961-9af19c02c700": {
       "attrs": {
        "height": 0.8,
        "width": 0.8,
        "x": 0.1,
        "y": 0.1
       },
       "content": {
        "cell": "0be670b1-cfcc-4374-8ca1-c5b88a1ac6dd",
        "part": "whole"
       },
       "id": "385c5224-e593-4f4e-8961-9af19c02c700"
      }
     }
    },
    "666aceaf-d003-4bc9-8acd-fd2b3e2f6958": {
     "id": "666aceaf-d003-4bc9-8acd-fd2b3e2f6958",
     "prev": "3b016b14-96f7-41ba-820f-ff4b094cd2db",
     "regions": {
      "ab8d2757-d8c4-48e9-96f2-f02867ddd4c1": {
       "attrs": {
        "height": 0.8,
        "width": 0.8,
        "x": 0.1,
        "y": 0.1
       },
       "content": {
        "cell": "0b08424e-ce6a-4c15-b5f8-05508e877316",
        "part": "whole"
       },
       "id": "ab8d2757-d8c4-48e9-96f2-f02867ddd4c1"
      }
     }
    },
    "6692268d-cefb-44e8-8d42-fc8385cb42f7": {
     "id": "6692268d-cefb-44e8-8d42-fc8385cb42f7",
     "prev": "84428909-1509-42f2-ac2b-07d6eb2718ed",
     "regions": {
      "9dac4aa4-8d06-4622-8248-a508694e63a6": {
       "attrs": {
        "height": 0.8,
        "width": 0.8,
        "x": 0.1,
        "y": 0.1
       },
       "content": {
        "cell": "b094eb78-1202-4a22-806d-f80f34a687e0",
        "part": "whole"
       },
       "id": "9dac4aa4-8d06-4622-8248-a508694e63a6"
      }
     }
    },
    "7a02fee6-8af4-4c12-b253-d0d314e8c736": {
     "id": "7a02fee6-8af4-4c12-b253-d0d314e8c736",
     "prev": "a77a65e2-e404-4f7b-b730-72016af72323",
     "regions": {
      "8cd27cd4-7dd7-4568-a11f-f847b16af1d1": {
       "attrs": {
        "height": 0.8,
        "width": 0.8,
        "x": 0.1,
        "y": 0.1
       },
       "content": {
        "cell": "7f1758ad-e69b-4f57-81b6-c292cd932258",
        "part": "whole"
       },
       "id": "8cd27cd4-7dd7-4568-a11f-f847b16af1d1"
      }
     }
    },
    "7f52d432-2e4a-4553-a941-6ce27dfe2ffb": {
     "id": "7f52d432-2e4a-4553-a941-6ce27dfe2ffb",
     "prev": "eea77faa-3886-4106-b1a9-7baa753f14e4",
     "regions": {
      "b5c358fa-42eb-4643-a2eb-e7e276dfcf33": {
       "attrs": {
        "height": 0.8,
        "width": 0.8,
        "x": 0.1,
        "y": 0.1
       },
       "content": {
        "cell": "d591c881-868a-4e56-88f7-25bdeea6eeef",
        "part": "whole"
       },
       "id": "b5c358fa-42eb-4643-a2eb-e7e276dfcf33"
      }
     }
    },
    "84428909-1509-42f2-ac2b-07d6eb2718ed": {
     "id": "84428909-1509-42f2-ac2b-07d6eb2718ed",
     "prev": "c683acca-e99b-43d2-902b-843e1daf2806",
     "regions": {
      "fd02ee4e-5088-4ca4-a1c7-a8cbf1bfb9c8": {
       "attrs": {
        "height": 0.8,
        "width": 0.8,
        "x": 0.1,
        "y": 0.1
       },
       "content": {
        "cell": "02b5728a-d2f0-4af9-8ed1-79c962816722",
        "part": "whole"
       },
       "id": "fd02ee4e-5088-4ca4-a1c7-a8cbf1bfb9c8"
      }
     }
    },
    "8b88a477-6d76-4138-a17b-c8f0cd7e075e": {
     "id": "8b88a477-6d76-4138-a17b-c8f0cd7e075e",
     "prev": "0fc2dca8-a4bb-4c89-b7f7-e6ff24265c43",
     "regions": {
      "d9a25f1f-c3fb-4632-a10c-e27f6b56654f": {
       "attrs": {
        "height": 0.8,
        "width": 0.8,
        "x": 0.1,
        "y": 0.1
       },
       "content": {
        "cell": "e28071b7-4d1c-4e17-874b-400883907958",
        "part": "whole"
       },
       "id": "d9a25f1f-c3fb-4632-a10c-e27f6b56654f"
      }
     }
    },
    "914f119f-1831-4bb8-842b-e56d51720667": {
     "id": "914f119f-1831-4bb8-842b-e56d51720667",
     "prev": "f10a97e1-340d-447c-b1b8-0c73bf92df65",
     "regions": {
      "7ce91583-bab3-412a-8df2-8271773dde3d": {
       "attrs": {
        "height": 0.8,
        "width": 0.8,
        "x": 0.1,
        "y": 0.1
       },
       "content": {
        "cell": "975c6cee-f0f8-494c-93a4-cc1699a1cbcb",
        "part": "whole"
       },
       "id": "7ce91583-bab3-412a-8df2-8271773dde3d"
      }
     }
    },
    "931d2b96-73ff-4eb6-ba1c-848e10220ef1": {
     "id": "931d2b96-73ff-4eb6-ba1c-848e10220ef1",
     "prev": "98461aa1-e193-4e9b-bbc0-b8def4fe39a7",
     "regions": {
      "7b817e28-ef74-4bb6-b219-8a47f3c1024c": {
       "attrs": {
        "height": 0.8,
        "width": 0.8,
        "x": 0.1,
        "y": 0.1
       },
       "content": {
        "cell": "d3ec125f-0a12-440a-a518-fdc0e62504cf",
        "part": "whole"
       },
       "id": "7b817e28-ef74-4bb6-b219-8a47f3c1024c"
      }
     }
    },
    "98461aa1-e193-4e9b-bbc0-b8def4fe39a7": {
     "id": "98461aa1-e193-4e9b-bbc0-b8def4fe39a7",
     "prev": null,
     "regions": {
      "dccbff7c-7c89-42e1-b583-86378b0cd921": {
       "attrs": {
        "height": 0.8,
        "width": 0.8,
        "x": 0.1,
        "y": 0.1
       },
       "content": {
        "cell": "519571f7-cf32-4d47-9e68-1e11b0897078",
        "part": "whole"
       },
       "id": "dccbff7c-7c89-42e1-b583-86378b0cd921"
      }
     }
    },
    "a10a180f-82e8-43dd-8516-2ec5f8cbc8c3": {
     "id": "a10a180f-82e8-43dd-8516-2ec5f8cbc8c3",
     "prev": "e10cc23b-6340-4f92-846a-a0f86530f4e9",
     "regions": {
      "5160b616-f58a-43f5-a766-46c6a81612da": {
       "attrs": {
        "height": 0.8,
        "width": 0.8,
        "x": 0.1,
        "y": 0.1
       },
       "content": {
        "cell": "d10474ec-2d23-4b91-b40d-90068bab9a59",
        "part": "whole"
       },
       "id": "5160b616-f58a-43f5-a766-46c6a81612da"
      }
     }
    },
    "a77a65e2-e404-4f7b-b730-72016af72323": {
     "id": "a77a65e2-e404-4f7b-b730-72016af72323",
     "prev": "f4eac5f8-13f6-4706-a195-943e75d5cf30",
     "regions": {
      "a1f030fa-e7e7-4b7f-80e9-3d88e553095a": {
       "attrs": {
        "height": 0.8,
        "width": 0.8,
        "x": 0.1,
        "y": 0.1
       },
       "content": {
        "cell": "a35b851f-d438-4748-9978-3ee678fe15b9",
        "part": "whole"
       },
       "id": "a1f030fa-e7e7-4b7f-80e9-3d88e553095a"
      }
     }
    },
    "a8a6f8fa-96c3-49d1-8605-f54edeb57e64": {
     "id": "a8a6f8fa-96c3-49d1-8605-f54edeb57e64",
     "prev": "0cf57079-7967-4968-a857-499d186ca8b7",
     "regions": {
      "f45cf36f-aba7-4fa4-9bd7-d67d27a91d60": {
       "attrs": {
        "height": 0.8,
        "width": 0.8,
        "x": 0.1,
        "y": 0.1
       },
       "content": {
        "cell": "d60065cc-a014-44fc-b111-2340841d9fcf",
        "part": "whole"
       },
       "id": "f45cf36f-aba7-4fa4-9bd7-d67d27a91d60"
      }
     }
    },
    "b8571ff8-2aa0-471b-99be-404c39599b58": {
     "id": "b8571ff8-2aa0-471b-99be-404c39599b58",
     "prev": "ff995db0-316f-490d-9664-737a6cb579c7",
     "regions": {
      "c54c2311-02c5-4ddb-8d99-b20d2299fd19": {
       "attrs": {
        "height": 0.8,
        "width": 0.8,
        "x": 0.1,
        "y": 0.1
       },
       "content": {
        "cell": "6698f670-62d5-4742-91e5-3d865b8ecfaf",
        "part": "whole"
       },
       "id": "c54c2311-02c5-4ddb-8d99-b20d2299fd19"
      }
     }
    },
    "c683acca-e99b-43d2-902b-843e1daf2806": {
     "id": "c683acca-e99b-43d2-902b-843e1daf2806",
     "prev": "a8a6f8fa-96c3-49d1-8605-f54edeb57e64",
     "regions": {
      "6addd06a-46fc-4422-957f-39ce372bbefb": {
       "attrs": {
        "height": 0.8,
        "width": 0.8,
        "x": 0.1,
        "y": 0.1
       },
       "content": {
        "cell": "7c1d6396-2e65-4a0a-a2d5-a4d84c7b5f04",
        "part": "whole"
       },
       "id": "6addd06a-46fc-4422-957f-39ce372bbefb"
      }
     }
    },
    "cfe22ebe-19ae-425b-b26c-c6641a8461b2": {
     "id": "cfe22ebe-19ae-425b-b26c-c6641a8461b2",
     "prev": "5c49b790-32e7-4430-854a-a65bfc768967",
     "regions": {
      "7928f43f-2f1f-488a-89df-4761aea604fe": {
       "attrs": {
        "height": 0.8,
        "width": 0.8,
        "x": 0.1,
        "y": 0.1
       },
       "content": {
        "cell": "0bea03c4-87d3-46a7-a892-c8903597b723",
        "part": "whole"
       },
       "id": "7928f43f-2f1f-488a-89df-4761aea604fe"
      }
     }
    },
    "d7ef8c3d-def3-4684-b4b7-e0a982cb863e": {
     "id": "d7ef8c3d-def3-4684-b4b7-e0a982cb863e",
     "prev": "3e90ff5b-0db3-4438-8a3f-b3c561a06b19",
     "regions": {
      "3102aa4f-b431-4359-8f9d-3c2fc4182ff1": {
       "attrs": {
        "height": 0.8,
        "width": 0.8,
        "x": 0.1,
        "y": 0.1
       },
       "content": {
        "cell": "282f6eeb-c6e2-44b7-bb74-a22e7c159866",
        "part": "whole"
       },
       "id": "3102aa4f-b431-4359-8f9d-3c2fc4182ff1"
      }
     }
    },
    "defe31ae-fef0-4cff-befb-018f167ea01a": {
     "id": "defe31ae-fef0-4cff-befb-018f167ea01a",
     "prev": "3eb433c6-e8e5-4278-a7a2-72367a56d427",
     "regions": {
      "145c4b26-aa69-4e63-868c-2627a0e9fad4": {
       "attrs": {
        "height": 0.8,
        "width": 0.8,
        "x": 0.1,
        "y": 0.1
       },
       "content": {
        "cell": "2bae42b5-f8f7-4f3f-9cc2-58ab1b190692",
        "part": "whole"
       },
       "id": "145c4b26-aa69-4e63-868c-2627a0e9fad4"
      }
     }
    },
    "e10cc23b-6340-4f92-846a-a0f86530f4e9": {
     "id": "e10cc23b-6340-4f92-846a-a0f86530f4e9",
     "prev": "cfe22ebe-19ae-425b-b26c-c6641a8461b2",
     "regions": {
      "929902b4-ff83-4e14-990e-e896dfa92b6a": {
       "attrs": {
        "height": 0.8,
        "width": 0.8,
        "x": 0.1,
        "y": 0.1
       },
       "content": {
        "cell": "d8046b5a-7c75-4a0f-ad79-6de771a60125",
        "part": "whole"
       },
       "id": "929902b4-ff83-4e14-990e-e896dfa92b6a"
      }
     }
    },
    "e855a478-c7e8-446c-b11f-a11df7ffcb14": {
     "id": "e855a478-c7e8-446c-b11f-a11df7ffcb14",
     "prev": "4d52a89b-afc3-4fbb-a861-71352a1295ee",
     "regions": {
      "16ac7e81-10bf-4d78-9695-989944643344": {
       "attrs": {
        "height": 0.8,
        "width": 0.8,
        "x": 0.1,
        "y": 0.1
       },
       "content": {
        "cell": "54f28f6e-e505-41e3-8e9b-9b6fcd88d0d0",
        "part": "whole"
       },
       "id": "16ac7e81-10bf-4d78-9695-989944643344"
      }
     }
    },
    "eea77faa-3886-4106-b1a9-7baa753f14e4": {
     "id": "eea77faa-3886-4106-b1a9-7baa753f14e4",
     "prev": "666aceaf-d003-4bc9-8acd-fd2b3e2f6958",
     "regions": {
      "d716cfa1-7fd4-4123-ad95-91676fe49347": {
       "attrs": {
        "height": 0.8,
        "width": 0.8,
        "x": 0.1,
        "y": 0.1
       },
       "content": {
        "cell": "26cd5b73-dff7-4ea5-b1d5-d8b608e4da61",
        "part": "whole"
       },
       "id": "d716cfa1-7fd4-4123-ad95-91676fe49347"
      }
     }
    },
    "f10a97e1-340d-447c-b1b8-0c73bf92df65": {
     "id": "f10a97e1-340d-447c-b1b8-0c73bf92df65",
     "prev": "defe31ae-fef0-4cff-befb-018f167ea01a",
     "regions": {
      "859d9ef6-8483-4fcb-a6dd-681d7aa6d3bc": {
       "attrs": {
        "height": 0.8,
        "width": 0.8,
        "x": 0.1,
        "y": 0.1
       },
       "content": {
        "cell": "bc060180-1690-468e-aa18-dd9eb0f12878",
        "part": "whole"
       },
       "id": "859d9ef6-8483-4fcb-a6dd-681d7aa6d3bc"
      }
     }
    },
    "f4eac5f8-13f6-4706-a195-943e75d5cf30": {
     "id": "f4eac5f8-13f6-4706-a195-943e75d5cf30",
     "prev": "6692268d-cefb-44e8-8d42-fc8385cb42f7",
     "regions": {
      "0c19f394-ea02-44f8-a35e-8c4cd2918982": {
       "attrs": {
        "height": 0.8,
        "width": 0.8,
        "x": 0.1,
        "y": 0.1
       },
       "content": {
        "cell": "7adc3443-85a0-42ca-b862-4d677eaabd6f",
        "part": "whole"
       },
       "id": "0c19f394-ea02-44f8-a35e-8c4cd2918982"
      }
     }
    },
    "fb61b970-7b45-43eb-b0ac-077c14363aca": {
     "id": "fb61b970-7b45-43eb-b0ac-077c14363aca",
     "prev": "25cff35d-d157-46ca-be36-cb622afa530d",
     "regions": {
      "0480a9d5-fd43-4c32-8813-515da50b635e": {
       "attrs": {
        "height": 0.8,
        "width": 0.8,
        "x": 0.1,
        "y": 0.1
       },
       "content": {
        "cell": "ddde799e-a834-4c75-acaf-4a004e3075d2",
        "part": "whole"
       },
       "id": "0480a9d5-fd43-4c32-8813-515da50b635e"
      }
     }
    },
    "ff995db0-316f-490d-9664-737a6cb579c7": {
     "id": "ff995db0-316f-490d-9664-737a6cb579c7",
     "prev": "7f52d432-2e4a-4553-a941-6ce27dfe2ffb",
     "regions": {
      "0c2be6bb-299e-48cd-a162-f615b02361c0": {
       "attrs": {
        "height": 0.8,
        "width": 0.8,
        "x": 0.1,
        "y": 0.1
       },
       "content": {
        "cell": "da9ccdff-7d7e-40a1-846a-1497aa6b82ed",
        "part": "whole"
       },
       "id": "0c2be6bb-299e-48cd-a162-f615b02361c0"
      }
     }
    }
   },
   "themes": {}
  }
 },
 "nbformat": 4,
 "nbformat_minor": 0
}

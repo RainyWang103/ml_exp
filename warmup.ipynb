{
 "cells": [
  {
   "cell_type": "markdown",
   "metadata": {},
   "source": [
    "# COMP3314 Assignment 1\n",
    "\n",
    "### Wang Yuli 3035028946\n"
   ]
  },
  {
   "cell_type": "markdown",
   "metadata": {},
   "source": [
    "## Code: Sorting"
   ]
  },
  {
   "cell_type": "markdown",
   "metadata": {},
   "source": [
    "Sorting Algorithm: selection sort, by selecting smallest numbers and swapping to front in each iteration\n",
    "\n",
    "Complexity: O(n^2)"
   ]
  },
  {
   "cell_type": "code",
   "execution_count": 1,
   "metadata": {
    "collapsed": true
   },
   "outputs": [],
   "source": [
    "# the function:\n",
    "def sort(values):\n",
    "    for i in range(0, len(values)):\n",
    "        min_index = i\n",
    "        for j in range (i+1, len(values)):\n",
    "            if(values[min_index] > values[j]):\n",
    "                min_index = j\n",
    "        # swapping:\n",
    "        temp = values[min_index]\n",
    "        values[min_index] = values[i]\n",
    "        values[i] = temp\n",
    "    return values"
   ]
  },
  {
   "cell_type": "code",
   "execution_count": 2,
   "metadata": {
    "collapsed": false
   },
   "outputs": [
    {
     "name": "stdout",
     "output_type": "stream",
     "text": [
      "Correct? True\n"
     ]
    }
   ],
   "source": [
    "# main\n",
    "import numpy as np\n",
    "\n",
    "# different random seed\n",
    "np.random.seed()\n",
    "\n",
    "# generate numbers\n",
    "N = 20\n",
    "# the TA will vary the input array size and content during testing\n",
    "values = np.random.random([N])\n",
    "\n",
    "sort(values)\n",
    "\n",
    "correct = True\n",
    "for index in range(1, len(values)):\n",
    "    if(values[index-1] > values[index]):\n",
    "        correct = False\n",
    "print('Correct? ' + str(correct))"
   ]
  },
  {
   "cell_type": "markdown",
   "metadata": {},
   "source": [
    "## Math: line fitting"
   ]
  },
  {
   "cell_type": "markdown",
   "metadata": {},
   "source": [
    "Given:\n",
    "\\begin{align}\n",
    "\\frac{\\partial L}{\\partial w_0} & = 0 \\\\\n",
    "\\frac{\\partial L}{\\partial w_1} & = 0\n",
    "\\end{align}\n",
    "\n",
    "We have:\n",
    "\\begin{align}\n",
    "\\frac{\\partial \\sum_i \\left( T^{(i)} - w_1 X^{(i)} - w_0 \\right)^2}{\\partial w_0} &= 0 \\\\\n",
    "\\frac{\\partial \\sum_i \\left( T^{(i)} - w_1 X^{(i)} - w_0 \\right)^2}{\\partial w_1} &= 0\n",
    "\\end{align}\n",
    "\n",
    "Therefore:\n",
    "\\begin{align}\n",
    "\\sum_i \\left( T^{(i)} - w_1 X^{(i)} - w_0 \\right) &= 0 \\\\\n",
    "\\sum_i \\left(X^{(i)} \\left( T^{(i)} - w_1 X^{(i)} - w_0 \\right)\\right)&= 0\n",
    "\\end{align}\n",
    "\n",
    "From the first above, we have:\n",
    "\\begin{align}\n",
    "w_1 &= \\frac{\\sum_i \\left( T^{(i)} - w_0 \\right)}{\\sum_i X^{(i)}} \\\\\n",
    "\\end{align}\n",
    "\n",
    "Solve the group of equations, we have:\n",
    "\n",
    "Assume: X and T each have N rows, Thus:\n",
    "\\begin{align}\n",
    "w_0 &= \\frac{\\sum_i X^{(i)} \\sum_i X^{(i)}T^{(i)} - \\sum_i T^{(i)}\\sum_i \\left(X^{(i)}\\right)^2} {\\left(\\sum_i(X^{(i)}\\right)^2 - N \\sum_i \\left(X^{(i)}\\right)^2} \\\\\n",
    "w_1 &= \\frac{\\sum_i T^{(i)}}{\\sum_i X^{(i)}} - \\frac{N\\sum_i X^{(i)} \\sum_i X^{(i)}T^{(i)} - N\\sum_i T^{(i)}\\sum_i \\left(X^{(i)}\\right)^2} {\\left(\\sum_i(X^{(i)}\\right)^3 - N \\sum_i \\left(X^{(i)}\\right)^2\\sum_i X^{(i)}}\n",
    "\\end{align}"
   ]
  },
  {
   "cell_type": "markdown",
   "metadata": {},
   "source": [
    "## Code: Regression Model"
   ]
  },
  {
   "cell_type": "markdown",
   "metadata": {},
   "source": [
    "In function Line.learn(): parameter w0 and w1 are computed according to the equation for w0 and relationship between w0 & w1 as stated above.\n",
    "\n",
    "Since the noise is non-zero, certain error will be generated in the predict line plotted. However, if the noise is zero, the two lines should be exactly the same"
   ]
  },
  {
   "cell_type": "code",
   "execution_count": 3,
   "metadata": {
    "collapsed": false
   },
   "outputs": [],
   "source": [
    "# line model\n",
    "import numpy as np\n",
    "\n",
    "class Line(object):\n",
    "    def __init__(self, w0, w1):\n",
    "        self.w0 = w0\n",
    "        self.w1 = w1\n",
    "        \n",
    "    def predict(self, x, noise=0):\n",
    "        return (x*self.w1 + self.w0 + noise*np.random.normal())\n",
    "\n",
    "    # Input: data, a 2D array with each (x, t) pair on a row\n",
    "    # Return: w0 and w1, the intercept and slope of the fitted line\n",
    "    def learn(self, data):\n",
    "        # replace the default code below which simply does random computation \n",
    "        X = data[:,0]\n",
    "        T = data[:,1]\n",
    "        N = data.shape[0]\n",
    "        w0 = (np.sum(X)*np.sum(np.multiply(X,T)) - np.sum(T)*np.sum(np.square(X))) / (np.sum(X) ** 2 - N*np.sum(np.square(X)))\n",
    "        w0_array = np.full((1,20),w0)\n",
    "        w1 = np.sum(np.subtract(T,w0_array)) / np.sum(X)\n",
    "        \n",
    "        return w0, w1"
   ]
  },
  {
   "cell_type": "code",
   "execution_count": 4,
   "metadata": {
    "collapsed": false
   },
   "outputs": [
    {
     "name": "stdout",
     "output_type": "stream",
     "text": [
      "truth:   0.09075222324067345 -0.5299907619712287\n",
      "predict: 0.0601894062101 -0.501645650579\n"
     ]
    }
   ],
   "source": [
    "# test\n",
    "np.random.seed()\n",
    "\n",
    "w0 = np.asscalar(np.random.random(1))*2-1\n",
    "w1 = np.asscalar(np.random.random(1))*2-1\n",
    "\n",
    "line = Line(w0, w1)\n",
    "\n",
    "N = 20\n",
    "noise = 0.05\n",
    "X = np.random.random([N])\n",
    "T = []\n",
    "for x in X:\n",
    "    T.append(np.sum(line.predict(x, noise)))\n",
    "T = np.array(T)  \n",
    "\n",
    "#data = np.vstack((X, T)).transpose()\n",
    "data = np.array([X, T]).transpose()\n",
    "\n",
    "w0_fit, w1_fit = line.learn(data)\n",
    "\n",
    "line_fit = Line(w0_fit, w1_fit)\n",
    "\n",
    "print('truth:   ' + str(w0) + ' ' + str(w1))\n",
    "print('predict: ' + str(w0_fit) + ' ' + str(w1_fit))"
   ]
  },
  {
   "cell_type": "code",
   "execution_count": 5,
   "metadata": {
    "collapsed": false
   },
   "outputs": [
    {
     "data": {
      "image/png": "[encoded data removed]",
      "text/plain": [
       "<matplotlib.figure.Figure at 0x10ca2cb38>"
      ]
     },
     "metadata": {},
     "output_type": "display_data"
    }
   ],
   "source": [
    "# plot\n",
    "import matplotlib.pyplot as plt\n",
    "%matplotlib inline\n",
    "\n",
    "plt.scatter(data[:, 0], data[:, 1], color='black', marker='o')\n",
    "\n",
    "X_endpoints = [0, 1]\n",
    "Y_truth, Y_fit = [], []\n",
    "for x in X_endpoints:\n",
    "    Y_truth.append(line.predict(x))\n",
    "    Y_fit.append(line_fit.predict(x))\n",
    "    \n",
    "plt.plot(X_endpoints, Y_truth, color='blue', label='truth')\n",
    "plt.plot(X_endpoints, Y_fit, color='red', label='predict')\n",
    "\n",
    "plt.legend(loc='best')\n",
    "plt.tight_layout()\n",
    "plt.show()"
   ]
  },
  {
   "cell_type": "code",
   "execution_count": null,
   "metadata": {
    "collapsed": true
   },
   "outputs": [],
   "source": []
  }
 ],
 "metadata": {
  "anaconda-cloud": {},
  "kernelspec": {
   "display_name": "Python [Root]",
   "language": "python",
   "name": "Python [Root]"
  },
  "language_info": {
   "codemirror_mode": {
    "name": "ipython",
    "version": 3
   },
   "file_extension": ".py",
   "mimetype": "text/x-python",
   "name": "python",
   "nbconvert_exporter": "python",
   "pygments_lexer": "ipython3",
   "version": "3.5.2"
  }
 },
 "nbformat": 4,
 "nbformat_minor": 0
}
